{
 "cells": [
  {
   "cell_type": "markdown",
   "metadata": {},
   "source": [
    "# Delineate Watershed and Reclassify NLCD and Soil Map"
   ]
  },
  {
   "cell_type": "markdown",
   "metadata": {},
   "source": [
    "This notebook edits and finalizes BBGC model inputs using [GRASS GIS](https://grass.osgeo.org/), [R](https://www.r-project.org), and [pyrhessys](https://github.com/DavidChoi76/pyrhessys). Specifically, all GIS files previously downloaded will be clipped to the extent of the AOI and aligned with each other so all cells line up between files."
   ]
  },
  {
   "cell_type": "markdown",
   "metadata": {},
   "source": [
    "## Set the Project Directory and Check Data"
   ]
  },
  {
   "cell_type": "markdown",
   "metadata": {},
   "source": [
    "<div class=\"alert alert-block alert-danger\">\n",
    "<b> Project Name Setting: </b> Please set the Project Name for your project </div>"
   ]
  },
  {
   "cell_type": "code",
   "execution_count": null,
   "metadata": {},
   "outputs": [],
   "source": [
    "# CHANGE PROJECT NAME HERE\n",
    "PROJECT_NAME = 'SERC'\n",
    "\n",
    "# CURRENT DIRECTORY HERE, SET WHERE THE NOTEBOOKS ARE LOCATED\n",
    "CURRENT_DIRECTORY = ''\n",
    "\n",
    "# SET THE SPATIAL RESOLUTION (in meters)\n",
    "SPATIAL_RESOLUTION = 30"
   ]
  },
  {
   "cell_type": "code",
   "execution_count": null,
   "metadata": {},
   "outputs": [],
   "source": [
    "import os, shutil\n",
    "import pyrhessys as pr\n",
    "import pyproj\n",
    "\n",
    "os.chdir(CURRENT_DIRECTORY)"
   ]
  },
  {
   "cell_type": "code",
   "execution_count": null,
   "metadata": {
    "tags": []
   },
   "outputs": [],
   "source": [
    "# Define folder paths as global variables\n",
    "PROJECT_DIR = os.path.join(CURRENT_DIRECTORY, PROJECT_NAME)\n",
    "RAWGIS_DIR = os.path.join(PROJECT_DIR, \"gis_data\")\n",
    "RAWOBS_DIR = os.path.join(PROJECT_DIR, \"obs\")\n",
    "RAWSOIL_DIR = os.path.join(RAWGIS_DIR, \"soil\")\n",
    "MODEL_DIR = os.path.join(PROJECT_DIR, 'model')\n",
    "DEF_DIR = os.path.join(MODEL_DIR, 'defs')\n",
    "INI_DIR = os.path.join(MODEL_DIR, 'ini_files')\n",
    "EPC_DIR = os.path.join(MODEL_DIR, 'epc_files')\n",
    "OUTPUT_DIR = os.path.join(MODEL_DIR, 'output')\n",
    "CO2_DIR = os.path.join(MODEL_DIR, 'co2')\n",
    "NDEP_DIR = os.path.join(MODEL_DIR, 'ndep')\n",
    "ENDPOINT_DIR = os.path.join(MODEL_DIR, 'endpoint_files')\n",
    "SPINUP_DIR = os.path.join(MODEL_DIR, 'spinup')\n",
    "NORMAL_DIR = os.path.join(MODEL_DIR, 'normal')\n",
    "MODEL_RAST_DIR = os.path.join(MODEL_DIR, 'raster_inputs')\n",
    "IMAGE = os.path.join(PROJECT_DIR, 'image_map')"
   ]
  },
  {
   "cell_type": "markdown",
   "metadata": {},
   "source": [
    "## Check Raw GIS Data and Set Paths\n",
    "> #### Check raw gis data in `RAWGIS_DIR (gis_data folder)` which downloaded from HydroShare"
   ]
  },
  {
   "cell_type": "code",
   "execution_count": null,
   "metadata": {
    "tags": []
   },
   "outputs": [],
   "source": [
    "raw_data_dir = os.listdir(RAWGIS_DIR)\n",
    "raw_data_dir"
   ]
  },
  {
   "cell_type": "markdown",
   "metadata": {},
   "source": [
    "<div class=\"alert alert-block alert-danger\">\n",
    "<b> Please change the name of specific gis files and time series data like you named raw data. </b>  </div>"
   ]
  },
  {
   "cell_type": "code",
   "execution_count": null,
   "metadata": {
    "tags": []
   },
   "outputs": [],
   "source": [
    "# Set paths to GIS data. Need to change file names if not downloaded from geoserver\n",
    "\n",
    "rawdem = os.path.join(RAWGIS_DIR, 'dem_reprojected.tif')\n",
    "landcover = os.path.join(RAWGIS_DIR, 'nlcd_reprojected.tif')\n",
    "ssurgo_dir = os.path.join(RAWGIS_DIR, 'soil')\n",
    "aoi_file = os.path.join(RAWGIS_DIR, 'AOI_reprojected.shp')\n",
    "daymet_cell = os.path.join(RAWGIS_DIR, 'daymet_cell.tif')"
   ]
  },
  {
   "cell_type": "markdown",
   "metadata": {},
   "source": [
    "## Set up GRASS Dataset and Initialize GRASS\n",
    "> #### This notebook was tested on `GRASS GIS 7.8`.\n",
    "<br>\n",
    "To start to use GRASS GIS and Python library of GRASS GIS, we need to set GRASS database and environment."
   ]
  },
  {
   "cell_type": "code",
   "execution_count": null,
   "metadata": {
    "tags": []
   },
   "outputs": [],
   "source": [
    "import sys\n",
    "import subprocess\n",
    "# Set the directory to store preprocessing GRASS database\n",
    "GRASS_DATA = \"grass_dataset\"\n",
    "GISDBASE = os.path.join(PROJECT_DIR, GRASS_DATA)\n",
    "# Set the full path to GRASS execution\n",
    "GRASSEXE = \"/usr/lib/grass78\" \n",
    "# Set the command to start GRASS from shell\n",
    "GRASS7BIN = \"grass\" \n",
    "\n",
    "\n",
    "# Define and create grass data folder, location, and mapset\n",
    "if not os.path.exists(GISDBASE):\n",
    "    os.mkdir(GISDBASE)\n",
    "LOCATION = os.path.join(GISDBASE, PROJECT_NAME)\n",
    "# Define mapset name which is a working directory for GRASS GIS\n",
    "MAPSET = \"PERMANENT\"\n",
    "\n",
    "# Set GISBASE environment variable\n",
    "os.environ['GISBASE'] = GRASSEXE\n",
    "# The following not needed with trunk\n",
    "os.environ['PATH'] += os.pathsep + os.path.join(GRASSEXE, 'bin')\n",
    "# Set GISDBASE environment variable\n",
    "os.environ['GISDBASE'] = GISDBASE"
   ]
  },
  {
   "cell_type": "code",
   "execution_count": null,
   "metadata": {
    "tags": []
   },
   "outputs": [],
   "source": [
    "# define GRASS-Python environment\n",
    "gpydir = os.path.join(GRASSEXE, \"etc\", \"python\")\n",
    "sys.path.append(gpydir)\n",
    "\n",
    "# import GRASS Python library\n",
    "import grass.script as gscript\n",
    "import grass.script.setup as gsetup\n",
    "gscript.core.set_raise_on_error(True)"
   ]
  },
  {
   "cell_type": "markdown",
   "metadata": {},
   "source": [
    "> #### Launch GRASS session"
   ]
  },
  {
   "cell_type": "code",
   "execution_count": null,
   "metadata": {
    "tags": []
   },
   "outputs": [],
   "source": [
    "gsetup.init(GRASSEXE, GISDBASE, LOCATION, MAPSET)"
   ]
  },
  {
   "cell_type": "markdown",
   "metadata": {},
   "source": [
    "> #### Set Projection, DO NOT CHANGE"
   ]
  },
  {
   "cell_type": "code",
   "execution_count": null,
   "metadata": {
    "tags": []
   },
   "outputs": [],
   "source": [
    "# Set projection, DO NOT CHANGE\n",
    "\n",
    "proj4=\"+proj=lcc +ellps=WGS84 +a=6378137 +b=6356752.314245 +lat_1=25 +lat_2=60 +lon_0=-100 +lat_0=42.5 +x_0=0 +y_0=0 +units=m +no_defs\""
   ]
  },
  {
   "cell_type": "code",
   "execution_count": null,
   "metadata": {
    "tags": []
   },
   "outputs": [],
   "source": [
    "location_path = os.path.join(GISDBASE, LOCATION)\n",
    "# Create GRASS database for the project\n",
    "if not os.path.exists(location_path):\n",
    "    startcmd = GRASS7BIN + ' -c ' + aoi_file + ' -e ' + location_path\n",
    "    print(startcmd)\n",
    "    p = subprocess.Popen(startcmd, shell=True, stdout=subprocess.PIPE, stderr=subprocess.PIPE)\n",
    "    out, err = p.communicate()\n",
    "    print(p.returncode)\n",
    "    if p.returncode != 0:\n",
    "        print >> sys.stderr, 'ERROR: %s' % err\n",
    "        print >> sys.stderr, 'ERROR: Cannot generate location (%s)' % startcmd\n",
    "        sys.exit(-1)"
   ]
  },
  {
   "cell_type": "code",
   "execution_count": null,
   "metadata": {
    "tags": []
   },
   "outputs": [],
   "source": [
    "from IPython.display import Image\n",
    "\n",
    "# Default font displays\n",
    "os.environ['GRASS_FONT'] = 'sans'\n",
    "# Overwrite existing maps\n",
    "os.environ['GRASS_OVERWRITE'] = '1'\n",
    "os.environ['GRASS_RENDER_IMMEDIATE'] = 'cairo'\n",
    "os.environ['GRASS_RENDER_FILE_READ'] = 'TRUE'\n",
    "os.environ['GRASS_LEGEND_FILE'] = 'legend.txt'\n",
    "# Create directories if directories are not previously setup.\n",
    "if not os.path.exists(IMAGE):\n",
    "    os.mkdir(IMAGE)\n",
    "else:\n",
    "    pass"
   ]
  },
  {
   "cell_type": "markdown",
   "metadata": {},
   "source": [
    "> #### `g.proj` to check projection information and make sure it is in accordance with proj4 string listed above"
   ]
  },
  {
   "cell_type": "code",
   "execution_count": null,
   "metadata": {
    "tags": []
   },
   "outputs": [],
   "source": [
    "!grass78 {LOCATION}/{MAPSET} --exec g.proj -p"
   ]
  },
  {
   "cell_type": "markdown",
   "metadata": {},
   "source": [
    "## Import and Process DEM "
   ]
  },
  {
   "cell_type": "markdown",
   "metadata": {},
   "source": [
    "> #### `r.in.gdal` to import raster data into a GRASS raster map using GDAL library.\n",
    "> Create **`demRAW`** GRASS raster map using DEM TIF file in **`elevationRAW`** grass_dataset directory "
   ]
  },
  {
   "cell_type": "code",
   "execution_count": null,
   "metadata": {
    "tags": []
   },
   "outputs": [],
   "source": [
    "# Create path for Elevation if does not exist\n",
    "elevationRAW = \"elevationRAW\"\n",
    "if os.path.exists(os.path.join(GISDBASE, elevationRAW)):\n",
    "    shutil.rmtree(os.path.join(GISDBASE, elevationRAW))\n",
    "!grass78 {LOCATION}/{MAPSET} --exec r.in.gdal -e --overwrite input={rawdem} output=demRAW location={elevationRAW}"
   ]
  },
  {
   "cell_type": "markdown",
   "metadata": {},
   "source": [
    "> #### `r.info` to show outputs basic information about a raster map\n",
    "> Check current DEM information (Resolution)"
   ]
  },
  {
   "cell_type": "code",
   "execution_count": null,
   "metadata": {
    "tags": []
   },
   "outputs": [],
   "source": [
    "LOCATIONDEM=GISDBASE+'/'+'elevationRAW'\n",
    "!grass78 {LOCATIONDEM}/{MAPSET} --exec r.info -g map=demRAW"
   ]
  },
  {
   "cell_type": "markdown",
   "metadata": {},
   "source": [
    "<div class=\"alert alert-block alert-info\">\n",
    "<b>Map:</b> Raw DEM Map</div>"
   ]
  },
  {
   "cell_type": "code",
   "execution_count": null,
   "metadata": {
    "tags": []
   },
   "outputs": [],
   "source": [
    "os.environ['GRASS_RENDER_FILE'] = 'demRAW.png'\n",
    "!grass78 {LOCATIONDEM}/{MAPSET} --exec d.rast map=\"demRAW\"\n",
    "!grass78 {LOCATIONDEM}/{MAPSET} --exec d.legend raster=\"demRAW\" fontsize='15' title='demRAW' title_fontsize='12'\n",
    "shutil.copy(os.path.join(CURRENT_DIRECTORY,'demRAW.png'), os.path.join(PROJECT_DIR,'image_map'))\n",
    "os.remove('demRAW.png')\n",
    "image = os.path.join(PROJECT_DIR,'image_map','demRAW.png')\n",
    "Image(filename=image)"
   ]
  },
  {
   "cell_type": "markdown",
   "metadata": {},
   "source": [
    "> #### `r.resamp.stats` to resample and alter resolution of layer\n",
    "> Change the resolution of raster map"
   ]
  },
  {
   "cell_type": "code",
   "execution_count": null,
   "metadata": {
    "tags": []
   },
   "outputs": [],
   "source": [
    "!grass78 {LOCATIONDEM}/{MAPSET} --exec g.region raster=demRAW res={SPATIAL_RESOLUTION} -ap\n",
    "!grass78 {LOCATIONDEM}/{MAPSET} --exec r.resamp.stats -w input=demRAW output=dem$SPATIAL_RESOLUTION'm'"
   ]
  },
  {
   "cell_type": "markdown",
   "metadata": {},
   "source": [
    "<div class=\"alert alert-block alert-info\">\n",
    "<b>Map:</b> Resampled DEM</div>"
   ]
  },
  {
   "cell_type": "code",
   "execution_count": null,
   "metadata": {
    "tags": []
   },
   "outputs": [],
   "source": [
    "os.environ['GRASS_RENDER_FILE'] = 'dem'+str(SPATIAL_RESOLUTION)+'m.png'\n",
    "!grass78 {LOCATIONDEM}/{MAPSET} --exec d.rast map='dem'{SPATIAL_RESOLUTION}'m'\n",
    "!grass78 {LOCATIONDEM}/{MAPSET} --exec d.legend raster='dem'{SPATIAL_RESOLUTION}'m' fontsize='15' title='dem'{SPATIAL_RESOLUTION}'m' title_fontsize='12'\n",
    "shutil.copy(os.path.join(CURRENT_DIRECTORY,'dem'+str(SPATIAL_RESOLUTION)+'m.png'), os.path.join(PROJECT_DIR,'image_map'))\n",
    "os.remove('dem'+str(SPATIAL_RESOLUTION)+'m.png')\n",
    "image = os.path.join(PROJECT_DIR,'image_map','dem'+str(SPATIAL_RESOLUTION)+'m.png')\n",
    "Image(filename=image)"
   ]
  },
  {
   "cell_type": "markdown",
   "metadata": {},
   "source": [
    "> #### `r.out.gdal` to export GRASS raster maps into GDAL supported format, prepares for import into main GRASS location\n",
    "> \"ERROR 6: SetColorInterpretation() not supported for this dataset.\": This may indicate that the color table was not written properly. This is not a problem; please ignore."
   ]
  },
  {
   "cell_type": "code",
   "execution_count": null,
   "metadata": {
    "tags": []
   },
   "outputs": [],
   "source": [
    "!grass78 {LOCATIONDEM}/{MAPSET} --exec r.out.gdal --overwrite input=dem$SPATIAL_RESOLUTION'm' output=dem$SPATIAL_RESOLUTION'm.tif' format=GTiff"
   ]
  },
  {
   "cell_type": "markdown",
   "metadata": {},
   "source": [
    "> #### `r.in.gdal` to import dem raster data into primary GRASS directory using GDAL library"
   ]
  },
  {
   "cell_type": "code",
   "execution_count": null,
   "metadata": {
    "tags": []
   },
   "outputs": [],
   "source": [
    "!grass78 {LOCATION}/{MAPSET} --exec r.in.gdal -o -e --overwrite input=dem$SPATIAL_RESOLUTION'm.tif' output=dem"
   ]
  },
  {
   "cell_type": "markdown",
   "metadata": {},
   "source": [
    "> #### `r.info` to check extent and # rows/columns"
   ]
  },
  {
   "cell_type": "code",
   "execution_count": null,
   "metadata": {
    "tags": []
   },
   "outputs": [],
   "source": [
    "!grass78 {LOCATION}/{MAPSET} --exec r.info -g map=dem"
   ]
  },
  {
   "cell_type": "markdown",
   "metadata": {},
   "source": [
    "> #### `r.region` to manages the boundary definitions for the geographic region"
   ]
  },
  {
   "cell_type": "code",
   "execution_count": null,
   "metadata": {
    "tags": []
   },
   "outputs": [],
   "source": [
    "!grass78 {LOCATION}/{MAPSET} --exec g.region raster=dem zoom=dem"
   ]
  },
  {
   "cell_type": "markdown",
   "metadata": {},
   "source": [
    "> #### `v.import` to import polygon shapefile specifying model area of interest (AOI)"
   ]
  },
  {
   "cell_type": "code",
   "execution_count": null,
   "metadata": {
    "scrolled": true,
    "tags": []
   },
   "outputs": [],
   "source": [
    "!grass78 {LOCATION}/{MAPSET} --exec v.import input={aoi_file} output=geometry --overwrite"
   ]
  },
  {
   "cell_type": "markdown",
   "metadata": {},
   "source": [
    "> #### `r.mask` and `g.region` to mask DEM to AOI\n",
    "\n",
    "> Here, we also output a GRASS region definition file (grass_region) to be used for all future region setting"
   ]
  },
  {
   "cell_type": "code",
   "execution_count": null,
   "metadata": {
    "tags": []
   },
   "outputs": [],
   "source": [
    "!grass78 {LOCATION}/{MAPSET} --exec r.mask vector=geometry\n",
    "!grass78 {LOCATION}/{MAPSET} --exec g.region vector=geometry zoom=dem\n",
    "!grass78 {LOCATION}/{MAPSET} --exec g.region raster=dem zoom=dem -p save=grass_region"
   ]
  },
  {
   "cell_type": "markdown",
   "metadata": {},
   "source": [
    "<div class=\"alert alert-block alert-info\">\n",
    "<b>Map:</b> DEM and AOI</div>"
   ]
  },
  {
   "cell_type": "code",
   "execution_count": null,
   "metadata": {
    "tags": []
   },
   "outputs": [],
   "source": [
    "os.environ['GRASS_RENDER_FILE'] = 'dem.png'\n",
    "!grass78 {LOCATION}/{MAPSET} --exec d.rast map=\"dem\"\n",
    "!grass78 {LOCATION}/{MAPSET} --exec d.vect map=\"geometry\" type=\"boundary\" color=\"red\"\n",
    "!grass78 {LOCATION}/{MAPSET} --exec d.legend raster=\"dem\" fontsize='15' title='dem' title_fontsize='12'\n",
    "shutil.copy(os.path.join(CURRENT_DIRECTORY,'dem.png'), os.path.join(PROJECT_DIR,'image_map'))\n",
    "os.remove('dem.png')\n",
    "image = os.path.join(PROJECT_DIR,'image_map','dem.png')\n",
    "Image(filename=image)"
   ]
  },
  {
   "cell_type": "markdown",
   "metadata": {},
   "source": [
    "## Output DEM as ASCII Raster"
   ]
  },
  {
   "cell_type": "code",
   "execution_count": null,
   "metadata": {
    "tags": []
   },
   "outputs": [],
   "source": [
    "!grass78 {LOCATION}/{MAPSET} --exec r.out.ascii --overwrite input=\"dem\" output={MODEL_RAST_DIR}/dem.txt precision=2"
   ]
  },
  {
   "cell_type": "markdown",
   "metadata": {},
   "source": [
    "## Extract Soil properties from SSURGO database"
   ]
  },
  {
   "cell_type": "markdown",
   "metadata": {},
   "source": [
    "> #### `v.in.ogr` to Import vector data into a GRASS vector map using OGR library"
   ]
  },
  {
   "cell_type": "code",
   "execution_count": null,
   "metadata": {
    "tags": []
   },
   "outputs": [],
   "source": [
    "# Import Shapefile of SSURGO soil data\n",
    "soilRAW = \"soilRAW\"\n",
    "LOCATIONSOIL=GISDBASE+'/'+'soilRAW'\n",
    "if os.path.exists(os.path.join(GISDBASE, soilRAW)):\n",
    "    shutil.rmtree(os.path.join(GISDBASE, soilRAW))\n",
    "!grass78 {LOCATION}/{MAPSET} --exec v.in.ogr input={os.path.join(RAWGIS_DIR,'soil_reprojected.shp')} output=ssurgoRAW location={soilRAW}"
   ]
  },
  {
   "cell_type": "markdown",
   "metadata": {},
   "source": [
    "> #### `g.region` to manage region definitions (extent, cellsize, etc.) in raw soil directory"
   ]
  },
  {
   "cell_type": "code",
   "execution_count": null,
   "metadata": {},
   "outputs": [],
   "source": [
    "if not os.path.exists(os.path.join(LOCATIONSOIL, 'PERMANENT', 'windows')):\n",
    "    os.makedirs(os.path.join(LOCATIONSOIL, 'PERMANENT', 'windows'))\n",
    "shutil.copyfile(os.path.join(LOCATION, 'PERMANENT', 'windows', 'grass_region'), os.path.join(LOCATIONSOIL, 'PERMANENT', 'windows', 'grass_region'))\n",
    "\n",
    "!grass78 {LOCATIONSOIL}/{MAPSET} --exec g.region region=grass_region -p"
   ]
  },
  {
   "cell_type": "markdown",
   "metadata": {},
   "source": [
    "> #### `v.db.addcolumn` to add attribute to soil map of MUKEY in integer form"
   ]
  },
  {
   "cell_type": "code",
   "execution_count": null,
   "metadata": {},
   "outputs": [],
   "source": [
    "!grass78 {LOCATIONSOIL}/{MAPSET} --exec v.db.addcolumn map=ssurgoRAW column=\"mukeyint INT\"\n",
    "!grass78 {LOCATIONSOIL}/{MAPSET} --exec db.execute sql=\"UPDATE ssurgoRAW SET mukeyint=MUKEY\""
   ]
  },
  {
   "cell_type": "markdown",
   "metadata": {},
   "source": [
    "> #### `v.to.rast` to generate soil MUKEY raster"
   ]
  },
  {
   "cell_type": "code",
   "execution_count": null,
   "metadata": {
    "tags": []
   },
   "outputs": [],
   "source": [
    "# Convert polygon shapefile to raster\n",
    "!grass78 {LOCATIONSOIL}/{MAPSET} --exec v.to.rast --overwrite input=ssurgoRAW type=area output=ssurgo use=attr attribute_column=mukeyint"
   ]
  },
  {
   "cell_type": "markdown",
   "metadata": {},
   "source": [
    "> #### `r.out.gdal` to export raster map and prepare for import into primary GRASS directory"
   ]
  },
  {
   "cell_type": "code",
   "execution_count": null,
   "metadata": {
    "tags": []
   },
   "outputs": [],
   "source": [
    "!grass78 {LOCATIONSOIL}/{MAPSET} --exec r.out.gdal --overwrite input=ssurgo output='ssurgo.tif' format=GTiff"
   ]
  },
  {
   "cell_type": "markdown",
   "metadata": {},
   "source": [
    "> #### `r.in.gdal` to load ssurgo into main GRASS location"
   ]
  },
  {
   "cell_type": "code",
   "execution_count": null,
   "metadata": {},
   "outputs": [],
   "source": [
    "!grass78 {LOCATION}/{MAPSET} --exec r.in.gdal -o -e --overwrite input='ssurgo.tif' output=ssurgo"
   ]
  },
  {
   "cell_type": "markdown",
   "metadata": {},
   "source": [
    "> #### `g.region` to manage region definitions (extent, cellsize, etc.)"
   ]
  },
  {
   "cell_type": "code",
   "execution_count": null,
   "metadata": {},
   "outputs": [],
   "source": [
    "!grass78 {LOCATION}/{MAPSET} --exec g.region region=grass_region -p"
   ]
  },
  {
   "cell_type": "markdown",
   "metadata": {},
   "source": [
    "> #### `r.to.vect` to vectorize soil raster in main GRASS location"
   ]
  },
  {
   "cell_type": "code",
   "execution_count": null,
   "metadata": {},
   "outputs": [],
   "source": [
    "!grass78 {LOCATION}/{MAPSET} --exec r.to.vect input=ssurgo output=ssurgo type=area column=MUKEY"
   ]
  },
  {
   "cell_type": "markdown",
   "metadata": {},
   "source": [
    "> #### `v.to.rast` to generate soil_ssurgo map"
   ]
  },
  {
   "cell_type": "code",
   "execution_count": null,
   "metadata": {},
   "outputs": [],
   "source": [
    "!grass78 {LOCATION}/{MAPSET} --exec v.to.rast --overwrite input=ssurgo use=cat output=soil_ssurgo"
   ]
  },
  {
   "cell_type": "markdown",
   "metadata": {},
   "source": [
    "> #### `v.out.ascii` to export a vector map to a .csv file that relates MUKEY to soil texture"
   ]
  },
  {
   "cell_type": "code",
   "execution_count": null,
   "metadata": {
    "tags": []
   },
   "outputs": [],
   "source": [
    "# Generate a table\n",
    "!grass78 {LOCATION}/{MAPSET} --exec v.out.ascii --overwrite input=ssurgo type=centroid output={MODEL_DIR}/soil_cat_mukey.csv columns=MUKEY format=point separator=comma"
   ]
  },
  {
   "cell_type": "markdown",
   "metadata": {},
   "source": [
    "## Get Spatial Attributes Map using `ssurgo_properties_extraction1.R` and Soil Metadata for Later Use"
   ]
  },
  {
   "cell_type": "markdown",
   "metadata": {},
   "source": [
    "<div class=\"alert alert-block alert-danger\">\n",
    "<b>Template Use:</b> Get Spatial Attributes Map using `ssurgo_properties_extraction1.R`, `ssurgo_properties_extraction2.R`, and `ssurgo_properties_extraction3.R` </div>"
   ]
  },
  {
   "cell_type": "markdown",
   "metadata": {},
   "source": [
    "> #### Create `soil_mukey_texture` in `{ssurgo_dir}` directory"
   ]
  },
  {
   "cell_type": "code",
   "execution_count": null,
   "metadata": {
    "tags": []
   },
   "outputs": [],
   "source": [
    "!grass78 {LOCATION}/{MAPSET} --exec Rscript --slave {pr.read_rcode.ssurgo_properties_extraction1} {ssurgo_dir}"
   ]
  },
  {
   "cell_type": "markdown",
   "metadata": {},
   "source": [
    "> #### Create `soil_mukey_rhessys.csv` in `{MODEL_DIR}` directory "
   ]
  },
  {
   "cell_type": "code",
   "execution_count": null,
   "metadata": {
    "tags": []
   },
   "outputs": [],
   "source": [
    "!grass78 {LOCATION}/{MAPSET} --exec Rscript --slave {pr.read_rcode.ssurgo_properties_extraction2} {ssurgo_dir} {MODEL_DIR}/soil_cat_mukey.csv {MODEL_DIR}/soil_mukey_rhessys.csv"
   ]
  },
  {
   "cell_type": "markdown",
   "metadata": {
    "tags": []
   },
   "source": [
    "> #### Create Soil Spatial Attributes Map"
   ]
  },
  {
   "cell_type": "code",
   "execution_count": null,
   "metadata": {
    "scrolled": true,
    "tags": []
   },
   "outputs": [],
   "source": [
    "!grass78 {LOCATION}/{MAPSET} --exec Rscript --slave {pr.read_rcode.ssurgo_properties_extraction3} soil_ssurgo {MODEL_DIR}/soil_mukey_rhessys.csv"
   ]
  },
  {
   "cell_type": "markdown",
   "metadata": {},
   "source": [
    "## Check Soil Texture in this watershed"
   ]
  },
  {
   "cell_type": "code",
   "execution_count": null,
   "metadata": {
    "tags": []
   },
   "outputs": [],
   "source": [
    "!grass78 {LOCATION}/{MAPSET} --exec r.report map=soil_texture"
   ]
  },
  {
   "cell_type": "markdown",
   "metadata": {},
   "source": [
    "<div class=\"alert alert-block alert-info\">\n",
    "<b>Map:</b> Soil Texture </div>"
   ]
  },
  {
   "cell_type": "code",
   "execution_count": null,
   "metadata": {
    "tags": []
   },
   "outputs": [],
   "source": [
    "os.environ['GRASS_RENDER_FILE'] = 'soil_texture.png'\n",
    "!grass78 {LOCATION}/{MAPSET} --exec d.rast map=\"soil_texture\"\n",
    "!grass78 {LOCATION}/{MAPSET} --exec d.legend raster=\"soil_texture\" fontsize='8' title='Soil Texture' title_fontsize='12' at=5,50,0,5\n",
    "shutil.copy(os.path.join(CURRENT_DIRECTORY,'soil_texture.png'), os.path.join(PROJECT_DIR,'image_map'))\n",
    "os.remove('soil_texture.png')\n",
    "image = os.path.join(PROJECT_DIR,'image_map','soil_texture.png')\n",
    "Image(filename=image)"
   ]
  },
  {
   "cell_type": "markdown",
   "metadata": {},
   "source": [
    "## Output SSURGO MUKEY ASCII Raster"
   ]
  },
  {
   "cell_type": "markdown",
   "metadata": {},
   "source": [
    "> #### `r.out.ascii` to export raster map to a GRASS ASCII raster representation"
   ]
  },
  {
   "cell_type": "code",
   "execution_count": null,
   "metadata": {
    "tags": []
   },
   "outputs": [],
   "source": [
    "!grass78 {LOCATION}/{MAPSET} --exec r.out.ascii --overwrite input=\"ssurgo\" output={MODEL_RAST_DIR}/ssurgo.txt -i"
   ]
  },
  {
   "cell_type": "code",
   "execution_count": null,
   "metadata": {
    "tags": []
   },
   "outputs": [],
   "source": [
    "!grass78 {LOCATION}/{MAPSET} --exec r.out.ascii --overwrite input=\"soil_texture\" output={MODEL_RAST_DIR}/soil_texture.txt -i"
   ]
  },
  {
   "cell_type": "markdown",
   "metadata": {},
   "source": [
    "## Extract LandCover Classification for the watershed"
   ]
  },
  {
   "cell_type": "markdown",
   "metadata": {},
   "source": [
    "> #### `r.in.gdal` to import raster data into GRASS landuse location using GDAL library."
   ]
  },
  {
   "cell_type": "code",
   "execution_count": null,
   "metadata": {
    "tags": []
   },
   "outputs": [],
   "source": [
    "# Create path for land use if does not exist\n",
    "lulcRAW = \"lulcRAW\"\n",
    "LOCATIONLULC = GISDBASE+'/'+\"lulcRAW\"\n",
    "if os.path.exists(os.path.join(GISDBASE, lulcRAW)):\n",
    "    shutil.rmtree(os.path.join(GISDBASE, lulcRAW))\n",
    "!grass78 {LOCATION}/{MAPSET} --exec r.in.gdal -o --overwrite input={landcover} output=nlcd location={lulcRAW}"
   ]
  },
  {
   "cell_type": "markdown",
   "metadata": {},
   "source": [
    "> #### `r.out.gdal` to export raster map and prepare for import into primary GRASS directory"
   ]
  },
  {
   "cell_type": "code",
   "execution_count": null,
   "metadata": {
    "tags": []
   },
   "outputs": [],
   "source": [
    "!grass78 {LOCATIONLULC}/{MAPSET} --exec r.out.gdal --overwrite input=nlcd output='nlcd.tif' format=GTiff"
   ]
  },
  {
   "cell_type": "markdown",
   "metadata": {},
   "source": [
    "> #### `r.in.gdal` to load ssurgo into main GRASS location"
   ]
  },
  {
   "cell_type": "code",
   "execution_count": null,
   "metadata": {
    "tags": []
   },
   "outputs": [],
   "source": [
    "!grass78 {LOCATION}/{MAPSET} --exec r.in.gdal -o -e --overwrite input='nlcd.tif' output=nlcd"
   ]
  },
  {
   "cell_type": "markdown",
   "metadata": {},
   "source": [
    "> #### `g.region` to manage region definitions (extent, cellsize, etc.)"
   ]
  },
  {
   "cell_type": "code",
   "execution_count": null,
   "metadata": {
    "tags": []
   },
   "outputs": [],
   "source": [
    "!grass78 {LOCATION}/{MAPSET} --exec g.region region=grass_region -p"
   ]
  },
  {
   "cell_type": "markdown",
   "metadata": {},
   "source": [
    "## Output NLCD ASCII Raster"
   ]
  },
  {
   "cell_type": "markdown",
   "metadata": {
    "tags": []
   },
   "source": [
    "<div class=\"alert alert-block alert-info\">\n",
    "<b>Map:</b> Land Use </div>"
   ]
  },
  {
   "cell_type": "code",
   "execution_count": null,
   "metadata": {
    "tags": []
   },
   "outputs": [],
   "source": [
    "os.environ['GRASS_RENDER_FILE'] = 'nlcd.png'\n",
    "!grass78 {LOCATION}/{MAPSET} --exec d.rast map=\"nlcd\"\n",
    "!grass78 {LOCATION}/{MAPSET} --exec d.legend raster=\"nlcd\" fontsize='8' title='NLCD' title_fontsize='12' at=5,50,0,5\n",
    "shutil.copy(os.path.join(CURRENT_DIRECTORY,'nlcd.png'), os.path.join(PROJECT_DIR,'image_map'))\n",
    "os.remove('nlcd.png')\n",
    "image = os.path.join(PROJECT_DIR,'image_map','nlcd.png')\n",
    "Image(filename=image)"
   ]
  },
  {
   "cell_type": "markdown",
   "metadata": {},
   "source": [
    "> #### `r.out.ascii` to export a raster map to a GRASS ASCII raster representation"
   ]
  },
  {
   "cell_type": "code",
   "execution_count": null,
   "metadata": {
    "tags": []
   },
   "outputs": [],
   "source": [
    "!grass78 {LOCATION}/{MAPSET} --exec r.out.ascii --overwrite input=\"nlcd\" output={MODEL_RAST_DIR}/nlcd.txt -i"
   ]
  },
  {
   "cell_type": "markdown",
   "metadata": {
    "tags": []
   },
   "source": [
    "## Output LAT/LONG ASCII Raster"
   ]
  },
  {
   "cell_type": "markdown",
   "metadata": {},
   "source": [
    "> #### `g.region` to manage region definitions (extent, cellsize, etc.)"
   ]
  },
  {
   "cell_type": "code",
   "execution_count": null,
   "metadata": {
    "tags": []
   },
   "outputs": [],
   "source": [
    "!grass78 {LOCATION}/{MAPSET} --exec g.region region=grass_region -p"
   ]
  },
  {
   "cell_type": "markdown",
   "metadata": {},
   "source": [
    "> #### `r.mapcalc` creates raster map corresponding to provided expression. In this case, maps corresponding to latitude and longitude are generated"
   ]
  },
  {
   "cell_type": "code",
   "execution_count": null,
   "metadata": {
    "tags": []
   },
   "outputs": [],
   "source": [
    "!grass78 {LOCATION}/{MAPSET} --exec r.mapcalc --overwrite expression=\"xmap = x()\"\n",
    "!grass78 {LOCATION}/{MAPSET} --exec r.mapcalc --overwrite expression=\"ymap = y()\""
   ]
  },
  {
   "cell_type": "markdown",
   "metadata": {},
   "source": [
    "<div class=\"alert alert-block alert-info\">\n",
    "<b>Map:</b> Longitude </div>"
   ]
  },
  {
   "cell_type": "code",
   "execution_count": null,
   "metadata": {
    "tags": []
   },
   "outputs": [],
   "source": [
    "os.environ['GRASS_RENDER_FILE'] = 'xmap.png'\n",
    "!grass78 {LOCATION}/{MAPSET} --exec d.rast map=\"xmap\"\n",
    "!grass78 {LOCATION}/{MAPSET} --exec d.legend raster=\"xmap\" fontsize='8' title='xmap' title_fontsize='12' at=5,50,0,5\n",
    "shutil.copy(os.path.join(CURRENT_DIRECTORY,'xmap.png'), os.path.join(PROJECT_DIR,'image_map'))\n",
    "os.remove('xmap.png')\n",
    "image = os.path.join(PROJECT_DIR,'image_map','xmap.png')\n",
    "Image(filename=image)"
   ]
  },
  {
   "cell_type": "markdown",
   "metadata": {},
   "source": [
    "> #### `r.out.ascii` to export a raster map to a GRASS ASCII raster representation"
   ]
  },
  {
   "cell_type": "code",
   "execution_count": null,
   "metadata": {
    "tags": []
   },
   "outputs": [],
   "source": [
    "!grass78 {LOCATION}/{MAPSET} --exec r.out.ascii --overwrite input=\"xmap\" output={MODEL_RAST_DIR}/xmap.txt -i"
   ]
  },
  {
   "cell_type": "markdown",
   "metadata": {},
   "source": [
    "<div class=\"alert alert-block alert-info\">\n",
    "<b>Map:</b> Latitude </div>"
   ]
  },
  {
   "cell_type": "code",
   "execution_count": null,
   "metadata": {
    "tags": []
   },
   "outputs": [],
   "source": [
    "os.environ['GRASS_RENDER_FILE'] = 'ymap.png'\n",
    "!grass78 {LOCATION}/{MAPSET} --exec d.rast map=\"ymap\"\n",
    "!grass78 {LOCATION}/{MAPSET} --exec d.legend raster=\"ymap\" fontsize='8' title='ymap' title_fontsize='12' at=5,50,0,5\n",
    "shutil.copy(os.path.join(CURRENT_DIRECTORY,'ymap.png'), os.path.join(PROJECT_DIR,'image_map'))\n",
    "os.remove('ymap.png')\n",
    "image = os.path.join(PROJECT_DIR,'image_map','ymap.png')\n",
    "Image(filename=image)"
   ]
  },
  {
   "cell_type": "markdown",
   "metadata": {},
   "source": [
    "> #### `r.out.ascii` to export a raster map to a GRASS ASCII raster representation"
   ]
  },
  {
   "cell_type": "code",
   "execution_count": null,
   "metadata": {
    "tags": []
   },
   "outputs": [],
   "source": [
    "!grass78 {LOCATION}/{MAPSET} --exec r.out.ascii --overwrite input=\"ymap\" output={MODEL_RAST_DIR}/ymap.txt -i"
   ]
  },
  {
   "cell_type": "markdown",
   "metadata": {},
   "source": [
    "## Output Daymet Cell Re-Positioning ASCII Rasters"
   ]
  },
  {
   "cell_type": "markdown",
   "metadata": {},
   "source": [
    "> #### `r.in.gdal` to import raster data into custom GRASS daymet location using GDAL library."
   ]
  },
  {
   "cell_type": "code",
   "execution_count": null,
   "metadata": {
    "scrolled": true,
    "tags": []
   },
   "outputs": [],
   "source": [
    "# Create path for daymet data if does not exist\n",
    "daymet = \"daymet\"\n",
    "LOCATIONDAYMET = GISDBASE+'/'+\"daymet\"\n",
    "if os.path.exists(os.path.join(GISDBASE, daymet)):\n",
    "    shutil.rmtree(os.path.join(GISDBASE, daymet))\n",
    "!grass78 {LOCATION}/{MAPSET} --exec r.in.gdal -o --overwrite input={daymet_cell} output=daymet location={daymet}"
   ]
  },
  {
   "cell_type": "markdown",
   "metadata": {},
   "source": [
    "> #### `r.out.gdal` to export raster map and prepare for import into primary GRASS directory"
   ]
  },
  {
   "cell_type": "code",
   "execution_count": null,
   "metadata": {
    "tags": []
   },
   "outputs": [],
   "source": [
    "!grass78 {LOCATIONDAYMET}/{MAPSET} --exec r.out.gdal --overwrite input=daymet output='daymet.tif' format=GTiff"
   ]
  },
  {
   "cell_type": "markdown",
   "metadata": {},
   "source": [
    "> #### `r.in.gdal` to load ssurgo into main GRASS location"
   ]
  },
  {
   "cell_type": "code",
   "execution_count": null,
   "metadata": {
    "tags": []
   },
   "outputs": [],
   "source": [
    "!grass78 {LOCATION}/{MAPSET} --exec r.in.gdal -o -e --overwrite input='daymet.tif' output=daymet"
   ]
  },
  {
   "cell_type": "markdown",
   "metadata": {},
   "source": [
    "> #### `g.region` to manage region definitions (extent, cellsize, etc.)"
   ]
  },
  {
   "cell_type": "code",
   "execution_count": null,
   "metadata": {
    "tags": []
   },
   "outputs": [],
   "source": [
    "!grass78 {LOCATION}/{MAPSET} --exec g.region region=grass_region -ap"
   ]
  },
  {
   "cell_type": "markdown",
   "metadata": {},
   "source": [
    "<div class=\"alert alert-block alert-info\">\n",
    "<b>Map:</b> Daymet Cell Identifier </div>"
   ]
  },
  {
   "cell_type": "code",
   "execution_count": null,
   "metadata": {
    "tags": []
   },
   "outputs": [],
   "source": [
    "os.environ['GRASS_RENDER_FILE'] = 'daymet.png'\n",
    "!grass78 {LOCATION}/{MAPSET} --exec d.rast map=\"daymet\"\n",
    "!grass78 {LOCATION}/{MAPSET} --exec d.legend raster=\"daymet\" fontsize='8' title='Daymet' title_fontsize='12' at=5,50,0,5\n",
    "shutil.copy(os.path.join(CURRENT_DIRECTORY,'daymet.png'), os.path.join(PROJECT_DIR,'image_map'))\n",
    "os.remove('daymet.png')\n",
    "image = os.path.join(PROJECT_DIR,'image_map','daymet.png')\n",
    "Image(filename=image)"
   ]
  },
  {
   "cell_type": "markdown",
   "metadata": {},
   "source": [
    "> #### `r.out.ascii` to export a raster map to a GRASS ASCII raster representation"
   ]
  },
  {
   "cell_type": "code",
   "execution_count": null,
   "metadata": {
    "tags": []
   },
   "outputs": [],
   "source": [
    "!grass78 {LOCATION}/{MAPSET} --exec r.out.ascii --overwrite input=\"daymet\" output={MODEL_RAST_DIR}/daymet.txt -i"
   ]
  },
  {
   "cell_type": "code",
   "execution_count": null,
   "metadata": {
    "jupyter": {
     "outputs_hidden": true
    }
   },
   "outputs": [],
   "source": []
  }
 ],
 "metadata": {
  "kernelspec": {
   "display_name": "Python 3 (ipykernel)",
   "language": "python",
   "name": "python3"
  },
  "language_info": {
   "codemirror_mode": {
    "name": "ipython",
    "version": 3
   },
   "file_extension": ".py",
   "mimetype": "text/x-python",
   "name": "python",
   "nbconvert_exporter": "python",
   "pygments_lexer": "ipython3",
   "version": "3.10.9"
  }
 },
 "nbformat": 4,
 "nbformat_minor": 4
}
