{
 "cells": [
  {
   "cell_type": "markdown",
   "id": "f84b188b",
   "metadata": {},
   "source": [
    "# Pre-Processing for GRASS GIS"
   ]
  },
  {
   "cell_type": "markdown",
   "id": "6778ff23",
   "metadata": {},
   "source": [
    "Here, we will pre-process the files downloaded in steps 3 and 4. The primary objective is to re-project files before manipulating them with GRASS GIS in step 6."
   ]
  },
  {
   "cell_type": "markdown",
   "id": "ccda11f5",
   "metadata": {},
   "source": [
    "<div class=\"alert alert-block alert-danger\">\n",
    "<b> Project Name Setting: </b> Please set the Project Name for your project </div>"
   ]
  },
  {
   "cell_type": "code",
   "execution_count": null,
   "id": "2ad406b2-901d-4fd3-a7ec-ca979ffe35c1",
   "metadata": {},
   "outputs": [],
   "source": [
    "# CHANGE PROJECT NAME HERE\n",
    "PROJECT_NAME = 'SERC'\n",
    "\n",
    "# CURRENT DIRECTORY HERE, SET WHERE THE NOTEBOOKS ARE LOCATED\n",
    "CURRENT_DIRECTORY = ''\n",
    "\n",
    "# SET THE SPATIAL RESOLUTION (in meters)\n",
    "SPATIAL_RESOLUTION = 30"
   ]
  },
  {
   "cell_type": "code",
   "execution_count": null,
   "id": "064a1647-9657-4835-b74a-a7d58be38839",
   "metadata": {},
   "outputs": [],
   "source": [
    "import os, shutil\n",
    "os.chdir(CURRENT_DIRECTORY)"
   ]
  },
  {
   "cell_type": "code",
   "execution_count": null,
   "id": "03b9f83e",
   "metadata": {},
   "outputs": [],
   "source": [
    "# Define folder paths as global variables\n",
    "PROJECT_DIR = os.path.join(CURRENT_DIRECTORY, PROJECT_NAME)\n",
    "RAWGIS_DIR = os.path.join(PROJECT_DIR, \"gis_data\")\n",
    "RAWOBS_DIR = os.path.join(PROJECT_DIR, \"obs\")\n",
    "RAWSOIL_DIR = os.path.join(RAWGIS_DIR, \"soil\")\n",
    "MODEL_DIR = os.path.join(PROJECT_DIR, 'model')\n",
    "DEF_DIR = os.path.join(MODEL_DIR, 'defs')\n",
    "INI_DIR = os.path.join(MODEL_DIR, 'ini_files')\n",
    "EPC_DIR = os.path.join(MODEL_DIR, 'epc_files')\n",
    "OUTPUT_DIR = os.path.join(MODEL_DIR, 'output')\n",
    "CO2_DIR = os.path.join(MODEL_DIR, 'co2')\n",
    "NDEP_DIR = os.path.join(MODEL_DIR, 'ndep')\n",
    "ENDPOINT_DIR = os.path.join(MODEL_DIR, 'endpoint_files')\n",
    "SPINUP_DIR = os.path.join(MODEL_DIR, 'spinup')\n",
    "NORMAL_DIR = os.path.join(MODEL_DIR, 'normal')\n",
    "MODEL_RAST_DIR = os.path.join(MODEL_DIR, 'raster_inputs')\n",
    "IMAGE = os.path.join(PROJECT_DIR, 'image_map')"
   ]
  },
  {
   "cell_type": "code",
   "execution_count": null,
   "id": "11714ad0",
   "metadata": {},
   "outputs": [],
   "source": [
    "# Import necessary packages\n",
    "import geopandas as gpd\n",
    "import matplotlib.pyplot as plt\n",
    "import requests\n",
    "import pyproj\n",
    "from pyproj import CRS, Transformer, Proj, transform\n",
    "import datetime as dt \n",
    "import xarray as xr\n",
    "import rioxarray\n",
    "import shapely\n",
    "import rasterio\n",
    "from rasterio.features import Affine\n",
    "import time\n",
    "from shapely.geometry import mapping\n",
    "from netCDF4 import Dataset\n",
    "import pandas as pd"
   ]
  },
  {
   "cell_type": "code",
   "execution_count": null,
   "id": "8caa678e",
   "metadata": {},
   "outputs": [],
   "source": [
    "# Define the daymet projection\n",
    "daymet_proj = \"+proj=lcc +ellps=WGS84 +a=6378137 +b=6356752.314245 +lat_1=25 +lat_2=60 +lon_0=-100 +lat_0=42.5 +x_0=0 +y_0=0 +units=m +no_defs\""
   ]
  },
  {
   "cell_type": "code",
   "execution_count": null,
   "id": "2690f5e8",
   "metadata": {},
   "outputs": [],
   "source": [
    "# Open meteorological data downloaded in Step_1_C\n",
    "opened = xr.open_dataset(os.path.join(MODEL_DIR, 'met_data', 'aoi_met.nc'))\n",
    "display(opened)"
   ]
  },
  {
   "cell_type": "code",
   "execution_count": null,
   "id": "3760f986",
   "metadata": {},
   "outputs": [],
   "source": [
    "# Import GIS files\n",
    "dem = xr.open_rasterio(os.path.join(RAWGIS_DIR, 'nasa_dem.tif'))\n",
    "nlcd = xr.open_rasterio(os.path.join(RAWGIS_DIR, 'nlcd.tif'))\n",
    "\n",
    "display(dem)\n",
    "display(nlcd)"
   ]
  },
  {
   "cell_type": "markdown",
   "id": "1a2e2e25",
   "metadata": {},
   "source": [
    "##  Reproject GIS Files"
   ]
  },
  {
   "cell_type": "markdown",
   "id": "3d44daed",
   "metadata": {},
   "source": [
    "We need to reproject the GIS files (DEM, land use, soils) downloaded from Geoserver to the same projection as the Daymet data. An easy way to do this is use **rioxarray's** reproject function."
   ]
  },
  {
   "cell_type": "code",
   "execution_count": null,
   "id": "2638e75f",
   "metadata": {},
   "outputs": [],
   "source": [
    "# Reproject GIS files to Daymet projection\n",
    "\n",
    "dem_reprojected = dem.rio.reproject(daymet_proj)\n",
    "display(dem_reprojected)\n",
    "\n",
    "nlcd_2 = nlcd.rio.write_nodata(0)\n",
    "nlcd_reprojected = nlcd_2.rio.reproject(daymet_proj)\n",
    "display(nlcd_reprojected)"
   ]
  },
  {
   "cell_type": "code",
   "execution_count": null,
   "id": "01e30982",
   "metadata": {},
   "outputs": [],
   "source": [
    "# Save re-projected GIS files\n",
    "dem_reprojected.rio.to_raster(os.path.join(RAWGIS_DIR, 'dem_reprojected.tif'))\n",
    "nlcd_reprojected.rio.to_raster(os.path.join(RAWGIS_DIR, 'nlcd_reprojected.tif'))"
   ]
  },
  {
   "cell_type": "markdown",
   "id": "60d5bdc5",
   "metadata": {},
   "source": [
    "##  Create Text Raster of Daymet Cell IDs"
   ]
  },
  {
   "cell_type": "markdown",
   "id": "fd5183c8",
   "metadata": {},
   "source": [
    "Generate an raster file corresponding to the appropriate Daymet cell to use. Uses an ID system which uniquely number each Daymet cell for easy parallelization later."
   ]
  },
  {
   "cell_type": "code",
   "execution_count": null,
   "id": "0668c28f",
   "metadata": {},
   "outputs": [],
   "source": [
    "# Pre-processing for lat/lon file conversion\n",
    "unique_both = []\n",
    "count = 0\n",
    "for i in range(len(opened['y'])):\n",
    "    x_len = len(opened['x'])\n",
    "    \n",
    "    row_list = list(range(x_len*count, x_len*(count+1)))\n",
    "    unique_both.append(row_list)\n",
    "    \n",
    "    count = count+1\n",
    "\n",
    "opened = opened.assign(cell_num=(['y', 'x'], unique_both)).astype(float)\n",
    "display(opened)"
   ]
  },
  {
   "cell_type": "code",
   "execution_count": null,
   "id": "4d8e8ccf",
   "metadata": {},
   "outputs": [],
   "source": [
    "# Display Daymet cell number GIS file\n",
    "cell_num = opened['cell_num']\n",
    "cell_num = cell_num.reset_coords(names=['lat', 'lon'], drop=True)\n",
    "#cell_num = cell_num.rio.set_spatial_dims('x', 'y')\n",
    "cell_num = cell_num.rio.set_crs(daymet_proj)\n",
    "display(cell_num)"
   ]
  },
  {
   "cell_type": "code",
   "execution_count": null,
   "id": "dd979aab",
   "metadata": {},
   "outputs": [],
   "source": [
    "# Create Daymet cell reference file from GIS file\n",
    "\n",
    "x_coords = cell_num['x'].values\n",
    "y_coords = cell_num['y'].values\n",
    "\n",
    "cell_reference = []\n",
    "\n",
    "row_num = 0\n",
    "for row in cell_num.values:\n",
    "    column_num = 0\n",
    "    for column in row:\n",
    "        df_row = [int(column), x_coords[column_num], y_coords[row_num]]\n",
    "        cell_reference.append(df_row)\n",
    "        column_num += 1\n",
    "    row_num += 1\n",
    "    \n",
    "cell_df = pd.DataFrame(cell_reference)\n",
    "cell_df.to_csv(os.path.join(DEF_DIR, 'met_cells.csv'), index=False, header=False)"
   ]
  },
  {
   "cell_type": "code",
   "execution_count": null,
   "id": "7bfdee66",
   "metadata": {},
   "outputs": [],
   "source": [
    "# Display resampled daymet cell identifier\n",
    "cell_num_final = cell_num.rio.reproject_match(dem_reprojected)\n",
    "display(cell_num_final)"
   ]
  },
  {
   "cell_type": "code",
   "execution_count": null,
   "id": "a1b6746b",
   "metadata": {},
   "outputs": [],
   "source": [
    "# Save resampled Daymet Cell ID file\n",
    "cell_num_final.rio.to_raster(os.path.join(RAWGIS_DIR, 'daymet_cell.tif'))"
   ]
  },
  {
   "cell_type": "markdown",
   "id": "0231c532-1740-4490-bb48-7d370f9ccd2a",
   "metadata": {},
   "source": [
    "##  Reproject SOIL"
   ]
  },
  {
   "cell_type": "code",
   "execution_count": null,
   "id": "3fd95bc3-202f-4aea-a40b-b6e1ade06570",
   "metadata": {},
   "outputs": [],
   "source": [
    "# Main Soil File\n",
    "soil_spatial = gpd.read_file(os.path.join(RAWSOIL_DIR, 'spatial', 'soilmu_a_aoi.shp'))"
   ]
  },
  {
   "cell_type": "code",
   "execution_count": null,
   "id": "df3dcea8-0f20-40bc-9207-a3b71d9601c5",
   "metadata": {},
   "outputs": [],
   "source": [
    "# Re-project AOI\n",
    "daymet_crs = pyproj.CRS(daymet_proj)\n",
    "soil_reprojected  = soil_spatial.to_crs(daymet_crs)"
   ]
  },
  {
   "cell_type": "code",
   "execution_count": null,
   "id": "a072c49d-c252-425e-a3d4-d01b2b73df08",
   "metadata": {},
   "outputs": [],
   "source": [
    "# Display Reprojected AOI\n",
    "soil_reprojected.plot()\n",
    "plt.show()"
   ]
  },
  {
   "cell_type": "code",
   "execution_count": null,
   "id": "2ab81e69-4cfb-47aa-b6d7-91ad22a2c125",
   "metadata": {},
   "outputs": [],
   "source": [
    "# Save Reprojected AOI\n",
    "soil_reprojected.to_file(os.path.join(RAWGIS_DIR, \"soil_reprojected.shp\"))"
   ]
  },
  {
   "cell_type": "markdown",
   "id": "0701490e",
   "metadata": {},
   "source": [
    "##  Reproject AOI"
   ]
  },
  {
   "cell_type": "markdown",
   "id": "d1556862",
   "metadata": {},
   "source": [
    "We need to reproject the AOI shapefile created in Step 1_A to the same projection as the Daymet data."
   ]
  },
  {
   "cell_type": "code",
   "execution_count": null,
   "id": "d99e8bdd",
   "metadata": {},
   "outputs": [],
   "source": [
    "# Open AOI\n",
    "aoi = gpd.read_file(os.path.join(RAWGIS_DIR, 'AOI.shp'))"
   ]
  },
  {
   "cell_type": "code",
   "execution_count": null,
   "id": "e754723b",
   "metadata": {},
   "outputs": [],
   "source": [
    "# Re-project AOI\n",
    "daymet_crs = pyproj.CRS(daymet_proj)\n",
    "aoi_reprojected  = aoi.to_crs(daymet_crs)"
   ]
  },
  {
   "cell_type": "code",
   "execution_count": null,
   "id": "155e0097",
   "metadata": {},
   "outputs": [],
   "source": [
    "# Display Reprojected AOI\n",
    "aoi_reprojected.plot()"
   ]
  },
  {
   "cell_type": "code",
   "execution_count": null,
   "id": "12972fbd",
   "metadata": {},
   "outputs": [],
   "source": [
    "# Save Reprojected AOI\n",
    "aoi_reprojected.to_file(os.path.join(RAWGIS_DIR, \"AOI_reprojected.shp\"))"
   ]
  },
  {
   "cell_type": "code",
   "execution_count": null,
   "id": "200f20f9-330b-4b7c-b169-bd02d790693c",
   "metadata": {},
   "outputs": [],
   "source": []
  }
 ],
 "metadata": {
  "kernelspec": {
   "display_name": "Python 3 (ipykernel)",
   "language": "python",
   "name": "python3"
  },
  "language_info": {
   "codemirror_mode": {
    "name": "ipython",
    "version": 3
   },
   "file_extension": ".py",
   "mimetype": "text/x-python",
   "name": "python",
   "nbconvert_exporter": "python",
   "pygments_lexer": "ipython3",
   "version": "3.10.9"
  }
 },
 "nbformat": 4,
 "nbformat_minor": 5
}
