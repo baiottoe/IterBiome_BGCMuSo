{
 "cells": [
  {
   "cell_type": "markdown",
   "metadata": {},
   "source": [
    "# Define Area of Interest on Google Earth Engine"
   ]
  },
  {
   "cell_type": "markdown",
   "metadata": {},
   "source": [
    "Earth Engine Explorer (EE Explorer) is a lightweight geospatial image data viewer with access to a large set of global and regional datasets available in the Earth Engine Data Catalog (https://developers.google.com/earth-engine/datasets/). It allows for quick viewing of data with the ability to zoom and pan anywhere on Earth, adjust visualization settings, and layer data to inspect change over time."
   ]
  },
  {
   "cell_type": "markdown",
   "metadata": {},
   "source": [
    "* In this notebook, users select a shape from a layer saved in the Earth Engine Data Catalog that defines model extent. This will be the region that is used to clip all raster files and ultimately dictate the region that is run in Biome-BGC Muso."
   ]
  },
  {
   "cell_type": "markdown",
   "metadata": {},
   "source": [
    "<div class=\"alert alert-block alert-danger\">\n",
    "<b> Project Name Setting: </b> Please set the Project Name and Cell Resolution for your project </div>"
   ]
  },
  {
   "cell_type": "code",
   "execution_count": 15,
   "metadata": {},
   "outputs": [],
   "source": [
    "# CHANGE PROJECT NAME HERE\n",
    "PROJECT_NAME = \"Spout_Run\"\n",
    "\n",
    "# CURRENT DIRECTORY HERE\n",
    "CURRENT_DIRECTORY = \"/scratch/tmb4ee/MODEL_62\""
   ]
  },
  {
   "cell_type": "code",
   "execution_count": 16,
   "metadata": {},
   "outputs": [],
   "source": [
    "import os, shutil\n",
    "os.chdir(CURRENT_DIRECTORY)"
   ]
  },
  {
   "cell_type": "code",
   "execution_count": 17,
   "metadata": {},
   "outputs": [],
   "source": [
    "# Define folder paths as global variables\n",
    "PROJECT_DIR = os.path.join(CURRENT_DIRECTORY, PROJECT_NAME)\n",
    "RAWGIS_DIR = os.path.join(PROJECT_DIR, \"gis_data\")\n",
    "RAWOBS_DIR = os.path.join(PROJECT_DIR, \"obs\")\n",
    "RAWSOIL_DIR = os.path.join(RAWGIS_DIR, \"soil\")\n",
    "MODEL_DIR = os.path.join(PROJECT_DIR, 'model')\n",
    "DEF_DIR = os.path.join(MODEL_DIR, 'defs')\n",
    "INI_DIR = os.path.join(MODEL_DIR, 'ini_files')\n",
    "EPC_DIR = os.path.join(MODEL_DIR, 'epc_files')\n",
    "OUTPUT_DIR = os.path.join(MODEL_DIR, 'output')\n",
    "CO2_DIR = os.path.join(MODEL_DIR, 'co2')\n",
    "NDEP_DIR = os.path.join(MODEL_DIR, 'ndep')\n",
    "ENDPOINT_DIR = os.path.join(MODEL_DIR, 'endpoint_files')\n",
    "SPINUP_DIR = os.path.join(MODEL_DIR, 'spinup')\n",
    "NORMAL_DIR = os.path.join(MODEL_DIR, 'normal')\n",
    "MODEL_RAST_DIR = os.path.join(MODEL_DIR, 'raster_inputs')\n",
    "IMAGE = os.path.join(PROJECT_DIR, 'image_map')"
   ]
  },
  {
   "cell_type": "markdown",
   "metadata": {},
   "source": [
    "## Install geemap package"
   ]
  },
  {
   "cell_type": "code",
   "execution_count": 18,
   "metadata": {
    "scrolled": true
   },
   "outputs": [],
   "source": [
    "# Installs geemap package\n",
    "import sys, site\n",
    "\n",
    "try:\n",
    "    import geemap\n",
    "except ImportError:\n",
    "    # If error with this cell, try commenting out next line and un-commenting two lines below.\n",
    "    !pip install -U geemap\n",
    "    # !{sys.executable} -m pip install geemap==0.9.1\n",
    "    sys.path.insert(0, site.getusersitepackages())\n",
    "\n",
    "# Authenticates and initializes Earth Engine\n",
    "import ee\n",
    "import geemap\n",
    "\n",
    "try:\n",
    "    ee.Initialize()\n",
    "except Exception as e:\n",
    "    ee.Authenticate()\n",
    "    ee.Initialize()  "
   ]
  },
  {
   "cell_type": "markdown",
   "metadata": {},
   "source": [
    "## Create an interactive map"
   ]
  },
  {
   "cell_type": "markdown",
   "metadata": {},
   "source": [
    "geemap is a Python package that allows users to interactively interact with datasets stored in the Google Earth Engine data repository. Below, we create an empty map using geemap and select an area of interest by selecting a data layer and feature. Several easy options are given below in layer_dict."
   ]
  },
  {
   "cell_type": "code",
   "execution_count": 19,
   "metadata": {},
   "outputs": [
    {
     "data": {
      "application/vnd.jupyter.widget-view+json": {
       "model_id": "80e8e026bacf4d758e1b7a84d4b0e495",
       "version_major": 2,
       "version_minor": 0
      },
      "text/plain": [
       "Map(center=[40, -100], controls=(WidgetControl(options=['position', 'transparent_bg'], widget=HBox(children=(T…"
      ]
     },
     "metadata": {},
     "output_type": "display_data"
    }
   ],
   "source": [
    "Map = geemap.Map(center=[40,-100], zoom=4)\n",
    "Map"
   ]
  },
  {
   "cell_type": "markdown",
   "metadata": {},
   "source": [
    "## Define AOI Using Polygon from Available Library"
   ]
  },
  {
   "cell_type": "markdown",
   "metadata": {},
   "source": [
    "<div class=\"alert alert-block alert-danger\">\n",
    "<b> Manual Input: </b> Please specify the layer in which you want to use a boundary from.</div>"
   ]
  },
  {
   "cell_type": "code",
   "execution_count": 20,
   "metadata": {},
   "outputs": [],
   "source": [
    "BOUNDARY_TYPE = 'huc12'"
   ]
  },
  {
   "cell_type": "code",
   "execution_count": 21,
   "metadata": {},
   "outputs": [],
   "source": [
    "layer_dict = {\n",
    "    'States': [\"TIGER/2018/States\", \"NAME\"],\n",
    "    'Counties': [\"TIGER/2018/Counties\", \"NAME\", \"STATEFP\"],\n",
    "    'huc2': [\"USGS/WBD/2017/HUC02\", \"huc2\"],\n",
    "    'huc4': [\"USGS/WBD/2017/HUC04\", \"huc4\"],\n",
    "    'huc6': [\"USGS/WBD/2017/HUC06\", \"huc6\"],\n",
    "    'huc8': [\"USGS/WBD/2017/HUC08\", \"huc8\"],\n",
    "    'huc10': [\"USGS/WBD/2017/HUC10\", \"huc10\"],\n",
    "    'huc12': [\"USGS/WBD/2017/HUC12\", \"huc12\"]\n",
    "}\n",
    "boundary_layer = ee.FeatureCollection(layer_dict[BOUNDARY_TYPE][0])\n",
    "Map.addLayer(boundary_layer, {}, BOUNDARY_TYPE)"
   ]
  },
  {
   "cell_type": "markdown",
   "metadata": {},
   "source": [
    "<div class=\"alert alert-block alert-danger\">\n",
    "<b> Manual Input: </b> Please specify boundary feature name and state code if applicatble.</div>"
   ]
  },
  {
   "cell_type": "code",
   "execution_count": 22,
   "metadata": {},
   "outputs": [],
   "source": [
    "FEATURE = '020700070105'\n",
    "\n",
    "# Specify STATE_FP Code if wanting AOI as a county!\n",
    "STATE_FP = '51'"
   ]
  },
  {
   "cell_type": "code",
   "execution_count": 23,
   "metadata": {},
   "outputs": [],
   "source": [
    "if BOUNDARY_TYPE != \"Counties\":\n",
    "    boundary_layer = ee.FeatureCollection(layer_dict[BOUNDARY_TYPE][0]).filter(ee.Filter.eq(layer_dict[BOUNDARY_TYPE][1], FEATURE))\n",
    "elif BOUNDARY_TYPE == \"Counties\":\n",
    "    boundary_layer = ee.FeatureCollection(layer_dict[BOUNDARY_TYPE][0]).filter(ee.Filter.eq(layer_dict[BOUNDARY_TYPE][1], FEATURE)).filter(ee.Filter.eq(layer_dict[BOUNDARY_TYPE][2], STATE_FP))\n",
    "    \n",
    "Map.addLayer(boundary_layer, {}, BOUNDARY_TYPE)"
   ]
  },
  {
   "cell_type": "code",
   "execution_count": 24,
   "metadata": {},
   "outputs": [
    {
     "name": "stdout",
     "output_type": "stream",
     "text": [
      "Generating URL ...\n",
      "Downloading data from https://earthengine.googleapis.com/v1alpha/projects/earthengine-legacy/tables/60e39ffd549b6612d43d6295371db8b3-ac878c144dc0a96d38b1430d89652fc0:getFeatures\n",
      "Please wait ...\n",
      "Data downloaded to /scratch/tmb4ee/MODEL_62/Spout_Run/gis_data/AOI.shp\n"
     ]
    }
   ],
   "source": [
    "# Export area of interest to shapefile\n",
    "geemap.ee_to_shp(boundary_layer, os.path.join(RAWGIS_DIR, 'AOI.shp'))"
   ]
  },
  {
   "cell_type": "code",
   "execution_count": null,
   "metadata": {},
   "outputs": [],
   "source": []
  }
 ],
 "metadata": {
  "kernelspec": {
   "display_name": "RHESSys Biome-BGC",
   "language": "python",
   "name": "rhessys-leb3t"
  },
  "language_info": {
   "codemirror_mode": {
    "name": "ipython",
    "version": 3
   },
   "file_extension": ".py",
   "mimetype": "text/x-python",
   "name": "python",
   "nbconvert_exporter": "python",
   "pygments_lexer": "ipython3",
   "version": "3.7.12"
  }
 },
 "nbformat": 4,
 "nbformat_minor": 4
}
