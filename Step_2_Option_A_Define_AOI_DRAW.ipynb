{
 "cells": [
  {
   "cell_type": "markdown",
   "metadata": {},
   "source": [
    "# Define Area of Interest on Google Earth Engine"
   ]
  },
  {
   "cell_type": "markdown",
   "metadata": {},
   "source": [
    "Earth Engine Explorer (EE Explorer) is a lightweight geospatial image data viewer with access to a large set of global and regional datasets available in the Earth Engine Data Catalog (https://developers.google.com/earth-engine/datasets/). It allows for quick viewing of data with the ability to zoom and pan anywhere on Earth, adjust visualization settings, and layer data to inspect change over time."
   ]
  },
  {
   "cell_type": "markdown",
   "metadata": {},
   "source": [
    "* In this notebook, users create a shape that defines model extent. This will be the region that is used to clip all raster files and ultimately dictate the region that is run in Biome BGC."
   ]
  },
  {
   "cell_type": "markdown",
   "metadata": {},
   "source": [
    "<div class=\"alert alert-block alert-danger\">\n",
    "<b> Project Name Setting: </b> Please set the Project Name and Cell Resolution for your project </div>"
   ]
  },
  {
   "cell_type": "code",
   "execution_count": 3,
   "metadata": {},
   "outputs": [],
   "source": [
    "# CHANGE PROJECT NAME HERE\n",
    "PROJECT_NAME = 'Test'\n",
    "\n",
    "# CURRENT DIRECTORY HERE, SET WHERE THE NOTEBOOKS ARE LOCATED\n",
    "CURRENT_DIRECTORY = '/home/teaganbaiotto/Documents/bbgci'\n",
    "\n",
    "# SET THE SPATIAL RESOLUTION (in meters)\n",
    "SPATIAL_RESOLUTION = 30"
   ]
  },
  {
   "cell_type": "code",
   "execution_count": 4,
   "metadata": {},
   "outputs": [],
   "source": [
    "import os, shutil\n",
    "os.chdir(CURRENT_DIRECTORY)"
   ]
  },
  {
   "cell_type": "code",
   "execution_count": 5,
   "metadata": {},
   "outputs": [],
   "source": [
    "# Define folder paths as global variables\n",
    "PROJECT_DIR = os.path.join(CURRENT_DIRECTORY, PROJECT_NAME)\n",
    "RAWGIS_DIR = os.path.join(PROJECT_DIR, \"gis_data\")\n",
    "RAWOBS_DIR = os.path.join(PROJECT_DIR, \"obs\")\n",
    "RAWSOIL_DIR = os.path.join(RAWGIS_DIR, \"soil\")\n",
    "MODEL_DIR = os.path.join(PROJECT_DIR, 'model')\n",
    "DEF_DIR = os.path.join(MODEL_DIR, 'defs')\n",
    "INI_DIR = os.path.join(MODEL_DIR, 'ini_files')\n",
    "EPC_DIR = os.path.join(MODEL_DIR, 'epc_files')\n",
    "OUTPUT_DIR = os.path.join(MODEL_DIR, 'output')\n",
    "CO2_DIR = os.path.join(MODEL_DIR, 'co2')\n",
    "NDEP_DIR = os.path.join(MODEL_DIR, 'ndep')\n",
    "ENDPOINT_DIR = os.path.join(MODEL_DIR, 'endpoint_files')\n",
    "SPINUP_DIR = os.path.join(MODEL_DIR, 'spinup')\n",
    "NORMAL_DIR = os.path.join(MODEL_DIR, 'normal')\n",
    "MODEL_RAST_DIR = os.path.join(MODEL_DIR, 'raster_inputs')\n",
    "IMAGE = os.path.join(PROJECT_DIR, 'image_map')"
   ]
  },
  {
   "cell_type": "markdown",
   "metadata": {},
   "source": [
    "## Install geemap package"
   ]
  },
  {
   "cell_type": "code",
   "execution_count": 6,
   "metadata": {
    "scrolled": true
   },
   "outputs": [
    {
     "data": {
      "text/html": [
       "<p>To authorize access needed by Earth Engine, open the following\n",
       "        URL in a web browser and follow the instructions:</p>\n",
       "        <p><a href=https://code.earthengine.google.com/client-auth?scopes=https%3A//www.googleapis.com/auth/earthengine%20https%3A//www.googleapis.com/auth/devstorage.full_control&request_id=BIfHvwgGmzX7iBj7MpBP6FSSWLqo6va080VxXjqMUs4&tc=2epvD2qOao6wtyC6AynJ_KiTrI3F5jgWuAXCS6z0Knw&cc=eEb8QdQ0fk5xr6yovu6TP2VAesotX3lk2fwf_nGrqOE>https://code.earthengine.google.com/client-auth?scopes=https%3A//www.googleapis.com/auth/earthengine%20https%3A//www.googleapis.com/auth/devstorage.full_control&request_id=BIfHvwgGmzX7iBj7MpBP6FSSWLqo6va080VxXjqMUs4&tc=2epvD2qOao6wtyC6AynJ_KiTrI3F5jgWuAXCS6z0Knw&cc=eEb8QdQ0fk5xr6yovu6TP2VAesotX3lk2fwf_nGrqOE</a></p>\n",
       "        <p>The authorization workflow will generate a code, which you\n",
       "        should paste in the box below</p>\n",
       "        "
      ],
      "text/plain": [
       "<IPython.core.display.HTML object>"
      ]
     },
     "metadata": {},
     "output_type": "display_data"
    },
    {
     "name": "stdout",
     "output_type": "stream",
     "text": [
      "Enter verification code: 4/1AWtgzh6icGZ0C6tG64qq1LaLJ4p5uvII2sf22F5INL26xrcwtjhzA_ZVtnM\n",
      "\n",
      "Successfully saved authorization token.\n"
     ]
    }
   ],
   "source": [
    "# Installs geemap package\n",
    "import sys, site\n",
    "\n",
    "try:\n",
    "    import geemap\n",
    "except ImportError:\n",
    "    # If error with this cell, try commenting out next line and un-commenting two lines below.\n",
    "    !pip install -U geemap\n",
    "    # !{sys.executable} -m pip install geemap==0.9.1\n",
    "    sys.path.insert(0, site.getusersitepackages())\n",
    "\n",
    "# Authenticates and initializes Earth Engine\n",
    "import ee\n",
    "import geemap\n",
    "\n",
    "try:\n",
    "    ee.Initialize()\n",
    "except Exception as e:\n",
    "    ee.Authenticate()\n",
    "    ee.Initialize()  "
   ]
  },
  {
   "cell_type": "markdown",
   "metadata": {},
   "source": [
    "## Create an interactive map"
   ]
  },
  {
   "cell_type": "markdown",
   "metadata": {},
   "source": [
    "geemap is a Python package that allows users to interactively interact with datasets stored in the Google Earth Engine data repository. Below, we create an empty map using geemap and select an area of interest manually using the map drawing tools."
   ]
  },
  {
   "cell_type": "code",
   "execution_count": 7,
   "metadata": {},
   "outputs": [
    {
     "data": {
      "application/vnd.jupyter.widget-view+json": {
       "model_id": "4f4f0441724543199c320c097ddd9b2a",
       "version_major": 2,
       "version_minor": 0
      },
      "text/plain": [
       "Map(center=[40, -100], controls=(WidgetControl(options=['position', 'transparent_bg'], widget=HBox(children=(T…"
      ]
     },
     "metadata": {},
     "output_type": "display_data"
    },
    {
     "name": "stdout",
     "output_type": "stream",
     "text": [
      "There was an error creating Earth Engine Feature.\n"
     ]
    },
    {
     "ename": "Exception",
     "evalue": "list.remove(x): x not in list",
     "output_type": "error",
     "traceback": [
      "\u001b[0;31m---------------------------------------------------------------------------\u001b[0m",
      "\u001b[0;31mValueError\u001b[0m                                Traceback (most recent call last)",
      "\u001b[0;32m/env/lib/python3.7/site-packages/geemap/geemap.py\u001b[0m in \u001b[0;36mhandle_draw\u001b[0;34m(target, action, geo_json)\u001b[0m\n\u001b[1;32m    519\u001b[0m                 \u001b[0;32mif\u001b[0m \u001b[0maction\u001b[0m \u001b[0;34m==\u001b[0m \u001b[0;34m\"deleted\"\u001b[0m \u001b[0;32mand\u001b[0m \u001b[0mlen\u001b[0m\u001b[0;34m(\u001b[0m\u001b[0mself\u001b[0m\u001b[0;34m.\u001b[0m\u001b[0mdraw_features\u001b[0m\u001b[0;34m)\u001b[0m \u001b[0;34m>\u001b[0m \u001b[0;36m0\u001b[0m\u001b[0;34m:\u001b[0m\u001b[0;34m\u001b[0m\u001b[0;34m\u001b[0m\u001b[0m\n\u001b[0;32m--> 520\u001b[0;31m                     \u001b[0mself\u001b[0m\u001b[0;34m.\u001b[0m\u001b[0mdraw_features\u001b[0m\u001b[0;34m.\u001b[0m\u001b[0mremove\u001b[0m\u001b[0;34m(\u001b[0m\u001b[0mfeature\u001b[0m\u001b[0;34m)\u001b[0m\u001b[0;34m\u001b[0m\u001b[0;34m\u001b[0m\u001b[0m\n\u001b[0m\u001b[1;32m    521\u001b[0m                     \u001b[0mself\u001b[0m\u001b[0;34m.\u001b[0m\u001b[0mdraw_count\u001b[0m \u001b[0;34m-=\u001b[0m \u001b[0;36m1\u001b[0m\u001b[0;34m\u001b[0m\u001b[0;34m\u001b[0m\u001b[0m\n",
      "\u001b[0;31mValueError\u001b[0m: list.remove(x): x not in list",
      "\nDuring handling of the above exception, another exception occurred:\n",
      "\u001b[0;31mException\u001b[0m                                 Traceback (most recent call last)",
      "\u001b[0;32m/env/lib/python3.7/site-packages/geemap/geemap.py\u001b[0m in \u001b[0;36mhandle_draw\u001b[0;34m(target, action, geo_json)\u001b[0m\n\u001b[1;32m    547\u001b[0m                 \u001b[0mself\u001b[0m\u001b[0;34m.\u001b[0m\u001b[0mroi_end\u001b[0m \u001b[0;34m=\u001b[0m \u001b[0;32mFalse\u001b[0m\u001b[0;34m\u001b[0m\u001b[0;34m\u001b[0m\u001b[0m\n\u001b[1;32m    548\u001b[0m                 \u001b[0mprint\u001b[0m\u001b[0;34m(\u001b[0m\u001b[0;34m\"There was an error creating Earth Engine Feature.\"\u001b[0m\u001b[0;34m)\u001b[0m\u001b[0;34m\u001b[0m\u001b[0;34m\u001b[0m\u001b[0m\n\u001b[0;32m--> 549\u001b[0;31m                 \u001b[0;32mraise\u001b[0m \u001b[0mException\u001b[0m\u001b[0;34m(\u001b[0m\u001b[0me\u001b[0m\u001b[0;34m)\u001b[0m\u001b[0;34m\u001b[0m\u001b[0;34m\u001b[0m\u001b[0m\n\u001b[0m\u001b[1;32m    550\u001b[0m \u001b[0;34m\u001b[0m\u001b[0m\n\u001b[1;32m    551\u001b[0m         \u001b[0mdraw_control\u001b[0m\u001b[0;34m.\u001b[0m\u001b[0mon_draw\u001b[0m\u001b[0;34m(\u001b[0m\u001b[0mhandle_draw\u001b[0m\u001b[0;34m)\u001b[0m\u001b[0;34m\u001b[0m\u001b[0;34m\u001b[0m\u001b[0m\n",
      "\u001b[0;31mException\u001b[0m: list.remove(x): x not in list"
     ]
    }
   ],
   "source": [
    "Map = geemap.Map(center=[40,-100], zoom=4)\n",
    "Map"
   ]
  },
  {
   "cell_type": "markdown",
   "metadata": {},
   "source": [
    "## Define AOI using Drawn Feature"
   ]
  },
  {
   "cell_type": "markdown",
   "metadata": {},
   "source": [
    "<div class=\"alert alert-block alert-danger\">\n",
    "<b> Manual Input: </b> Please draw on interactive map the desired AOI for project </div>"
   ]
  },
  {
   "cell_type": "code",
   "execution_count": 6,
   "metadata": {},
   "outputs": [
    {
     "data": {
      "text/plain": [
       "[<ee.feature.Feature at 0x7fdfa179ecd0>]"
      ]
     },
     "execution_count": 6,
     "metadata": {},
     "output_type": "execute_result"
    }
   ],
   "source": [
    "# List all features drawn on map. Make sure there is only one (or that the one you want is last in the list)\n",
    "Map.draw_features"
   ]
  },
  {
   "cell_type": "code",
   "execution_count": 7,
   "metadata": {},
   "outputs": [
    {
     "data": {
      "text/plain": [
       "<ee.feature.Feature at 0x7fdfa179ecd0>"
      ]
     },
     "execution_count": 7,
     "metadata": {},
     "output_type": "execute_result"
    }
   ],
   "source": [
    "# Select the last drawn feature\n",
    "Map.draw_last_feature"
   ]
  },
  {
   "cell_type": "code",
   "execution_count": 9,
   "metadata": {},
   "outputs": [],
   "source": [
    "# Make AOI a global variable\n",
    "boundary_layer = ee.FeatureCollection(Map.draw_features)"
   ]
  },
  {
   "cell_type": "code",
   "execution_count": 10,
   "metadata": {
    "scrolled": true
   },
   "outputs": [
    {
     "name": "stdout",
     "output_type": "stream",
     "text": [
      "Generating URL ...\n",
      "Downloading data from https://earthengine.googleapis.com/v1alpha/projects/earthengine-legacy/tables/978d63de4f0b8b1ea81e11ba522a7afc-8c789764090bb943b4a2c69c92a50bb6:getFeatures\n",
      "Please wait ...\n",
      "Data downloaded to /gpfs/gpfs0/scratch/tmb4ee/Test/gis_data/AOI.shp\n"
     ]
    }
   ],
   "source": [
    "# Export area of interest to shapefile\n",
    "geemap.ee_to_shp(boundary_layer, os.path.join(RAWGIS_DIR, 'AOI.shp'))"
   ]
  },
  {
   "cell_type": "code",
   "execution_count": null,
   "metadata": {},
   "outputs": [],
   "source": []
  }
 ],
 "metadata": {
  "kernelspec": {
   "display_name": "Python 3",
   "language": "python",
   "name": "python3"
  },
  "language_info": {
   "codemirror_mode": {
    "name": "ipython",
    "version": 3
   },
   "file_extension": ".py",
   "mimetype": "text/x-python",
   "name": "python",
   "nbconvert_exporter": "python",
   "pygments_lexer": "ipython3",
   "version": "3.7.12"
  }
 },
 "nbformat": 4,
 "nbformat_minor": 4
}
