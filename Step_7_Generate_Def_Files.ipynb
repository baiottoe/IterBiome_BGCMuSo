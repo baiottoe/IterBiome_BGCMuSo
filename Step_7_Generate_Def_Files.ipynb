{
 "cells": [
  {
   "cell_type": "markdown",
   "id": "complicated-smart",
   "metadata": {},
   "source": [
    "# Write Model Def Files"
   ]
  },
  {
   "cell_type": "markdown",
   "id": "74016796",
   "metadata": {},
   "source": [
    "The model .def files specify necessary input parameters and unique to the model configuration. Here, we will set which output variables we wish to retrieve from Biome-BGC Muso and associate land use classes with the management and eco-physiological constant (EPC) files used to simulate vegetation."
   ]
  },
  {
   "cell_type": "markdown",
   "id": "medium-bikini",
   "metadata": {},
   "source": [
    "<div class=\"alert alert-block alert-danger\">\n",
    "<b> Project Name Setting: </b> Please set the Project Name and Cell Resolution for your project </div>"
   ]
  },
  {
   "cell_type": "code",
   "execution_count": 4,
   "id": "4a6f9d54-bc6f-4e0c-af89-8c3116994068",
   "metadata": {},
   "outputs": [],
   "source": [
    "# CHANGE PROJECT NAME HERE\n",
    "PROJECT_NAME = 'Test'\n",
    "\n",
    "# CURRENT DIRECTORY HERE, SET WHERE THE NOTEBOOKS ARE LOCATED\n",
    "CURRENT_DIRECTORY = '/home/teaganbaiotto/Documents/bbgci'\n",
    "\n",
    "# SET THE SPATIAL RESOLUTION (in meters)\n",
    "SPATIAL_RESOLUTION = 30"
   ]
  },
  {
   "cell_type": "code",
   "execution_count": 5,
   "id": "f78840ef-ec16-4edb-8a83-5de3f3a27d10",
   "metadata": {},
   "outputs": [],
   "source": [
    "import os, shutil\n",
    "os.chdir(CURRENT_DIRECTORY)"
   ]
  },
  {
   "cell_type": "code",
   "execution_count": 6,
   "id": "encouraging-diameter",
   "metadata": {},
   "outputs": [],
   "source": [
    "# Define folder paths as global variables\n",
    "PROJECT_DIR = os.path.join(CURRENT_DIRECTORY, PROJECT_NAME)\n",
    "RAWGIS_DIR = os.path.join(PROJECT_DIR, \"gis_data\")\n",
    "RAWOBS_DIR = os.path.join(PROJECT_DIR, \"obs\")\n",
    "RAWSOIL_DIR = os.path.join(RAWGIS_DIR, \"soil\")\n",
    "MODEL_DIR = os.path.join(PROJECT_DIR, 'model')\n",
    "DEF_DIR = os.path.join(MODEL_DIR, 'defs')\n",
    "INI_DIR = os.path.join(MODEL_DIR, 'ini_files')\n",
    "EPC_DIR = os.path.join(MODEL_DIR, 'epc_files')\n",
    "OUTPUT_DIR = os.path.join(MODEL_DIR, 'output')\n",
    "CO2_DIR = os.path.join(MODEL_DIR, 'co2')\n",
    "NDEP_DIR = os.path.join(MODEL_DIR, 'ndep')\n",
    "ENDPOINT_DIR = os.path.join(MODEL_DIR, 'endpoint_files')\n",
    "SPINUP_DIR = os.path.join(MODEL_DIR, 'spinup')\n",
    "NORMAL_DIR = os.path.join(MODEL_DIR, 'normal')\n",
    "MODEL_RAST_DIR = os.path.join(MODEL_DIR, 'raster_inputs')\n",
    "IMAGE = os.path.join(PROJECT_DIR, 'image_map')"
   ]
  },
  {
   "cell_type": "markdown",
   "id": "satisfactory-hydrogen",
   "metadata": {},
   "source": [
    "### Retrieve Model Files From Hydroshare Resource"
   ]
  },
  {
   "cell_type": "markdown",
   "id": "agreed-vampire",
   "metadata": {},
   "source": [
    "<div class=\"alert alert-block alert-danger\">\n",
    "<b> Input Files From Hydroshare: </b> Please ensure the CO2 and NDEP files have data for all years that are being simulated. In addition, ensure all desired EPC files exist </div>"
   ]
  },
  {
   "cell_type": "code",
   "execution_count": 7,
   "id": "specific-cassette",
   "metadata": {
    "scrolled": true
   },
   "outputs": [
    {
     "name": "stdout",
     "output_type": "stream",
     "text": [
      "--2023-02-02 11:25:20--  https://www.hydroshare.org/resource/38d56b520b7546069e3abcae82eb6944/data/contents/ini_template.ini\n",
      "Resolving www.hydroshare.org (www.hydroshare.org)... 152.54.2.89\n",
      "Connecting to www.hydroshare.org (www.hydroshare.org)|152.54.2.89|:443... connected.\n",
      "HTTP request sent, awaiting response... 301 Moved Permanently\n",
      "Location: /resource/38d56b520b7546069e3abcae82eb6944/data/contents/ini_template.ini/ [following]\n",
      "--2023-02-02 11:25:21--  https://www.hydroshare.org/resource/38d56b520b7546069e3abcae82eb6944/data/contents/ini_template.ini/\n",
      "Reusing existing connection to www.hydroshare.org:443.\n",
      "HTTP request sent, awaiting response... 302 Found\n",
      "Location: /django_irods/rest_download/38d56b520b7546069e3abcae82eb6944/data/contents/ini_template.ini/?url_download=False&zipped=False&aggregation=False [following]\n",
      "--2023-02-02 11:25:21--  https://www.hydroshare.org/django_irods/rest_download/38d56b520b7546069e3abcae82eb6944/data/contents/ini_template.ini/?url_download=False&zipped=False&aggregation=False\n",
      "Reusing existing connection to www.hydroshare.org:443.\n",
      "HTTP request sent, awaiting response... 200 OK\n",
      "Length: 9826 (9.6K) [application-x/octet-stream]\n",
      "Saving to: ‘/home/teaganbaiotto/Documents/bbgci/Test/model/ini_files/ini_template.ini’\n",
      "\n",
      "ini_template.ini    100%[===================>]   9.60K  --.-KB/s    in 0.006s  \n",
      "\n",
      "2023-02-02 11:25:22 (1.62 MB/s) - ‘/home/teaganbaiotto/Documents/bbgci/Test/model/ini_files/ini_template.ini’ saved [9826/9826]\n",
      "\n",
      "--2023-02-02 11:25:22--  https://www.hydroshare.org/resource/38d56b520b7546069e3abcae82eb6944/data/contents/epc_files.zip\n",
      "Resolving www.hydroshare.org (www.hydroshare.org)... 152.54.2.89\n",
      "Connecting to www.hydroshare.org (www.hydroshare.org)|152.54.2.89|:443... connected.\n",
      "HTTP request sent, awaiting response... 301 Moved Permanently\n",
      "Location: /resource/38d56b520b7546069e3abcae82eb6944/data/contents/epc_files.zip/ [following]\n",
      "--2023-02-02 11:25:23--  https://www.hydroshare.org/resource/38d56b520b7546069e3abcae82eb6944/data/contents/epc_files.zip/\n",
      "Reusing existing connection to www.hydroshare.org:443.\n",
      "HTTP request sent, awaiting response... 302 Found\n",
      "Location: /django_irods/rest_download/38d56b520b7546069e3abcae82eb6944/data/contents/epc_files.zip/?url_download=False&zipped=False&aggregation=False [following]\n",
      "--2023-02-02 11:25:23--  https://www.hydroshare.org/django_irods/rest_download/38d56b520b7546069e3abcae82eb6944/data/contents/epc_files.zip/?url_download=False&zipped=False&aggregation=False\n",
      "Reusing existing connection to www.hydroshare.org:443.\n",
      "HTTP request sent, awaiting response... 200 OK\n",
      "Length: 22811 (22K) [application/zip]\n",
      "Saving to: ‘/home/teaganbaiotto/Documents/bbgci/Test/model/epc_files.zip.1’\n",
      "\n",
      "epc_files.zip.1     100%[===================>]  22.28K  --.-KB/s    in 0.06s   \n",
      "\n",
      "2023-02-02 11:25:24 (359 KB/s) - ‘/home/teaganbaiotto/Documents/bbgci/Test/model/epc_files.zip.1’ saved [22811/22811]\n",
      "\n",
      "Archive:  /home/teaganbaiotto/Documents/bbgci/Test/model/epc_files.zip\n",
      "replace /home/teaganbaiotto/Documents/bbgci/Test/model/epc_files/c3g.epc? [y]es, [n]o, [A]ll, [N]one, [r]ename: ^C\n",
      "--2023-02-02 11:26:09--  https://www.hydroshare.org/resource/38d56b520b7546069e3abcae82eb6944/data/contents/CO2.txt\n",
      "Resolving www.hydroshare.org (www.hydroshare.org)... 152.54.2.89\n",
      "Connecting to www.hydroshare.org (www.hydroshare.org)|152.54.2.89|:443... connected.\n",
      "HTTP request sent, awaiting response... 301 Moved Permanently\n",
      "Location: /resource/38d56b520b7546069e3abcae82eb6944/data/contents/CO2.txt/ [following]\n",
      "--2023-02-02 11:26:09--  https://www.hydroshare.org/resource/38d56b520b7546069e3abcae82eb6944/data/contents/CO2.txt/\n",
      "Reusing existing connection to www.hydroshare.org:443.\n",
      "HTTP request sent, awaiting response... 302 Found\n",
      "Location: /django_irods/rest_download/38d56b520b7546069e3abcae82eb6944/data/contents/CO2.txt/?url_download=False&zipped=False&aggregation=False [following]\n",
      "--2023-02-02 11:26:09--  https://www.hydroshare.org/django_irods/rest_download/38d56b520b7546069e3abcae82eb6944/data/contents/CO2.txt/?url_download=False&zipped=False&aggregation=False\n",
      "Reusing existing connection to www.hydroshare.org:443.\n",
      "HTTP request sent, awaiting response... 200 OK\n",
      "Length: 630 [text/plain]\n",
      "Saving to: ‘/home/teaganbaiotto/Documents/bbgci/Test/model/co2/CO2.txt.1’\n",
      "\n",
      "CO2.txt.1           100%[===================>]     630  --.-KB/s    in 0s      \n",
      "\n",
      "2023-02-02 11:26:10 (170 MB/s) - ‘/home/teaganbaiotto/Documents/bbgci/Test/model/co2/CO2.txt.1’ saved [630/630]\n",
      "\n",
      "--2023-02-02 11:26:11--  https://www.hydroshare.org/resource/38d56b520b7546069e3abcae82eb6944/data/contents/Ndep.txt\n",
      "Resolving www.hydroshare.org (www.hydroshare.org)... 152.54.2.89\n",
      "Connecting to www.hydroshare.org (www.hydroshare.org)|152.54.2.89|:443... connected.\n",
      "HTTP request sent, awaiting response... 301 Moved Permanently\n",
      "Location: /resource/38d56b520b7546069e3abcae82eb6944/data/contents/Ndep.txt/ [following]\n",
      "--2023-02-02 11:26:11--  https://www.hydroshare.org/resource/38d56b520b7546069e3abcae82eb6944/data/contents/Ndep.txt/\n",
      "Reusing existing connection to www.hydroshare.org:443.\n",
      "HTTP request sent, awaiting response... 302 Found\n",
      "Location: /django_irods/rest_download/38d56b520b7546069e3abcae82eb6944/data/contents/Ndep.txt/?url_download=False&zipped=False&aggregation=False [following]\n",
      "--2023-02-02 11:26:11--  https://www.hydroshare.org/django_irods/rest_download/38d56b520b7546069e3abcae82eb6944/data/contents/Ndep.txt/?url_download=False&zipped=False&aggregation=False\n",
      "Reusing existing connection to www.hydroshare.org:443.\n",
      "HTTP request sent, awaiting response... 200 OK\n",
      "Length: 737 [text/plain]\n",
      "Saving to: ‘/home/teaganbaiotto/Documents/bbgci/Test/model/ndep/Ndep.txt.1’\n",
      "\n",
      "Ndep.txt.1          100%[===================>]     737  --.-KB/s    in 0s      \n",
      "\n",
      "2023-02-02 11:26:13 (194 MB/s) - ‘/home/teaganbaiotto/Documents/bbgci/Test/model/ndep/Ndep.txt.1’ saved [737/737]\n",
      "\n",
      "--2023-02-02 11:26:13--  https://www.hydroshare.org/resource/38d56b520b7546069e3abcae82eb6944/data/contents/soil.SOI\n",
      "Resolving www.hydroshare.org (www.hydroshare.org)... 152.54.2.89\n",
      "Connecting to www.hydroshare.org (www.hydroshare.org)|152.54.2.89|:443... connected.\n",
      "HTTP request sent, awaiting response... 301 Moved Permanently\n",
      "Location: /resource/38d56b520b7546069e3abcae82eb6944/data/contents/soil.SOI/ [following]\n",
      "--2023-02-02 11:26:13--  https://www.hydroshare.org/resource/38d56b520b7546069e3abcae82eb6944/data/contents/soil.SOI/\n",
      "Reusing existing connection to www.hydroshare.org:443.\n",
      "HTTP request sent, awaiting response... 302 Found\n",
      "Location: /django_irods/rest_download/38d56b520b7546069e3abcae82eb6944/data/contents/soil.SOI/?url_download=False&zipped=False&aggregation=False [following]\n",
      "--2023-02-02 11:26:13--  https://www.hydroshare.org/django_irods/rest_download/38d56b520b7546069e3abcae82eb6944/data/contents/soil.SOI/?url_download=False&zipped=False&aggregation=False\n",
      "Reusing existing connection to www.hydroshare.org:443.\n",
      "HTTP request sent, awaiting response... 200 OK\n",
      "Length: 6359 (6.2K) [application-x/octet-stream]\n",
      "Saving to: ‘/home/teaganbaiotto/Documents/bbgci/Test/model/ini_files/soil.SOI.1’\n",
      "\n",
      "soil.SOI.1          100%[===================>]   6.21K  --.-KB/s    in 0.01s   \n",
      "\n",
      "2023-02-02 11:26:15 (642 KB/s) - ‘/home/teaganbaiotto/Documents/bbgci/Test/model/ini_files/soil.SOI.1’ saved [6359/6359]\n",
      "\n",
      "--2023-02-02 11:26:15--  https://www.hydroshare.org/resource/38d56b520b7546069e3abcae82eb6944/data/contents/mgm_template.mgm\n",
      "Resolving www.hydroshare.org (www.hydroshare.org)... 152.54.2.89\n",
      "Connecting to www.hydroshare.org (www.hydroshare.org)|152.54.2.89|:443... connected.\n",
      "HTTP request sent, awaiting response... 301 Moved Permanently\n",
      "Location: /resource/38d56b520b7546069e3abcae82eb6944/data/contents/mgm_template.mgm/ [following]\n",
      "--2023-02-02 11:26:15--  https://www.hydroshare.org/resource/38d56b520b7546069e3abcae82eb6944/data/contents/mgm_template.mgm/\n",
      "Reusing existing connection to www.hydroshare.org:443.\n",
      "HTTP request sent, awaiting response... 302 Found\n",
      "Location: /django_irods/rest_download/38d56b520b7546069e3abcae82eb6944/data/contents/mgm_template.mgm/?url_download=False&zipped=False&aggregation=False [following]\n",
      "--2023-02-02 11:26:15--  https://www.hydroshare.org/django_irods/rest_download/38d56b520b7546069e3abcae82eb6944/data/contents/mgm_template.mgm/?url_download=False&zipped=False&aggregation=False\n",
      "Reusing existing connection to www.hydroshare.org:443.\n"
     ]
    },
    {
     "name": "stdout",
     "output_type": "stream",
     "text": [
      "HTTP request sent, awaiting response... 200 OK\r\n",
      "Length: 2051 (2.0K) [application-x/octet-stream]\r\n",
      "Saving to: ‘/home/teaganbaiotto/Documents/bbgci/Test/model/mgm_files/mgm_template.mgm.1’\r\n",
      "\r\n",
      "\r",
      "mgm_template.mgm.1    0%[                    ]       0  --.-KB/s               \r",
      "mgm_template.mgm.1  100%[===================>]   2.00K  --.-KB/s    in 0s      \r\n",
      "\r\n",
      "2023-02-02 11:26:16 (526 MB/s) - ‘/home/teaganbaiotto/Documents/bbgci/Test/model/mgm_files/mgm_template.mgm.1’ saved [2051/2051]\r\n",
      "\r\n"
     ]
    }
   ],
   "source": [
    "# Hydroshare resource containing important BBGC files assembled specifically for this adapted model.\n",
    "resource_id = \"38d56b520b7546069e3abcae82eb6944\"\n",
    "\n",
    "# Retrieve ini template file and move to model directory\n",
    "!wget https://www.hydroshare.org/resource/{resource_id}/data/contents/ini_template.ini -P {INI_DIR}\n",
    "\n",
    "# Retrieve epc files and move to model directory\n",
    "!wget https://www.hydroshare.org/resource/{resource_id}/data/contents/epc_files.zip -P {MODEL_DIR}\n",
    "!unzip {os.path.join(MODEL_DIR, 'epc_files.zip')} -d {MODEL_DIR}\n",
    "\n",
    "# Retrieve CO2 file and move to model directory\n",
    "!wget https://www.hydroshare.org/resource/{resource_id}/data/contents/CO2.txt -P {CO2_DIR}\n",
    "\n",
    "# Retrieve Ndep file and move to model directory\n",
    "!wget https://www.hydroshare.org/resource/{resource_id}/data/contents/Ndep.txt -P {NDEP_DIR}\n",
    "\n",
    "# Retrieve soil file and move to model directory\n",
    "!wget https://www.hydroshare.org/resource/{resource_id}/data/contents/soil.SOI -P {INI_DIR}\n",
    "\n",
    "# Retrieve management file and send to mgm directory\n",
    "!wget https://www.hydroshare.org/resource/{resource_id}/data/contents/mgm_template.mgm -P {os.path.join(MODEL_DIR, 'mgm_files')}"
   ]
  },
  {
   "cell_type": "code",
   "execution_count": 6,
   "id": "compound-denmark",
   "metadata": {},
   "outputs": [
    {
     "data": {
      "text/plain": [
       "['c3g.epc',\n",
       " 'enf.epc',\n",
       " 'ebf.epc',\n",
       " 'c4g.epc',\n",
       " 'dnf.epc',\n",
       " 'shr.epc',\n",
       " 'maize.epc',\n",
       " 'dbf.epc']"
      ]
     },
     "execution_count": 6,
     "metadata": {},
     "output_type": "execute_result"
    }
   ],
   "source": [
    "epc_data_dir = os.listdir(EPC_DIR)\n",
    "epc_data_dir"
   ]
  },
  {
   "cell_type": "markdown",
   "id": "b40dc225",
   "metadata": {},
   "source": [
    "The EPC files are critical determinants of model simulation and simulated biogeochemical cycling. You will want to appropriately match the files for the land use codes set up in the land use GIS file. Below is a list of the epc files contained in the directory above and their meaning. If setting up a more advanced/precise model, these files may be manually edited to better reflect site vegetation before proceeding to the next step.\n",
    "- gra.epc: C3 Photosynthesis Grass/Herbaceous Plant Functional Type\n",
    "- dbf.epc: C3 Deciduous Forest Functional Type\n",
    "- enf.epc: C3 Evergreen (Needle-Leaf) Forest Functional Type"
   ]
  },
  {
   "cell_type": "markdown",
   "id": "4ee55951-edcd-42bd-b18c-681857e41454",
   "metadata": {},
   "source": [
    "### Built Management Files (OPTIONAL)"
   ]
  },
  {
   "cell_type": "markdown",
   "id": "2c05efff-9d58-4ec7-8432-cdc9f2ada32f",
   "metadata": {},
   "source": [
    "<div class=\"alert alert-block alert-danger\">\n",
    "<b> Manual File Creation: </b> Please copy and edit the mgm_template file found in the management model directory for each different management type you wish to include </div>"
   ]
  },
  {
   "cell_type": "markdown",
   "id": "152da610-e56b-4d9e-8163-5a2a95b1ef95",
   "metadata": {},
   "source": [
    "If you wish to implement management routines in the model, you will need to manually create management files at this point.\n",
    "\n",
    "The main management file that is pointed to and required by the lu.def file below takes the form of a copy of the mgm_template file found in the management directory. Please make a copy for each set of management strategies you wish to implement, name them uniquely, and leave them in the management directory.\n",
    "\n",
    "Each primary management file points to individual management files for each strategy. Please create these files in the management directory and, where requested in the primary management file, put the full directory (example: /scratch/tmb4ee/TEST_SITE/MODEL_NAME/model/mgm_files/MY_FILE.mow"
   ]
  },
  {
   "cell_type": "markdown",
   "id": "assumed-windows",
   "metadata": {},
   "source": [
    "### Write lu.def"
   ]
  },
  {
   "cell_type": "markdown",
   "id": "metric-wales",
   "metadata": {},
   "source": [
    "- This file specifies which epc files and management routines are to be used for the different land use codes present. Please include only the file name with extension (example: dbf.epc)\n",
    "\n",
    "- NOTE: IF USING MANAGEMENT FILE WITH PLANTING (DIFFERENT EPC FILE IS USED FOR CROP), EPC_FILE IN LU.DEF MUST BE THE SAME!!! "
   ]
  },
  {
   "cell_type": "code",
   "execution_count": 7,
   "id": "known-chapel",
   "metadata": {},
   "outputs": [
    {
     "name": "stdout",
     "output_type": "stream",
     "text": [
      "Writing /home/teaganbaiotto/Documents/bbgci/Test/model/defs/lu.def\n"
     ]
    }
   ],
   "source": [
    "%%writefile {os.path.join(DEF_DIR, \"lu.def\")}\n",
    "number\tepc_file_spinup\t\tepc_file_normal\t\tmgm_file_NORMAL\n",
    "11\t    none\t\t\t\tnone\t\t\t\tnone           \n",
    "12\t    none\t\t\t\tnone\t\t\t\tnone  \n",
    "21\t    c3g.epc\t\t\t\tc3g.epc\t\t\t\ttest_mow.mgm\n",
    "22\t    none\t\t\t\tnone\t\t\t\tnone  \n",
    "23\t    none\t\t\t\tnone\t\t\t\tnone  \n",
    "24\t    none\t\t\t\tnone\t\t\t\tnone  \n",
    "31\t    none\t\t\t\tnone\t\t\t\tnone  \n",
    "41\t    dbf.epc\t\t\t\tdbf.epc\t\t\t\tnone  \n",
    "42\t    enf.epc\t\t\t\tenf.epc\t\t\t\tnone  \n",
    "43\t    dbf.epc\t\t\t\tdbf.epc\t\t\t\tnone  \n",
    "51\t    shr.epc\t\t\t\tshr.epc\t\t\t\tnone  \n",
    "52\t    shr.epc\t\t\t\tshr.epc\t\t\t\tnone  \n",
    "71\t    c3g.epc\t\t\t\tc3g.epc\t\t\t\tnone  \n",
    "72\t    c3g.epc\t\t\t\tc3g.epc\t\t\t\tnone  \n",
    "73\t    c3g.epc\t\t\t\tc3g.epc\t\t\t\tnone  \n",
    "74\t    c3g.epc\t\t\t\tc3g.epc\t\t\t\tnone  \n",
    "81\t    c3g.epc\t\t\t\tc3g.epc\t\t\t\tnone  \n",
    "82\t    c3g.epc\t\t\t\tmaize.epc\t\t\tmaize.mgm\n",
    "90\t    dbf.epc\t\t\t\tdbf.epc\t\t\t\tnone  \t\n",
    "95\t    c3g.epc\t\t\t\tc3g.epc\t\t\t\tnone  "
   ]
  },
  {
   "cell_type": "markdown",
   "id": "speaking-malpractice",
   "metadata": {},
   "source": [
    "### Write Main.def"
   ]
  },
  {
   "cell_type": "markdown",
   "id": "associate-casino",
   "metadata": {},
   "source": [
    "- This file specifies file names and the time period in which the model will be run for. Maintain the Format and only edit the right column."
   ]
  },
  {
   "cell_type": "code",
   "execution_count": 3,
   "id": "australian-biography",
   "metadata": {},
   "outputs": [
    {
     "name": "stderr",
     "output_type": "stream",
     "text": [
      "UsageError: unrecognized arguments: \"main.def\" )}\n"
     ]
    }
   ],
   "source": [
    "%%writefile {os.path.join(DEF_DIR, \"main.def\")}\n",
    "TYPE    FILENAME\n",
    "s_ini  s.ini\n",
    "n_ini  n.ini\n",
    "co2  CO2.txt\n",
    "ndep  Ndep.txt\n",
    "\n",
    "SPINUP     DATE\n",
    "s_start_date  1980-01-01\n",
    "s_end_date  2021-12-31\n",
    "\n",
    "NORMAL     DATE\n",
    "n_start_date  1980-01-01\n",
    "n_end_date  2021-12-31"
   ]
  },
  {
   "cell_type": "markdown",
   "id": "perceived-assignment",
   "metadata": {},
   "source": [
    "### Write Output.def"
   ]
  },
  {
   "cell_type": "markdown",
   "id": "dimensional-symphony",
   "metadata": {},
   "source": [
    "- This file specifies all daily outputs that will be returned by the model. Please ensure the first line is of the format \"##  number of daily output variables\" and every daily output variable has the correct numeric code.\n",
    "\n",
    "[List of BBGC Muso Outputs](http://nimbus.elte.hu/bbgc/files/MUSO5b_variables.xlsx)"
   ]
  },
  {
   "cell_type": "code",
   "execution_count": 9,
   "id": "removable-explanation",
   "metadata": {},
   "outputs": [
    {
     "name": "stdout",
     "output_type": "stream",
     "text": [
      "Writing /home/teaganbaiotto/Documents/bbgci/Test/model/defs/output.def\n"
     ]
    }
   ],
   "source": [
    "%%writefile {os.path.join(DEF_DIR, \"output.def\")}\n",
    "27      number of daily output variables\n",
    "171\t evapotransp\n",
    "159\t soilw_evap\n",
    "170\t soilw_trans_SUM\n",
    "153\t prcp_to_runoff\n",
    "3007\t daily_nee\n",
    "3009\t daily_gpp\n",
    "3014\t daily_tr\n",
    "2520\t proj_lai\n",
    "3010\t daily_mr\n",
    "3011\t daily_gr\n",
    "3012\t daily_hr\n",
    "3013\t daily_sr\n",
    "90\t soilw_SUM\n",
    "91\t pond_water\n",
    "94\t prcp_src\n",
    "95\t soilevap_snk\n",
    "97\t canopyevap_snk\n",
    "98\t pondwevap_snk\n",
    "99\t trans_snk\n",
    "100\t runoff_snk\n",
    "101\t deeppercolation_snk\n",
    "102\t groundwater_src\n",
    "110\t WbalanceERR \n",
    "111\t inW \n",
    "112\t outW \n",
    "113\t storeW \n",
    "129\t groundwater_snk\n"
   ]
  },
  {
   "cell_type": "code",
   "execution_count": null,
   "id": "presidential-lighting",
   "metadata": {},
   "outputs": [],
   "source": []
  }
 ],
 "metadata": {
  "kernelspec": {
   "display_name": "Python 3",
   "language": "python",
   "name": "python3"
  },
  "language_info": {
   "codemirror_mode": {
    "name": "ipython",
    "version": 3
   },
   "file_extension": ".py",
   "mimetype": "text/x-python",
   "name": "python",
   "nbconvert_exporter": "python",
   "pygments_lexer": "ipython3",
   "version": "3.7.12"
  }
 },
 "nbformat": 4,
 "nbformat_minor": 5
}
