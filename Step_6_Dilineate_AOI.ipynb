{
 "cells": [
  {
   "cell_type": "markdown",
   "metadata": {},
   "source": [
    "# Delineate Watershed and Reclassify NLCD and Soil Map"
   ]
  },
  {
   "cell_type": "markdown",
   "metadata": {},
   "source": [
    "This notebook edits and finalizes BBGC model inputs using [GRASS GIS](https://grass.osgeo.org/), [R](https://www.r-project.org), and [pyrhessys](https://github.com/DavidChoi76/pyrhessys). Specifically, all GIS files previously downloaded will be clipped to the extent of the AOI and aligned with each other so all cells line up between files."
   ]
  },
  {
   "cell_type": "markdown",
   "metadata": {},
   "source": [
    "## Set the Project Directory and Check Data"
   ]
  },
  {
   "cell_type": "markdown",
   "metadata": {},
   "source": [
    "<div class=\"alert alert-block alert-danger\">\n",
    "<b> Project Name Setting: </b> Please set the Project Name for your project </div>"
   ]
  },
  {
   "cell_type": "code",
   "execution_count": 1,
   "metadata": {},
   "outputs": [],
   "source": [
    "# CHANGE PROJECT NAME HERE\n",
    "PROJECT_NAME = 'Test'\n",
    "\n",
    "# CURRENT DIRECTORY HERE, SET WHERE THE NOTEBOOKS ARE LOCATED\n",
    "CURRENT_DIRECTORY = '/home/teaganbaiotto/Documents/bbgci'\n",
    "\n",
    "# SET THE SPATIAL RESOLUTION (in meters)\n",
    "SPATIAL_RESOLUTION = 30"
   ]
  },
  {
   "cell_type": "code",
   "execution_count": 2,
   "metadata": {},
   "outputs": [],
   "source": [
    "import os, shutil\n",
    "import pyrhessys as pr\n",
    "import pyproj\n",
    "\n",
    "os.chdir(CURRENT_DIRECTORY)"
   ]
  },
  {
   "cell_type": "code",
   "execution_count": 3,
   "metadata": {
    "tags": []
   },
   "outputs": [],
   "source": [
    "# Define folder paths as global variables\n",
    "PROJECT_DIR = os.path.join(CURRENT_DIRECTORY, PROJECT_NAME)\n",
    "RAWGIS_DIR = os.path.join(PROJECT_DIR, \"gis_data\")\n",
    "RAWOBS_DIR = os.path.join(PROJECT_DIR, \"obs\")\n",
    "RAWSOIL_DIR = os.path.join(RAWGIS_DIR, \"soil\")\n",
    "MODEL_DIR = os.path.join(PROJECT_DIR, 'model')\n",
    "DEF_DIR = os.path.join(MODEL_DIR, 'defs')\n",
    "INI_DIR = os.path.join(MODEL_DIR, 'ini_files')\n",
    "EPC_DIR = os.path.join(MODEL_DIR, 'epc_files')\n",
    "OUTPUT_DIR = os.path.join(MODEL_DIR, 'output')\n",
    "CO2_DIR = os.path.join(MODEL_DIR, 'co2')\n",
    "NDEP_DIR = os.path.join(MODEL_DIR, 'ndep')\n",
    "ENDPOINT_DIR = os.path.join(MODEL_DIR, 'endpoint_files')\n",
    "SPINUP_DIR = os.path.join(MODEL_DIR, 'spinup')\n",
    "NORMAL_DIR = os.path.join(MODEL_DIR, 'normal')\n",
    "MODEL_RAST_DIR = os.path.join(MODEL_DIR, 'raster_inputs')\n",
    "IMAGE = os.path.join(PROJECT_DIR, 'image_map')"
   ]
  },
  {
   "cell_type": "markdown",
   "metadata": {},
   "source": [
    "## Check Raw GIS Data and Set Paths\n",
    "> #### Check raw gis data in `RAWGIS_DIR (gis_data folder)` which downloaded from HydroShare"
   ]
  },
  {
   "cell_type": "code",
   "execution_count": 4,
   "metadata": {
    "tags": []
   },
   "outputs": [
    {
     "data": {
      "text/plain": [
       "['soil_reprojected.shp',\n",
       " 'AOI_reprojected.shp',\n",
       " 'soil_reprojected.cpg',\n",
       " 'AOI.shp',\n",
       " 'AOI.dbf',\n",
       " 'AOI_reprojected.cpg',\n",
       " '__MACOSX',\n",
       " '.ipynb_checkpoints',\n",
       " 'AOI_reprojected.prj',\n",
       " 'soil_reprojected.dbf',\n",
       " 'soil_reprojected.prj',\n",
       " 'dem_reprojected.tif',\n",
       " 'AOI.cpg',\n",
       " 'daymet_cell.tif',\n",
       " 'AOI_reprojected.dbf',\n",
       " 'soil',\n",
       " 'soil.zip',\n",
       " 'AOI_reprojected.shx',\n",
       " 'AOI.fix',\n",
       " 'nlcd_reprojected.tif',\n",
       " 'AOI.shx',\n",
       " 'nlcd.tif',\n",
       " 'AOI.prj',\n",
       " 'soil_reprojected.shx',\n",
       " 'nasa_dem.tif']"
      ]
     },
     "execution_count": 4,
     "metadata": {},
     "output_type": "execute_result"
    }
   ],
   "source": [
    "raw_data_dir = os.listdir(RAWGIS_DIR)\n",
    "raw_data_dir"
   ]
  },
  {
   "cell_type": "markdown",
   "metadata": {},
   "source": [
    "<div class=\"alert alert-block alert-danger\">\n",
    "<b> Please change the name of specific gis files and time series data like you named raw data. </b>  </div>"
   ]
  },
  {
   "cell_type": "code",
   "execution_count": 6,
   "metadata": {
    "tags": []
   },
   "outputs": [],
   "source": [
    "# Set paths to GIS data. Need to change file names if not downloaded from geoserver\n",
    "\n",
    "rawdem = os.path.join(RAWGIS_DIR, 'dem_reprojected.tif')\n",
    "landcover = os.path.join(RAWGIS_DIR, 'nlcd_reprojected.tif')\n",
    "ssurgo_dir = os.path.join(RAWGIS_DIR, 'soil')\n",
    "aoi_file = os.path.join(RAWGIS_DIR, 'AOI_reprojected.shp')\n",
    "daymet_cell = os.path.join(RAWGIS_DIR, 'daymet_cell.tif')"
   ]
  },
  {
   "cell_type": "markdown",
   "metadata": {},
   "source": [
    "## Set up GRASS Dataset and Initialize GRASS\n",
    "> #### This notebook was tested on `GRASS GIS 7.8`.\n",
    "<br>\n",
    "To start to use GRASS GIS and Python library of GRASS GIS, we need to set GRASS database and environment."
   ]
  },
  {
   "cell_type": "code",
   "execution_count": 7,
   "metadata": {
    "tags": []
   },
   "outputs": [],
   "source": [
    "import sys\n",
    "import subprocess\n",
    "# Set the directory to store preprocessing GRASS database\n",
    "GRASS_DATA = \"grass_dataset\"\n",
    "GISDBASE = os.path.join(PROJECT_DIR, GRASS_DATA)\n",
    "# Set the full path to GRASS execution\n",
    "GRASSEXE = \"/usr/lib/grass78\" \n",
    "# Set the command to start GRASS from shell\n",
    "GRASS7BIN = \"grass\" \n",
    "\n",
    "\n",
    "# Define and create grass data folder, location, and mapset\n",
    "if not os.path.exists(GISDBASE):\n",
    "    os.mkdir(GISDBASE)\n",
    "LOCATION = os.path.join(GISDBASE, PROJECT_NAME)\n",
    "# Define mapset name which is a working directory for GRASS GIS\n",
    "MAPSET = \"PERMANENT\"\n",
    "\n",
    "# Set GISBASE environment variable\n",
    "os.environ['GISBASE'] = GRASSEXE\n",
    "# The following not needed with trunk\n",
    "os.environ['PATH'] += os.pathsep + os.path.join(GRASSEXE, 'bin')\n",
    "# Set GISDBASE environment variable\n",
    "os.environ['GISDBASE'] = GISDBASE"
   ]
  },
  {
   "cell_type": "code",
   "execution_count": 8,
   "metadata": {
    "tags": []
   },
   "outputs": [
    {
     "data": {
      "text/plain": [
       "False"
      ]
     },
     "execution_count": 8,
     "metadata": {},
     "output_type": "execute_result"
    }
   ],
   "source": [
    "# define GRASS-Python environment\n",
    "gpydir = os.path.join(GRASSEXE, \"etc\", \"python\")\n",
    "sys.path.append(gpydir)\n",
    "\n",
    "# import GRASS Python library\n",
    "import grass.script as gscript\n",
    "import grass.script.setup as gsetup\n",
    "gscript.core.set_raise_on_error(True)"
   ]
  },
  {
   "cell_type": "markdown",
   "metadata": {},
   "source": [
    "> #### Launch GRASS session"
   ]
  },
  {
   "cell_type": "code",
   "execution_count": 9,
   "metadata": {
    "tags": []
   },
   "outputs": [
    {
     "data": {
      "text/plain": [
       "'/tmp/tmp4m9w6rpx'"
      ]
     },
     "execution_count": 9,
     "metadata": {},
     "output_type": "execute_result"
    }
   ],
   "source": [
    "gsetup.init(GRASSEXE, GISDBASE, LOCATION, MAPSET)"
   ]
  },
  {
   "cell_type": "markdown",
   "metadata": {},
   "source": [
    "> #### Set Projection, DO NOT CHANGE"
   ]
  },
  {
   "cell_type": "code",
   "execution_count": 10,
   "metadata": {
    "tags": []
   },
   "outputs": [],
   "source": [
    "# Set projection, DO NOT CHANGE\n",
    "\n",
    "proj4=\"+proj=lcc +ellps=WGS84 +a=6378137 +b=6356752.314245 +lat_1=25 +lat_2=60 +lon_0=-100 +lat_0=42.5 +x_0=0 +y_0=0 +units=m +no_defs\""
   ]
  },
  {
   "cell_type": "code",
   "execution_count": 11,
   "metadata": {
    "tags": []
   },
   "outputs": [],
   "source": [
    "location_path = os.path.join(GISDBASE, LOCATION)\n",
    "# Create GRASS database for the project\n",
    "if not os.path.exists(location_path):\n",
    "    startcmd = GRASS7BIN + ' -c ' + aoi_file + ' -e ' + location_path\n",
    "    print(startcmd)\n",
    "    p = subprocess.Popen(startcmd, shell=True, stdout=subprocess.PIPE, stderr=subprocess.PIPE)\n",
    "    out, err = p.communicate()\n",
    "    print(p.returncode)\n",
    "    if p.returncode != 0:\n",
    "        print >> sys.stderr, 'ERROR: %s' % err\n",
    "        print >> sys.stderr, 'ERROR: Cannot generate location (%s)' % startcmd\n",
    "        sys.exit(-1)"
   ]
  },
  {
   "cell_type": "code",
   "execution_count": 12,
   "metadata": {
    "tags": []
   },
   "outputs": [],
   "source": [
    "from IPython.display import Image\n",
    "\n",
    "# Default font displays\n",
    "os.environ['GRASS_FONT'] = 'sans'\n",
    "# Overwrite existing maps\n",
    "os.environ['GRASS_OVERWRITE'] = '1'\n",
    "os.environ['GRASS_RENDER_IMMEDIATE'] = 'cairo'\n",
    "os.environ['GRASS_RENDER_FILE_READ'] = 'TRUE'\n",
    "os.environ['GRASS_LEGEND_FILE'] = 'legend.txt'\n",
    "# Create directories if directories are not previously setup.\n",
    "if not os.path.exists(IMAGE):\n",
    "    os.mkdir(IMAGE)\n",
    "else:\n",
    "    pass"
   ]
  },
  {
   "cell_type": "markdown",
   "metadata": {},
   "source": [
    "> #### `g.proj` to check projection information and make sure it is in accordance with proj4 string listed above"
   ]
  },
  {
   "cell_type": "code",
   "execution_count": 13,
   "metadata": {
    "tags": []
   },
   "outputs": [
    {
     "name": "stdout",
     "output_type": "stream",
     "text": [
      "Starting GRASS GIS...\n",
      "Cleaning up temporary files...\n",
      "Executing <g.proj -p> ...\n",
      "-PROJ_INFO-------------------------------------------------\n",
      "name       : Lambert_Conformal_Conic\n",
      "ellps      : wgs84\n",
      "proj       : lcc\n",
      "lat_0      : 42.5\n",
      "lon_0      : -100\n",
      "lat_1      : 25\n",
      "lat_2      : 60\n",
      "x_0        : 0\n",
      "y_0        : 0\n",
      "no_defs    : defined\n",
      "-PROJ_UNITS------------------------------------------------\n",
      "unit       : meter\n",
      "units      : meters\n",
      "meters     : 1\n",
      "Execution of <g.proj -p> finished.\n",
      "Cleaning up temporary files...\n"
     ]
    }
   ],
   "source": [
    "!grass78 {LOCATION}/{MAPSET} --exec g.proj -p"
   ]
  },
  {
   "cell_type": "markdown",
   "metadata": {},
   "source": [
    "## Import and Process DEM "
   ]
  },
  {
   "cell_type": "markdown",
   "metadata": {},
   "source": [
    "> #### `r.in.gdal` to import raster data into a GRASS raster map using GDAL library.\n",
    "> Create **`demRAW`** GRASS raster map using DEM TIF file in **`elevationRAW`** grass_dataset directory "
   ]
  },
  {
   "cell_type": "code",
   "execution_count": 14,
   "metadata": {
    "tags": []
   },
   "outputs": [
    {
     "name": "stdout",
     "output_type": "stream",
     "text": [
      "Starting GRASS GIS...\n",
      "Cleaning up temporary files...\n",
      "Executing <r.in.gdal -e --overwrite input=/home/teaganbaiotto/Documents/bbgci/Test/gis_data/dem_reprojected.tif output=demRAW location=elevationRAW> ...\n",
      "Location <elevationRAW> created\n",
      "Importing raster map <demRAW>...\n",
      "   0   3   6   9  12  15  18  21  24  27  30  33  36  39  42  45  48  51  54  57  60  63  66  69  72  75  78  81  84  87  90  93  96  99 100\n",
      "Default region for this location updated\n",
      "Region for the current mapset updated\n",
      "Execution of <r.in.gdal -e --overwrite input=/home/teaganbaiotto/Documents/bbgci/Test/gis_data/dem_reprojected.tif output=demRAW location=elevationRAW> finished.\n",
      "Cleaning up temporary files...\n"
     ]
    }
   ],
   "source": [
    "# Create path for Elevation if does not exist\n",
    "elevationRAW = \"elevationRAW\"\n",
    "if os.path.exists(os.path.join(GISDBASE, elevationRAW)):\n",
    "    shutil.rmtree(os.path.join(GISDBASE, elevationRAW))\n",
    "!grass78 {LOCATION}/{MAPSET} --exec r.in.gdal -e --overwrite input={rawdem} output=demRAW location={elevationRAW}"
   ]
  },
  {
   "cell_type": "markdown",
   "metadata": {},
   "source": [
    "> #### `r.info` to show outputs basic information about a raster map\n",
    "> Check current DEM information (Resolution)"
   ]
  },
  {
   "cell_type": "code",
   "execution_count": 15,
   "metadata": {
    "tags": []
   },
   "outputs": [
    {
     "name": "stdout",
     "output_type": "stream",
     "text": [
      "Starting GRASS GIS...\n",
      "Cleaning up temporary files...\n",
      "Executing <r.info -g map=demRAW> ...\n",
      "north=-146479.25028246\n",
      "south=-150561.4460157\n",
      "east=1802856.71024753\n",
      "west=1798749.6230769\n",
      "nsres=24.8914373978048\n",
      "ewres=24.8914373977575\n",
      "rows=164\n",
      "cols=165\n",
      "cells=27060\n",
      "datatype=CELL\n",
      "ncats=0\n",
      "Execution of <r.info -g map=demRAW> finished.\n",
      "Cleaning up temporary files...\n"
     ]
    }
   ],
   "source": [
    "LOCATIONDEM=GISDBASE+'/'+'elevationRAW'\n",
    "!grass78 {LOCATIONDEM}/{MAPSET} --exec r.info -g map=demRAW"
   ]
  },
  {
   "cell_type": "markdown",
   "metadata": {},
   "source": [
    "<div class=\"alert alert-block alert-info\">\n",
    "<b>Map:</b> Raw DEM Map</div>"
   ]
  },
  {
   "cell_type": "code",
   "execution_count": 16,
   "metadata": {
    "tags": []
   },
   "outputs": [
    {
     "name": "stdout",
     "output_type": "stream",
     "text": [
      "Starting GRASS GIS...\n",
      "Cleaning up temporary files...\n",
      "Executing <d.rast map=demRAW> ...\n",
      "   0   3   6   9  12  15  18  21  24  27  30  33  36  39  42  45  48  51  54  57  60  63  66  69  72  75  78  81  84  87  90  93  96  99 100\n",
      "Execution of <d.rast map=demRAW> finished.\n",
      "Cleaning up temporary files...\n",
      "Starting GRASS GIS...\n",
      "Cleaning up temporary files...\n",
      "Executing <d.legend raster=demRAW fontsize=15 title=demRAW title_fontsize=12> ...\n",
      "Forcing a smooth legend: too many categories for current window height\n",
      "Execution of <d.legend raster=demRAW fontsize=15 title=demRAW title_fontsize=12> finished.\n",
      "Cleaning up temporary files...\n"
     ]
    },
    {
     "data": {
      "image/png": "[encoded data removed]",
      "text/plain": [
       "<IPython.core.display.Image object>"
      ]
     },
     "execution_count": 16,
     "metadata": {},
     "output_type": "execute_result"
    }
   ],
   "source": [
    "os.environ['GRASS_RENDER_FILE'] = 'demRAW.png'\n",
    "!grass78 {LOCATIONDEM}/{MAPSET} --exec d.rast map=\"demRAW\"\n",
    "!grass78 {LOCATIONDEM}/{MAPSET} --exec d.legend raster=\"demRAW\" fontsize='15' title='demRAW' title_fontsize='12'\n",
    "shutil.copy(os.path.join(CURRENT_DIRECTORY,'demRAW.png'), os.path.join(PROJECT_DIR,'image_map'))\n",
    "os.remove('demRAW.png')\n",
    "image = os.path.join(PROJECT_DIR,'image_map','demRAW.png')\n",
    "Image(filename=image)"
   ]
  },
  {
   "cell_type": "markdown",
   "metadata": {},
   "source": [
    "> #### `r.resamp.stats` to resample and alter resolution of layer\n",
    "> Change the resolution of raster map"
   ]
  },
  {
   "cell_type": "code",
   "execution_count": 17,
   "metadata": {
    "tags": []
   },
   "outputs": [
    {
     "name": "stdout",
     "output_type": "stream",
     "text": [
      "Starting GRASS GIS...\n",
      "Cleaning up temporary files...\n",
      "Executing <g.region raster=demRAW res=30 -ap> ...\n",
      "projection: 99 (unknown)\n",
      "zone:       0\n",
      "datum:      ** unknown (default: WGS84) **\n",
      "ellipsoid:  wgs84\n",
      "north:      -146460\n",
      "south:      -150570\n",
      "west:       1798740\n",
      "east:       1802880\n",
      "nsres:      30\n",
      "ewres:      30\n",
      "rows:       137\n",
      "cols:       138\n",
      "cells:      18906\n",
      "Execution of <g.region raster=demRAW res=30 -ap> finished.\n",
      "Cleaning up temporary files...\n",
      "Starting GRASS GIS...\n",
      "Cleaning up temporary files...\n",
      "Executing <r.resamp.stats -w input=demRAW output=dem30m> ...\n",
      "   0   5  10  15  20  25  30  35  40  45  50  55  60  65  70  75  80  85  90  95 100\n",
      "Execution of <r.resamp.stats -w input=demRAW output=dem30m> finished.\n",
      "Cleaning up temporary files...\n"
     ]
    }
   ],
   "source": [
    "!grass78 {LOCATIONDEM}/{MAPSET} --exec g.region raster=demRAW res={SPATIAL_RESOLUTION} -ap\n",
    "!grass78 {LOCATIONDEM}/{MAPSET} --exec r.resamp.stats -w input=demRAW output=dem$SPATIAL_RESOLUTION'm'"
   ]
  },
  {
   "cell_type": "markdown",
   "metadata": {},
   "source": [
    "<div class=\"alert alert-block alert-info\">\n",
    "<b>Map:</b> Resampled DEM</div>"
   ]
  },
  {
   "cell_type": "code",
   "execution_count": 18,
   "metadata": {
    "tags": []
   },
   "outputs": [
    {
     "name": "stdout",
     "output_type": "stream",
     "text": [
      "Starting GRASS GIS...\n",
      "Cleaning up temporary files...\n",
      "Executing <d.rast map=dem30m> ...\n",
      "   0   3   6   9  12  15  18  21  24  27  30  33  36  39  42  45  48  51  54  57  60  63  66  69  72  75  78  81  84  87  90  93  96  99 100\n",
      "Execution of <d.rast map=dem30m> finished.\n",
      "Cleaning up temporary files...\n",
      "Starting GRASS GIS...\n",
      "Cleaning up temporary files...\n",
      "Executing <d.legend raster=dem30m fontsize=15 title=dem30m title_fontsize=12> ...\n",
      "Execution of <d.legend raster=dem30m fontsize=15 title=dem30m title_fontsize=12> finished.\n",
      "Cleaning up temporary files...\n"
     ]
    },
    {
     "data": {
      "image/png": "[encoded data removed]",
      "text/plain": [
       "<IPython.core.display.Image object>"
      ]
     },
     "execution_count": 18,
     "metadata": {},
     "output_type": "execute_result"
    }
   ],
   "source": [
    "os.environ['GRASS_RENDER_FILE'] = 'dem'+str(SPATIAL_RESOLUTION)+'m.png'\n",
    "!grass78 {LOCATIONDEM}/{MAPSET} --exec d.rast map='dem'{SPATIAL_RESOLUTION}'m'\n",
    "!grass78 {LOCATIONDEM}/{MAPSET} --exec d.legend raster='dem'{SPATIAL_RESOLUTION}'m' fontsize='15' title='dem'{SPATIAL_RESOLUTION}'m' title_fontsize='12'\n",
    "shutil.copy(os.path.join(CURRENT_DIRECTORY,'dem'+str(SPATIAL_RESOLUTION)+'m.png'), os.path.join(PROJECT_DIR,'image_map'))\n",
    "os.remove('dem'+str(SPATIAL_RESOLUTION)+'m.png')\n",
    "image = os.path.join(PROJECT_DIR,'image_map','dem'+str(SPATIAL_RESOLUTION)+'m.png')\n",
    "Image(filename=image)"
   ]
  },
  {
   "cell_type": "markdown",
   "metadata": {},
   "source": [
    "> #### `r.out.gdal` to export GRASS raster maps into GDAL supported format, prepares for import into main GRASS location\n",
    "> \"ERROR 6: SetColorInterpretation() not supported for this dataset.\": This may indicate that the color table was not written properly. This is not a problem; please ignore."
   ]
  },
  {
   "cell_type": "code",
   "execution_count": 19,
   "metadata": {
    "tags": []
   },
   "outputs": [
    {
     "name": "stdout",
     "output_type": "stream",
     "text": [
      "Starting GRASS GIS...\n",
      "Cleaning up temporary files...\n",
      "Executing <r.out.gdal --overwrite input=dem30m output=dem30m.tif format=GTiff> ...\n",
      "Checking GDAL data type and nodata value...\n",
      "   2   5   8  11  14  17  20  23  26  29  32  35  38  41  44  47  50  53  56  59  62  65  68  71  74  77  80  83  86  89  92  95  98 100\n",
      "Using GDAL data type <Float64>\n",
      "Input raster map contains cells with NULL-value (no-data). The value -nan\n",
      "will be used to represent no-data values in the input map. You can specify\n",
      "a nodata value with the nodata option.\n",
      "Exporting raster data to GTiff format...\n",
      "ERROR 6: SetColorTable() only supported for Byte or UInt16 bands in TIFF format.\n",
      "   2   5   8  11  14  17  20  23  26  29  32  35  38  41  44  47  50  53  56  59  62  65  68  71  74  77  80  83  86  89  92  95  98 100\n",
      "r.out.gdal complete. File <dem30m.tif> created.\n",
      "Execution of <r.out.gdal --overwrite input=dem30m output=dem30m.tif format=GTiff> finished.\n",
      "Cleaning up temporary files...\n"
     ]
    }
   ],
   "source": [
    "!grass78 {LOCATIONDEM}/{MAPSET} --exec r.out.gdal --overwrite input=dem$SPATIAL_RESOLUTION'm' output=dem$SPATIAL_RESOLUTION'm.tif' format=GTiff"
   ]
  },
  {
   "cell_type": "markdown",
   "metadata": {},
   "source": [
    "> #### `r.in.gdal` to import dem raster data into primary GRASS directory using GDAL library"
   ]
  },
  {
   "cell_type": "code",
   "execution_count": 20,
   "metadata": {
    "tags": []
   },
   "outputs": [
    {
     "name": "stdout",
     "output_type": "stream",
     "text": [
      "Starting GRASS GIS...\n",
      "Cleaning up temporary files...\n",
      "Executing <r.in.gdal -o -e --overwrite input=dem30m.tif output=dem> ...\n",
      "Over-riding projection check\n",
      "Importing raster map <dem>...\n",
      "   0   3   6   9  12  15  18  21  24  27  30  33  36  39  42  45  48  51  54  57  60  63  66  69  72  75  78  81  84  87  90  93  96  99 100\n",
      "Default region for this location updated\n",
      "Region for the current mapset updated\n",
      "Execution of <r.in.gdal -o -e --overwrite input=dem30m.tif output=dem> finished.\n",
      "Cleaning up temporary files...\n"
     ]
    }
   ],
   "source": [
    "!grass78 {LOCATION}/{MAPSET} --exec r.in.gdal -o -e --overwrite input=dem$SPATIAL_RESOLUTION'm.tif' output=dem"
   ]
  },
  {
   "cell_type": "markdown",
   "metadata": {},
   "source": [
    "> #### `r.info` to check extent and # rows/columns"
   ]
  },
  {
   "cell_type": "code",
   "execution_count": 21,
   "metadata": {
    "tags": []
   },
   "outputs": [
    {
     "name": "stdout",
     "output_type": "stream",
     "text": [
      "Starting GRASS GIS...\n",
      "Cleaning up temporary files...\n",
      "Executing <r.info -g map=dem> ...\n",
      "north=-146460\n",
      "south=-150570\n",
      "east=1802880\n",
      "west=1798740\n",
      "nsres=30\n",
      "ewres=30\n",
      "rows=137\n",
      "cols=138\n",
      "cells=18906\n",
      "datatype=DCELL\n",
      "ncats=0\n",
      "Execution of <r.info -g map=dem> finished.\n",
      "Cleaning up temporary files...\n"
     ]
    }
   ],
   "source": [
    "!grass78 {LOCATION}/{MAPSET} --exec r.info -g map=dem"
   ]
  },
  {
   "cell_type": "markdown",
   "metadata": {},
   "source": [
    "> #### `r.region` to manages the boundary definitions for the geographic region"
   ]
  },
  {
   "cell_type": "code",
   "execution_count": 22,
   "metadata": {
    "tags": []
   },
   "outputs": [
    {
     "name": "stdout",
     "output_type": "stream",
     "text": [
      "Starting GRASS GIS...\n",
      "Cleaning up temporary files...\n",
      "Executing <g.region raster=dem zoom=dem> ...\n",
      "Execution of <g.region raster=dem zoom=dem> finished.\n",
      "Cleaning up temporary files...\n"
     ]
    }
   ],
   "source": [
    "!grass78 {LOCATION}/{MAPSET} --exec g.region raster=dem zoom=dem"
   ]
  },
  {
   "cell_type": "markdown",
   "metadata": {},
   "source": [
    "> #### `v.import` to import polygon shapefile specifying model area of interest (AOI)"
   ]
  },
  {
   "cell_type": "code",
   "execution_count": 23,
   "metadata": {
    "scrolled": true,
    "tags": []
   },
   "outputs": [
    {
     "name": "stdout",
     "output_type": "stream",
     "text": [
      "Starting GRASS GIS...\n",
      "Cleaning up temporary files...\n",
      "Executing <v.import input=/home/teaganbaiotto/Documents/bbgci/Test/gis_data/AOI_reprojected.shp output=geometry --overwrite> ...\n",
      "Check if OGR layer <AOI_reprojected> contains polygons...\n",
      "   0 100\n",
      "Creating attribute table for layer <AOI_reprojected>...\n",
      "Importing 1 features (OGR layer <AOI_reprojected>)...\n",
      "   0 100\n",
      "-----------------------------------------------------\n",
      "Registering primitives...\n",
      "-----------------------------------------------------\n",
      "Cleaning polygons\n",
      "-----------------------------------------------------\n",
      "Breaking polygons...\n",
      "Breaking polygons (pass 1: select break points)...\n",
      " 100\n",
      "Breaking polygons (pass 2: break at selected points)...\n",
      " 100\n",
      "-----------------------------------------------------\n",
      "Removing duplicates...\n",
      " 100\n",
      "-----------------------------------------------------\n",
      "Breaking boundaries...\n",
      "   0 100\n",
      "-----------------------------------------------------\n",
      "Removing duplicates...\n",
      " 100\n",
      "-----------------------------------------------------\n",
      "Cleaning boundaries at nodes...\n",
      " 100\n",
      "-----------------------------------------------------\n",
      "Merging boundaries...\n",
      " 100\n",
      "-----------------------------------------------------\n",
      "Removing dangles...\n",
      " 100\n",
      "-----------------------------------------------------\n",
      "Building areas...\n",
      "   0 100\n",
      "-----------------------------------------------------\n",
      "Removing bridges...\n",
      " 100\n",
      "-----------------------------------------------------\n",
      "Registering primitives...\n",
      "Building areas...\n",
      "   0 100\n",
      "Attaching islands...\n",
      "   0 100\n",
      "-----------------------------------------------------\n",
      "Finding centroids for OGR layer <AOI_reprojected>...\n",
      "   0 100\n",
      "-----------------------------------------------------\n",
      "Writing centroids...\n",
      " 100\n",
      "-----------------------------------------------------\n",
      "1 input polygons\n",
      "Total area: 4.87515E+06 (1 areas)\n",
      "-----------------------------------------------------\n",
      "Copying features...\n",
      "  50 100\n",
      "Building topology for vector map <geometry@PERMANENT>...\n",
      "Registering primitives...\n",
      "Building areas...\n",
      "   0 100\n",
      "Attaching islands...\n",
      "   0 100\n",
      "Attaching centroids...\n",
      "   0 100\n",
      "Input\n",
      "</home/teaganbaiotto/Documents/bbgci/Test/gis_data/AOI_reprojected.shp>\n",
      "successfully imported without reprojection\n",
      "Execution of <v.import input=/home/teaganbaiotto/Documents/bbgci/Test/gis_data/AOI_reprojected.shp output=geometry --overwrite> finished.\n",
      "Cleaning up default sqlite database ...\n",
      "Cleaning up temporary files...\n"
     ]
    }
   ],
   "source": [
    "!grass78 {LOCATION}/{MAPSET} --exec v.import input={aoi_file} output=geometry --overwrite"
   ]
  },
  {
   "cell_type": "markdown",
   "metadata": {},
   "source": [
    "> #### `r.mask` and `g.region` to mask DEM to AOI\n",
    "\n",
    "> Here, we also output a GRASS region definition file (grass_region) to be used for all future region setting"
   ]
  },
  {
   "cell_type": "code",
   "execution_count": 24,
   "metadata": {
    "tags": []
   },
   "outputs": [
    {
     "name": "stdout",
     "output_type": "stream",
     "text": [
      "Starting GRASS GIS...\n",
      "Cleaning up temporary files...\n",
      "Executing <r.mask vector=geometry> ...\n",
      "Reading areas...\n",
      "   0 100\n",
      "Writing raster map...\n",
      "   0   3   6   9  12  15  18  21  24  27  30  33  36  39  42  45  48  51  54  57  60  63  66  69  72  75  78  81  84  87  90  93  96  99 100\n",
      "All subsequent raster operations will be limited to the MASK area. Removing\n",
      "or renaming raster map named 'MASK' will restore raster operations to\n",
      "normal.\n",
      "Execution of <r.mask vector=geometry> finished.\n",
      "Cleaning up default sqlite database ...\n",
      "Cleaning up temporary files...\n",
      "Starting GRASS GIS...\n",
      "Cleaning up temporary files...\n",
      "Executing <g.region vector=geometry zoom=dem> ...\n",
      "Execution of <g.region vector=geometry zoom=dem> finished.\n",
      "Cleaning up default sqlite database ...\n",
      "Cleaning up temporary files...\n",
      "Starting GRASS GIS...\n",
      "Cleaning up temporary files...\n",
      "Executing <g.region raster=dem zoom=dem -p save=grass_region> ...\n",
      "projection: 99 (Lambert_Conformal_Conic)\n",
      "zone:       0\n",
      "datum:      ** unknown (default: WGS84) **\n",
      "ellipsoid:  wgs84\n",
      "north:      -146970\n",
      "south:      -149760\n",
      "west:       1799100\n",
      "east:       1802550\n",
      "nsres:      30\n",
      "ewres:      30\n",
      "rows:       93\n",
      "cols:       115\n",
      "cells:      10695\n",
      "Execution of <g.region raster=dem zoom=dem -p save=grass_region> finished.\n",
      "Cleaning up default sqlite database ...\n",
      "Cleaning up temporary files...\n"
     ]
    }
   ],
   "source": [
    "!grass78 {LOCATION}/{MAPSET} --exec r.mask vector=geometry\n",
    "!grass78 {LOCATION}/{MAPSET} --exec g.region vector=geometry zoom=dem\n",
    "!grass78 {LOCATION}/{MAPSET} --exec g.region raster=dem zoom=dem -p save=grass_region"
   ]
  },
  {
   "cell_type": "markdown",
   "metadata": {},
   "source": [
    "<div class=\"alert alert-block alert-info\">\n",
    "<b>Map:</b> DEM and AOI</div>"
   ]
  },
  {
   "cell_type": "code",
   "execution_count": 25,
   "metadata": {
    "tags": []
   },
   "outputs": [
    {
     "name": "stdout",
     "output_type": "stream",
     "text": [
      "Starting GRASS GIS...\n",
      "Cleaning up temporary files...\n",
      "Executing <d.rast map=dem> ...\n",
      "   0   3   6   9  12  15  18  21  24  27  30  33  36  39  43  46  49  52  55  58  61  64  67  70  73  76  79  82  86  89  92  95  98 100\n",
      "Execution of <d.rast map=dem> finished.\n",
      "Cleaning up default sqlite database ...\n",
      "Cleaning up temporary files...\n",
      "Starting GRASS GIS...\n",
      "Cleaning up temporary files...\n",
      "Executing <d.vect map=geometry type=boundary color=red> ...\n",
      "d.vect complete.\n",
      "Execution of <d.vect map=geometry type=boundary color=red> finished.\n",
      "Cleaning up default sqlite database ...\n",
      "Cleaning up temporary files...\n",
      "Starting GRASS GIS...\n",
      "Cleaning up temporary files...\n",
      "Executing <d.legend raster=dem fontsize=15 title=dem title_fontsize=12> ...\n",
      "Execution of <d.legend raster=dem fontsize=15 title=dem title_fontsize=12> finished.\n",
      "Cleaning up default sqlite database ...\n",
      "Cleaning up temporary files...\n"
     ]
    },
    {
     "data": {
      "image/png": "[encoded data removed]",
      "text/plain": [
       "<IPython.core.display.Image object>"
      ]
     },
     "execution_count": 25,
     "metadata": {},
     "output_type": "execute_result"
    }
   ],
   "source": [
    "os.environ['GRASS_RENDER_FILE'] = 'dem.png'\n",
    "!grass78 {LOCATION}/{MAPSET} --exec d.rast map=\"dem\"\n",
    "!grass78 {LOCATION}/{MAPSET} --exec d.vect map=\"geometry\" type=\"boundary\" color=\"red\"\n",
    "!grass78 {LOCATION}/{MAPSET} --exec d.legend raster=\"dem\" fontsize='15' title='dem' title_fontsize='12'\n",
    "shutil.copy(os.path.join(CURRENT_DIRECTORY,'dem.png'), os.path.join(PROJECT_DIR,'image_map'))\n",
    "os.remove('dem.png')\n",
    "image = os.path.join(PROJECT_DIR,'image_map','dem.png')\n",
    "Image(filename=image)"
   ]
  },
  {
   "cell_type": "markdown",
   "metadata": {},
   "source": [
    "## Output DEM as ASCII Raster"
   ]
  },
  {
   "cell_type": "code",
   "execution_count": 26,
   "metadata": {
    "tags": []
   },
   "outputs": [
    {
     "name": "stdout",
     "output_type": "stream",
     "text": [
      "Starting GRASS GIS...\n",
      "Cleaning up temporary files...\n",
      "Executing <r.out.ascii --overwrite input=dem output=/home/teaganbaiotto/Documents/bbgci/Test/model/raster_inputs/dem.txt precision=2> ...\n",
      "   0   3   6   9  12  15  18  21  24  27  30  33  36  39  43  46  49  52  55  58  61  64  67  70  73  76  79  82  86  89  92  95  98Execution of <r.out.ascii --overwrite input=dem output=/home/teaganbaiotto/Documents/bbgci/Test/model/raster_inputs/dem.txt precision=2> finished.\n",
      "Cleaning up default sqlite database ...\n",
      "Cleaning up temporary files...\n"
     ]
    }
   ],
   "source": [
    "!grass78 {LOCATION}/{MAPSET} --exec r.out.ascii --overwrite input=\"dem\" output={MODEL_RAST_DIR}/dem.txt precision=2"
   ]
  },
  {
   "cell_type": "markdown",
   "metadata": {},
   "source": [
    "## Extract Soil properties from SSURGO database"
   ]
  },
  {
   "cell_type": "markdown",
   "metadata": {},
   "source": [
    "> #### `v.in.ogr` to Import vector data into a GRASS vector map using OGR library"
   ]
  },
  {
   "cell_type": "code",
   "execution_count": 27,
   "metadata": {
    "tags": []
   },
   "outputs": [
    {
     "name": "stdout",
     "output_type": "stream",
     "text": [
      "Starting GRASS GIS...\n",
      "Cleaning up temporary files...\n",
      "Executing <v.in.ogr input=/home/teaganbaiotto/Documents/bbgci/Test/gis_data/soil_reprojected.shp output=ssurgoRAW location=soilRAW> ...\n",
      "Location <soilRAW> created\n",
      "Check if OGR layer <soil_reprojected> contains polygons...\n",
      "   0   2   4   6   8  10  12  14  16  18  20  22  24  26  28  30  32  34  36  38  40  42  44  46  48  50  52  54  56  58  60  62  64  66  68  70  72  74  76  78  80  82  84  86  88  90  92  94  96  98 100\n",
      "Creating attribute table for layer <soil_reprojected>...\n",
      "Importing 102 features (OGR layer <soil_reprojected>)...\n",
      "   0   2   4   6   8  10  12  14  16  18  20  22  24  26  28  30  32  34  36  38  40  42  44  46  48  50  52  54  56  58  60  62  64  66  68  70  72  74  76  78  80  82  84  86  88  90  92  94  96  98 100\n",
      "-----------------------------------------------------\n",
      "Registering primitives...\n",
      "-----------------------------------------------------\n",
      "Cleaning polygons\n",
      "-----------------------------------------------------\n",
      "Breaking polygons...\n",
      "Breaking polygons (pass 1: select break points)...\n",
      "   1   3   5   7   9  11  13  15  17  19  21  23  25  27  29  31  33  35  37  39  41  43  45  47  49  51  53  55  57  59  61  63  65  67  69  71  73  75  77  79  81  83  85  87  89  91  93  95  97  99 100\n",
      "Breaking polygons (pass 2: break at selected points)...\n",
      "   1   3   5   7   9  11  13  15  17  19  21  23  25  27  29  31  33  35  37  39  41  43  45  47  49  51  53  55  57  59  61  63  65  67  69  71  73  75  77  79  81  83  85  87  89  91  93  95  97  99 100\n",
      "-----------------------------------------------------\n",
      "Removing duplicates...\n",
      "   1   3   5   7   9  11  13  15  17  19  21  23  25  27  29  31  33  35  37  39  41  43  45  47  49  51  53  55  57  59  61  63  65  67  69  71  73  75  77  79  81  83  85  87  89  91  93  95  97  99 100\n",
      "-----------------------------------------------------\n",
      "Breaking boundaries...\n",
      "   0   2   4   6   8  10  12  14  16  18  20  22  24  26  28  30  32  34  36  38  40  42  44  46  48  50  52  54  56  58  60  62  64  66  68  70  72  74  76  78  80  82  84  86  88  90  92  94  96  98 100\n",
      "-----------------------------------------------------\n",
      "Removing duplicates...\n",
      "   1   3   5   7   9  11  13  15  17  19  21  23  25  27  29  31  33  35  37  39  41  43  45  47  49  51  53  55  57  59  61  63  65  67  69  71  73  75  77  79  81  83  85  87  89  91  93  95  97  99 100\n",
      "-----------------------------------------------------\n",
      "Cleaning boundaries at nodes...\n",
      "   1   3   5   7   9  11  13  15  17  19  21  23  25  27  29  31  33  35  37  39  41  43  45  47  49  51  53  55  57  59  61  63  65  67  69  71  73  75  77  79  81  83  85  87  89  91  93  95  97  99 100\n",
      "-----------------------------------------------------\n",
      "Breaking boundaries...\n",
      "   0   2   4   6   8  10  12  14  16  18  20  22  24  26  28  30  32  34  36  38  40  42  44  46  48  50  52  54  56  58  60  62  64  66  68  70  72  74  76  78  80  82  84  86  88  90  92  94  96  98 100\n",
      "-----------------------------------------------------\n",
      "Removing duplicates...\n",
      "   1   3   5   7   9  11  13  15  17  19  21  23  25  27  29  31  33  35  37  39  41  43  45  47  49  51  53  55  57  59  61  63  65  67  69  71  73  75  77  79  81  83  85  87  89  91  93  95  97  99 100\n",
      "-----------------------------------------------------\n",
      "Cleaning boundaries at nodes...\n",
      "   1   3   5   7   9  11  13  15  17  19  21  23  25  27  29  31  33  35  37  39  41  43  45  47  49  51  53  55  57  59  61  63  65  67  69  71  73  75  77  79  81  83  85  87  89  91  93  95  97  99 100\n",
      "-----------------------------------------------------\n",
      "Merging boundaries...\n",
      "   2   5   8  11  14  17  20  23  26  29  32  35  38  41  44  47  50  53  56  59  62  65  68  71  74  77  80  83  86  89  92  95  98 100\n",
      "-----------------------------------------------------\n",
      "Removing dangles...\n",
      "   1   3   5   7   9  11  13  15  17  19  21  23  25  27  29  31  33  35  37  39  41  43  45  47  49  51  53  55  57  59  61  63  65  67  69  71  73  75  77  79  81  83  85  87  89  91  93  95  97  99 100\n",
      "-----------------------------------------------------\n",
      "Building areas...\n",
      "   0   2   4   6   8  10  12  14  16  18  20  22  24  26  28  30  32  34  36  38-----------------------------------------------------\n",
      "Removing bridges...\n",
      "  40  42  44  46  48  50  52  54  56  58  60  62  64  66  68  70  72  74  76  78  80  82  84  86  88  90  92  94  96  98 100\n",
      "-----------------------------------------------------\n",
      "Registering primitives...\n",
      "Building areas...\n",
      "   0   2   4   6   8  10  12  14  16  18  20  22  24  26  28  30  32  34  36  38  40  42  44  46  48  50  52  54  56  58  60  62  64  66  68  70  72  74  76  78  80  82  84  86  88  90  92  94  96  98 100\n",
      "Attaching islands...\n",
      "   0 100\n",
      "-----------------------------------------------------\n",
      "Finding centroids for OGR layer <soil_reprojected>...\n",
      "   0   3   6   9  12  15  18  21  24  27  30  33  36  39  42  45  48  51  54  57  60  63  66  69  72  75  78  81  84  87  90  93  96  99 100\n",
      "-----------------------------------------------------\n",
      "Writing centroids...\n",
      "   2   5   8  11  14  17  20  23  26  29  32  35  38  41  44  47  50  53  56  59  62  65  68  71  74  77  80  83  86  89  92  95  98 100\n",
      "-----------------------------------------------------\n",
      "102 input polygons\n",
      "Total area: 4.87513E+06 (102 areas)\n",
      "-----------------------------------------------------\n",
      "Copying features...\n",
      "   2   5   8  11  14  17  20  23  26  29  32  35  38  41  44  47  50  53  56  59  62  65  68  71  74  77  80  83  86  89  92  95  98 100\n",
      "Building topology for vector map <ssurgoRAW@PERMANENT>...\n",
      "Registering primitives...\n",
      "Building areas...\n",
      "   0   2   4   6   8  10  12  14  16  18  20  22  24  26  28  30  32  34  36  38  40  42  44  46  48  50  52  54  56  58  60  62  64  66  68  70  72  74  76  78  80  82  84  86  88  90  92  94  96  98 100\n",
      "Attaching islands...\n",
      "   0 100\n",
      "Attaching centroids...\n",
      "   0   2   4   6   8  10  12  14  16  18  20  22  24  26  28  30  32  34  36  38  40  42  44  46  48  50  52  54  56  58  60  62  64  66  68  70  72  74  76  78  80  82  84  86  88  90  92  94  96  98 100\n",
      "Execution of <v.in.ogr input=/home/teaganbaiotto/Documents/bbgci/Test/gis_data/soil_reprojected.shp output=ssurgoRAW location=soilRAW> finished.\n",
      "Cleaning up default sqlite database ...\n",
      "Cleaning up temporary files...\n"
     ]
    }
   ],
   "source": [
    "# Import Shapefile of SSURGO soil data\n",
    "soilRAW = \"soilRAW\"\n",
    "LOCATIONSOIL=GISDBASE+'/'+'soilRAW'\n",
    "if os.path.exists(os.path.join(GISDBASE, soilRAW)):\n",
    "    shutil.rmtree(os.path.join(GISDBASE, soilRAW))\n",
    "!grass78 {LOCATION}/{MAPSET} --exec v.in.ogr input={os.path.join(RAWGIS_DIR,'soil_reprojected.shp')} output=ssurgoRAW location={soilRAW}"
   ]
  },
  {
   "cell_type": "markdown",
   "metadata": {},
   "source": [
    "> #### `g.region` to manage region definitions (extent, cellsize, etc.) in raw soil directory"
   ]
  },
  {
   "cell_type": "code",
   "execution_count": 28,
   "metadata": {},
   "outputs": [
    {
     "name": "stdout",
     "output_type": "stream",
     "text": [
      "Starting GRASS GIS...\n",
      "Cleaning up temporary files...\n",
      "Executing <g.region region=grass_region -p> ...\n",
      "projection: 99 (Lambert_Conformal_Conic)\n",
      "zone:       0\n",
      "datum:      ** unknown (default: WGS84) **\n",
      "ellipsoid:  wgs84\n",
      "north:      -146970\n",
      "south:      -149760\n",
      "west:       1799100\n",
      "east:       1802550\n",
      "nsres:      30\n",
      "ewres:      30\n",
      "rows:       93\n",
      "cols:       115\n",
      "cells:      10695\n",
      "Execution of <g.region region=grass_region -p> finished.\n",
      "Cleaning up default sqlite database ...\n",
      "Cleaning up temporary files...\n"
     ]
    }
   ],
   "source": [
    "if not os.path.exists(os.path.join(LOCATIONSOIL, 'PERMANENT', 'windows')):\n",
    "    os.makedirs(os.path.join(LOCATIONSOIL, 'PERMANENT', 'windows'))\n",
    "shutil.copyfile(os.path.join(LOCATION, 'PERMANENT', 'windows', 'grass_region'), os.path.join(LOCATIONSOIL, 'PERMANENT', 'windows', 'grass_region'))\n",
    "\n",
    "!grass78 {LOCATIONSOIL}/{MAPSET} --exec g.region region=grass_region -p"
   ]
  },
  {
   "cell_type": "markdown",
   "metadata": {},
   "source": [
    "> #### `v.db.addcolumn` to add attribute to soil map of MUKEY in integer form"
   ]
  },
  {
   "cell_type": "code",
   "execution_count": 29,
   "metadata": {},
   "outputs": [
    {
     "name": "stdout",
     "output_type": "stream",
     "text": [
      "Starting GRASS GIS...\n",
      "Cleaning up temporary files...\n",
      "Executing <v.db.addcolumn map=ssurgoRAW column=mukeyint INT> ...\n",
      "Execution of <v.db.addcolumn map=ssurgoRAW column=mukeyint INT> finished.\n",
      "Cleaning up default sqlite database ...\n",
      "Cleaning up temporary files...\n",
      "Starting GRASS GIS...\n",
      "Cleaning up temporary files...\n",
      "Executing <db.execute sql=UPDATE ssurgoRAW SET mukeyint=MUKEY> ...\n",
      "Execution of <db.execute sql=UPDATE ssurgoRAW SET mukeyint=MUKEY> finished.\n",
      "Cleaning up default sqlite database ...\n",
      "Cleaning up temporary files...\n"
     ]
    }
   ],
   "source": [
    "!grass78 {LOCATIONSOIL}/{MAPSET} --exec v.db.addcolumn map=ssurgoRAW column=\"mukeyint INT\"\n",
    "!grass78 {LOCATIONSOIL}/{MAPSET} --exec db.execute sql=\"UPDATE ssurgoRAW SET mukeyint=MUKEY\""
   ]
  },
  {
   "cell_type": "markdown",
   "metadata": {},
   "source": [
    "> #### `v.to.rast` to generate soil MUKEY raster"
   ]
  },
  {
   "cell_type": "code",
   "execution_count": 30,
   "metadata": {
    "tags": []
   },
   "outputs": [
    {
     "name": "stdout",
     "output_type": "stream",
     "text": [
      "Starting GRASS GIS...\n",
      "Cleaning up temporary files...\n",
      "Executing <v.to.rast --overwrite input=ssurgoRAW type=area output=ssurgo use=attr attribute_column=mukeyint> ...\n",
      "Reading areas...\n",
      "   0   3   6   9  12  15  18  21  24  27  30  33  36  39  42  45  48  51  54  57  60  63  66  69  72  75  78  81  84  87  90  93  96  99 100\n",
      "Writing raster map...\n",
      "   0   3   6   9  12  15  18  21  24  27  30  33  36  39  43  46  49  52  55  58  61  64  67  70  73  76  79  82  86  89  92  95  98 100\n",
      "v.to.rast complete.\n",
      "Execution of <v.to.rast --overwrite input=ssurgoRAW type=area output=ssurgo use=attr attribute_column=mukeyint> finished.\n",
      "Cleaning up default sqlite database ...\n",
      "Cleaning up temporary files...\n"
     ]
    }
   ],
   "source": [
    "# Convert polygon shapefile to raster\n",
    "!grass78 {LOCATIONSOIL}/{MAPSET} --exec v.to.rast --overwrite input=ssurgoRAW type=area output=ssurgo use=attr attribute_column=mukeyint"
   ]
  },
  {
   "cell_type": "markdown",
   "metadata": {},
   "source": [
    "> #### `r.out.gdal` to export raster map and prepare for import into primary GRASS directory"
   ]
  },
  {
   "cell_type": "code",
   "execution_count": 31,
   "metadata": {
    "tags": []
   },
   "outputs": [
    {
     "name": "stdout",
     "output_type": "stream",
     "text": [
      "Starting GRASS GIS...\n",
      "Cleaning up temporary files...\n",
      "Executing <r.out.gdal --overwrite input=ssurgo output=ssurgo.tif format=GTiff> ...\n",
      "Checking GDAL data type and nodata value...\n",
      "   2   5   8  11  15  18  21  24  27  30  33  36  39  43  46  49  52  55  58  61  64  67  70  73  76  79  82  86  89  92  95  98 100\n",
      "Using GDAL data type <Int32>\n",
      "Input raster map contains cells with NULL-value (no-data). The value\n",
      "-2147483648 will be used to represent no-data values in the input map. You\n",
      "can specify a nodata value with the nodata option.\n",
      "Exporting raster data to GTiff format...\n",
      "WARNING: Too many values, color table cut to 65535 entries\n",
      "\u0007ERROR 6: SetColorTable() only supported for Byte or UInt16 bands in TIFF format.\n",
      "   2   5   8  11  15  18  21  24  27  30  33  36  39  43  46  49  52  55  58  61  64  67  70  73  76  79  82  86  89  92  95  98 100\n",
      "r.out.gdal complete. File <ssurgo.tif> created.\n",
      "Execution of <r.out.gdal --overwrite input=ssurgo output=ssurgo.tif format=GTiff> finished.\n",
      "Cleaning up default sqlite database ...\n",
      "Cleaning up temporary files...\n"
     ]
    }
   ],
   "source": [
    "!grass78 {LOCATIONSOIL}/{MAPSET} --exec r.out.gdal --overwrite input=ssurgo output='ssurgo.tif' format=GTiff"
   ]
  },
  {
   "cell_type": "markdown",
   "metadata": {},
   "source": [
    "> #### `r.in.gdal` to load ssurgo into main GRASS location"
   ]
  },
  {
   "cell_type": "code",
   "execution_count": 32,
   "metadata": {},
   "outputs": [
    {
     "name": "stdout",
     "output_type": "stream",
     "text": [
      "Starting GRASS GIS...\n",
      "Cleaning up temporary files...\n",
      "Executing <r.in.gdal -o -e --overwrite input=ssurgo.tif output=ssurgo> ...\n",
      "Over-riding projection check\n",
      "Importing raster map <ssurgo>...\n",
      "   0   3   6   9  12  15  18  21  24  27  30  33  36  39  43  46  49  52  55  58  61  64  67  70  73  76  79  82  86  89  92  95  98 100\n",
      "Default region for this location updated\n",
      "Region for the current mapset updated\n",
      "Execution of <r.in.gdal -o -e --overwrite input=ssurgo.tif output=ssurgo> finished.\n",
      "Cleaning up default sqlite database ...\n",
      "Cleaning up temporary files...\n"
     ]
    }
   ],
   "source": [
    "!grass78 {LOCATION}/{MAPSET} --exec r.in.gdal -o -e --overwrite input='ssurgo.tif' output=ssurgo"
   ]
  },
  {
   "cell_type": "markdown",
   "metadata": {},
   "source": [
    "> #### `g.region` to manage region definitions (extent, cellsize, etc.)"
   ]
  },
  {
   "cell_type": "code",
   "execution_count": 33,
   "metadata": {},
   "outputs": [
    {
     "name": "stdout",
     "output_type": "stream",
     "text": [
      "Starting GRASS GIS...\n",
      "Cleaning up temporary files...\n",
      "Executing <g.region region=grass_region -p> ...\n",
      "projection: 99 (Lambert_Conformal_Conic)\n",
      "zone:       0\n",
      "datum:      ** unknown (default: WGS84) **\n",
      "ellipsoid:  wgs84\n",
      "north:      -146970\n",
      "south:      -149760\n",
      "west:       1799100\n",
      "east:       1802550\n",
      "nsres:      30\n",
      "ewres:      30\n",
      "rows:       93\n",
      "cols:       115\n",
      "cells:      10695\n",
      "Execution of <g.region region=grass_region -p> finished.\n",
      "Cleaning up default sqlite database ...\n",
      "Cleaning up temporary files...\n"
     ]
    }
   ],
   "source": [
    "!grass78 {LOCATION}/{MAPSET} --exec g.region region=grass_region -p"
   ]
  },
  {
   "cell_type": "markdown",
   "metadata": {},
   "source": [
    "> #### `r.to.vect` to vectorize soil raster in main GRASS location"
   ]
  },
  {
   "cell_type": "code",
   "execution_count": 34,
   "metadata": {},
   "outputs": [
    {
     "name": "stdout",
     "output_type": "stream",
     "text": [
      "Starting GRASS GIS...\n",
      "Cleaning up temporary files...\n",
      "Executing <r.to.vect input=ssurgo output=ssurgo type=area column=MUKEY> ...\n",
      "Extracting areas...\n",
      "   0   3   6   9  12  15  18  21  24  27  30  34  37  40  43  46  50  53  56  59  62  65  68  71  74  77  80  84  87  90  93  96 100\n",
      "Writing areas...\n",
      "   0   4   8  12  16  20  24  28  32  36  40  44  48  52  56  60  64  68  72  76  80  84  88  92  96 100\n",
      "Building topology for vector map <ssurgo@PERMANENT>...\n",
      "Registering primitives...\n",
      "Building areas...\n",
      "   0   2   4   6   8  10  12  14  16  18  20  22  24  26  28  30  32  34  36  38  40  42  44  46  48  50  52  54  56  58  60  62  64  66  68  70  72  74  76  78  80  82  84  86  88  90  92  94  96  98 100\n",
      "Attaching islands...\n",
      "   0  25  50  75 100\n",
      "Attaching centroids...\n",
      "   0   2   4   6   8  10  12  14  16  18  20  22  24  26  28  30  32  34  36  38  40  42  44  46  48  50  52  54  56  58  60  62  64  66  68  70  72  74  76  78  80  82  84  86  88  90  92  94  96  98 100\n",
      "r.to.vect complete.\n",
      "Execution of <r.to.vect input=ssurgo output=ssurgo type=area column=MUKEY> finished.\n",
      "Cleaning up default sqlite database ...\n",
      "Cleaning up temporary files...\n"
     ]
    }
   ],
   "source": [
    "!grass78 {LOCATION}/{MAPSET} --exec r.to.vect input=ssurgo output=ssurgo type=area column=MUKEY"
   ]
  },
  {
   "cell_type": "markdown",
   "metadata": {},
   "source": [
    "> #### `v.to.rast` to generate soil_ssurgo map"
   ]
  },
  {
   "cell_type": "code",
   "execution_count": 35,
   "metadata": {},
   "outputs": [
    {
     "name": "stdout",
     "output_type": "stream",
     "text": [
      "Starting GRASS GIS...\n",
      "Cleaning up temporary files...\n",
      "Executing <v.to.rast --overwrite input=ssurgo use=cat output=soil_ssurgo> ...\n",
      "Reading areas...\n",
      "   0   3   6   9  12  15  18  21  24  27  30  33  36  39  42  45  48  51  54  57  60  63  66  69  72  75  78  81  84  87  90  93  96  99 100\n",
      "Writing raster map...\n",
      "   0   3   6   9  12  15  18  21  24  27  30  33  36  39  43  46  49  52  55  58  61  64  67  70  73  76  79  82  86  89  92  95  98 100\n",
      "v.to.rast complete.\n",
      "Execution of <v.to.rast --overwrite input=ssurgo use=cat output=soil_ssurgo> finished.\n",
      "Cleaning up default sqlite database ...\n",
      "Cleaning up temporary files...\n"
     ]
    }
   ],
   "source": [
    "!grass78 {LOCATION}/{MAPSET} --exec v.to.rast --overwrite input=ssurgo use=cat output=soil_ssurgo"
   ]
  },
  {
   "cell_type": "markdown",
   "metadata": {},
   "source": [
    "> #### `v.out.ascii` to export a vector map to a .csv file that relates MUKEY to soil texture"
   ]
  },
  {
   "cell_type": "code",
   "execution_count": 36,
   "metadata": {
    "tags": []
   },
   "outputs": [
    {
     "name": "stdout",
     "output_type": "stream",
     "text": [
      "Starting GRASS GIS...\n",
      "Cleaning up temporary files...\n",
      "Executing <v.out.ascii --overwrite input=ssurgo type=centroid output=/home/teaganbaiotto/Documents/bbgci/Test/model/soil_cat_mukey.csv columns=MUKEY format=point separator=comma> ...\n",
      "Fetching data...\n",
      "Execution of <v.out.ascii --overwrite input=ssurgo type=centroid output=/home/teaganbaiotto/Documents/bbgci/Test/model/soil_cat_mukey.csv columns=MUKEY format=point separator=comma> finished.\n",
      "Cleaning up default sqlite database ...\n",
      "Cleaning up temporary files...\n"
     ]
    }
   ],
   "source": [
    "# Generate a table\n",
    "!grass78 {LOCATION}/{MAPSET} --exec v.out.ascii --overwrite input=ssurgo type=centroid output={MODEL_DIR}/soil_cat_mukey.csv columns=MUKEY format=point separator=comma"
   ]
  },
  {
   "cell_type": "markdown",
   "metadata": {},
   "source": [
    "## Get Spatial Attributes Map using `ssurgo_properties_extraction1.R` and Soil Metadata for Later Use"
   ]
  },
  {
   "cell_type": "markdown",
   "metadata": {},
   "source": [
    "<div class=\"alert alert-block alert-danger\">\n",
    "<b>Template Use:</b> Get Spatial Attributes Map using `ssurgo_properties_extraction1.R`, `ssurgo_properties_extraction2.R`, and `ssurgo_properties_extraction3.R` </div>"
   ]
  },
  {
   "cell_type": "markdown",
   "metadata": {},
   "source": [
    "> #### Create `soil_mukey_texture` in `{ssurgo_dir}` directory"
   ]
  },
  {
   "cell_type": "code",
   "execution_count": 37,
   "metadata": {
    "tags": []
   },
   "outputs": [
    {
     "name": "stdout",
     "output_type": "stream",
     "text": [
      "Starting GRASS GIS...\n",
      "Cleaning up temporary files...\n",
      "Executing <Rscript --slave /env/lib/python3.7/site-packages/pyrhessys/r_code/ssurgo_properties_extraction1.R /home/teaganbaiotto/Documents/bbgci/Test/gis_data/soil> ...\n",
      "[1] \"/home/teaganbaiotto/Documents/bbgci/Test/gis_data/soil/tabular\"\n",
      "Execution of <Rscript --slave /env/lib/python3.7/site-packages/pyrhessys/r_code/ssurgo_properties_extraction1.R /home/teaganbaiotto/Documents/bbgci/Test/gis_data/soil> finished.\n",
      "Cleaning up default sqlite database ...\n",
      "Cleaning up temporary files...\n"
     ]
    }
   ],
   "source": [
    "!grass78 {LOCATION}/{MAPSET} --exec Rscript --slave {pr.read_rcode.ssurgo_properties_extraction1} {ssurgo_dir}"
   ]
  },
  {
   "cell_type": "markdown",
   "metadata": {},
   "source": [
    "> #### Create `soil_mukey_rhessys.csv` in `{MODEL_DIR}` directory "
   ]
  },
  {
   "cell_type": "code",
   "execution_count": 38,
   "metadata": {
    "tags": []
   },
   "outputs": [
    {
     "name": "stdout",
     "output_type": "stream",
     "text": [
      "Starting GRASS GIS...\n",
      "Cleaning up temporary files...\n",
      "Executing <Rscript --slave /env/lib/python3.7/site-packages/pyrhessys/r_code/ssurgo_properties_extraction2.R /home/teaganbaiotto/Documents/bbgci/Test/gis_data/soil /home/teaganbaiotto/Documents/bbgci/Test/model/soil_cat_mukey.csv /home/teaganbaiotto/Documents/bbgci/Test/model/soil_mukey_rhessys.csv> ...\n",
      "[1] 0\n",
      "[1] 0\n",
      "[1] 0\n",
      "[1] 0\n",
      "[1] 151\n",
      "[1] \"counting 1 151\"\n",
      "Execution of <Rscript --slave /env/lib/python3.7/site-packages/pyrhessys/r_code/ssurgo_properties_extraction2.R /home/teaganbaiotto/Documents/bbgci/Test/gis_data/soil /home/teaganbaiotto/Documents/bbgci/Test/model/soil_cat_mukey.csv /home/teaganbaiotto/Documents/bbgci/Test/model/soil_mukey_rhessys.csv> finished.\n",
      "Cleaning up default sqlite database ...\n",
      "Cleaning up temporary files...\n"
     ]
    }
   ],
   "source": [
    "!grass78 {LOCATION}/{MAPSET} --exec Rscript --slave {pr.read_rcode.ssurgo_properties_extraction2} {ssurgo_dir} {MODEL_DIR}/soil_cat_mukey.csv {MODEL_DIR}/soil_mukey_rhessys.csv"
   ]
  },
  {
   "cell_type": "markdown",
   "metadata": {
    "tags": []
   },
   "source": [
    "> #### Create Soil Spatial Attributes Map"
   ]
  },
  {
   "cell_type": "code",
   "execution_count": 39,
   "metadata": {
    "scrolled": true,
    "tags": []
   },
   "outputs": [
    {
     "name": "stdout",
     "output_type": "stream",
     "text": [
      "Starting GRASS GIS...\n",
      "Cleaning up temporary files...\n",
      "Executing <Rscript --slave /env/lib/python3.7/site-packages/pyrhessys/r_code/ssurgo_properties_extraction3.R soil_ssurgo /home/teaganbaiotto/Documents/bbgci/Test/model/soil_mukey_rhessys.csv> ...\n",
      "GRASS GIS interface loaded with GRASS version: GRASS 7.8.6 (2021)\n",
      "and location: Test\n",
      "Please note that rgdal will be retired by the end of 2023,\n",
      "plan transition to sf/stars/terra functions using GDAL and PROJ\n",
      "at your earliest convenience.\n",
      "\n",
      "rgdal: version: 1.5-29, (SVN revision 1165M)\n",
      "Geospatial Data Abstraction Library extensions to R successfully loaded\n",
      "Loaded GDAL runtime: GDAL 3.0.4, released 2020/01/28\n",
      "Path to GDAL shared files: /usr/share/gdal\n",
      "GDAL binary built with GEOS: TRUE \n",
      "Loaded PROJ runtime: Rel. 7.0.0, March 1st, 2020, [PJ_VERSION: 700]\n",
      "Path to PROJ shared files: /home/teaganbaiotto/.local/share/proj:/usr/share/proj\n",
      "PROJ CDN enabled: FALSE\n",
      "Linking to sp version:1.4-6\n",
      "To mute warnings of possible GDAL/OSR exportToProj4() degradation,\n",
      "use options(\"rgdal_show_exportToProj4_warnings\"=\"none\") before loading sp or rgdal.\n",
      "Please update the rgrass7 package on R\n",
      "Creating BIL support files...\n",
      "Exporting raster as integer values (bytes=4)\n",
      "   0   3   6   9  12  15  18  21  24  27  30  33  36  39  43  46  49  52  55  58  61  64  67  70  73  76  79  82  86  89  92  95  98 100\n",
      "Warning messages:\n",
      "1: Package rgrass7 is transitioning to package rgrass for GRASS GIS 8.\n",
      "'readRAST' is deprecated. Use 'read_RAST' instead. \n",
      "2: In showSRID(SRS_string, format = \"PROJ\", multiline = \"NO\", prefer_proj = prefer_proj) :\n",
      "  Discarded datum D_unknown in Proj4 definition\n",
      "   0   3   6   9  12  15  18  21  24  27  30  33  36  39  43  46  49  52  55  58  61  64  67  70  73  76  79  82  86  89  92  95  98 100\n",
      "Warning message:\n",
      "Package rgrass7 transitioning to package rgrass for GRASS 8.\n",
      "'writeRAST' is deprecated. Use 'write_RAST' instead. \n",
      "   0   3   6   9  12  15  18  21  24  27  30  33  36  39  43  46  49  52  55  58  61  64  67  70  73  76  79  82  86  89  92  95  98 100\n",
      "Warning message:\n",
      "Package rgrass7 transitioning to package rgrass for GRASS 8.\n",
      "'writeRAST' is deprecated. Use 'write_RAST' instead. \n",
      "   0   3   6   9  12  15  18  21  24  27  30  33  36  39  43  46  49  52  55  58  61  64  67  70  73  76  79  82  86  89  92  95  98 100\n",
      "Warning message:\n",
      "Package rgrass7 transitioning to package rgrass for GRASS 8.\n",
      "'writeRAST' is deprecated. Use 'write_RAST' instead. \n",
      "   0   3   6   9  12  15  18  21  24  27  30  33  36  39  43  46  49  52  55  58  61  64  67  70  73  76  79  82  86  89  92  95  98 100\n",
      "Warning message:\n",
      "Package rgrass7 transitioning to package rgrass for GRASS 8.\n",
      "'writeRAST' is deprecated. Use 'write_RAST' instead. \n",
      "   0   3   6   9  12  15  18  21  24  27  30  33  36  39  43  46  49  52  55  58  61  64  67  70  73  76  79  82  86  89  92  95  98 100\n",
      "Warning message:\n",
      "Package rgrass7 transitioning to package rgrass for GRASS 8.\n",
      "'writeRAST' is deprecated. Use 'write_RAST' instead. \n",
      "   0   3   6   9  12  15  18  21  24  27  30  33  36  39  43  46  49  52  55  58  61  64  67  70  73  76  79  82  86  89  92  95  98 100\n",
      "Warning message:\n",
      "Package rgrass7 transitioning to package rgrass for GRASS 8.\n",
      "'writeRAST' is deprecated. Use 'write_RAST' instead. \n",
      "   0   3   6   9  12  15  18  21  24  27  30  33  36  39  43  46  49  52  55  58  61  64  67  70  73  76  79  82  86  89  92  95  98 100\n",
      "Warning message:\n",
      "Package rgrass7 transitioning to package rgrass for GRASS 8.\n",
      "'writeRAST' is deprecated. Use 'write_RAST' instead. \n",
      "   0   3   6   9  12  15  18  21  24  27  30  33  36  39  43  46  49  52  55  58  61  64  67  70  73  76  79  82  86  89  92  95  98 100\n",
      "Warning message:\n",
      "Package rgrass7 transitioning to package rgrass for GRASS 8.\n",
      "'writeRAST' is deprecated. Use 'write_RAST' instead. \n",
      "   0   3   6   9  12  15  18  21  24  27  30  33  36  39  43  46  49  52  55  58  61  64  67  70  73  76  79  82  86  89  92  95  98 100\n",
      "Warning message:\n",
      "Package rgrass7 transitioning to package rgrass for GRASS 8.\n",
      "'writeRAST' is deprecated. Use 'write_RAST' instead. \n",
      "   0   3   6   9  12  15  18  21  24  27  30  33  36  39  43  46  49  52  55  58  61  64  67  70  73  76  79  82  86  89  92  95  98 100\n",
      "Warning message:\n",
      "Package rgrass7 transitioning to package rgrass for GRASS 8.\n",
      "'writeRAST' is deprecated. Use 'write_RAST' instead. \n",
      "   0   3   6   9  12  15  18  21  24  27  30  33  36  39  43  46  49  52  55  58  61  64  67  70  73  76  79  82  86  89  92  95  98 100\n",
      "Warning message:\n",
      "Package rgrass7 transitioning to package rgrass for GRASS 8.\n",
      "'writeRAST' is deprecated. Use 'write_RAST' instead. \n",
      "   0   3   6   9  12  15  18  21  24  27  30  33  36  39  43  46  49  52  55  58  61  64  67  70  73  76  79  82  86  89  92  95  98 100\n",
      "Warning message:\n",
      "Package rgrass7 transitioning to package rgrass for GRASS 8.\n",
      "'writeRAST' is deprecated. Use 'write_RAST' instead. \n",
      "   0   3   6   9  12  15  18  21  24  27  30  33  36  39  43  46  49  52  55  58  61  64  67  70  73  76  79  82  86  89  92  95  98 100\n",
      "Warning message:\n",
      "Package rgrass7 transitioning to package rgrass for GRASS 8.\n",
      "'writeRAST' is deprecated. Use 'write_RAST' instead. \n",
      "   0   3   6   9  12  15  18  21  24  27  30  33  36  39  43  46  49  52  55  58  61  64  67  70  73  76  79  82  86  89  92  95  98 100\n",
      "Warning message:\n",
      "Package rgrass7 transitioning to package rgrass for GRASS 8.\n",
      "'writeRAST' is deprecated. Use 'write_RAST' instead. \n",
      "   0   3   6   9  12  15  18  21  24  27  30  33  36  39  43  46  49  52  55  58  61  64  67  70  73  76  79  82  86  89  92  95  98 100\n",
      "Warning message:\n",
      "Package rgrass7 transitioning to package rgrass for GRASS 8.\n",
      "'writeRAST' is deprecated. Use 'write_RAST' instead. \n",
      "   0   3   6   9  12  15  18  21  24  27  30  33  36  39  43  46  49  52  55  58  61  64  67  70  73  76  79  82  86  89  92  95  98 100\n",
      "Warning message:\n",
      "Package rgrass7 transitioning to package rgrass for GRASS 8.\n",
      "'writeRAST' is deprecated. Use 'write_RAST' instead. \n",
      "   0   3   6   9  12  15  18  21  24  27  30  33  36  39  43  46  49  52  55  58  61  64  67  70  73  76  79  82  86  89  92  95  98 100\n",
      "Warning message:\n",
      "Package rgrass7 transitioning to package rgrass for GRASS 8.\n",
      "'writeRAST' is deprecated. Use 'write_RAST' instead. \n",
      "   0   3   6   9  12  15  18  21  24  27  30  33  36  39  43  46  49  52  55  58  61  64  67  70  73  76  79  82  86  89  92  95  98 100\n",
      "Warning message:\n",
      "Package rgrass7 transitioning to package rgrass for GRASS 8.\n",
      "'writeRAST' is deprecated. Use 'write_RAST' instead. \n",
      "Execution of <Rscript --slave /env/lib/python3.7/site-packages/pyrhessys/r_code/ssurgo_properties_extraction3.R soil_ssurgo /home/teaganbaiotto/Documents/bbgci/Test/model/soil_mukey_rhessys.csv> finished.\n",
      "Cleaning up default sqlite database ...\n",
      "Cleaning up temporary files...\n"
     ]
    }
   ],
   "source": [
    "!grass78 {LOCATION}/{MAPSET} --exec Rscript --slave {pr.read_rcode.ssurgo_properties_extraction3} soil_ssurgo {MODEL_DIR}/soil_mukey_rhessys.csv"
   ]
  },
  {
   "cell_type": "markdown",
   "metadata": {},
   "source": [
    "## Check Soil Texture in this watershed"
   ]
  },
  {
   "cell_type": "code",
   "execution_count": 40,
   "metadata": {
    "tags": []
   },
   "outputs": [
    {
     "name": "stdout",
     "output_type": "stream",
     "text": [
      "Starting GRASS GIS...\n",
      "Cleaning up temporary files...\n",
      "Executing <r.report map=soil_texture> ...\n",
      "   0   3   6   9  12  15  18  21  24  27  30  33  36  39  43  46  49  52  55  58  61  64  67  70  73  76  79  82  86  89  92  95  98 100\n",
      "+-----------------------------------------------------------------------------+\n",
      "|                         RASTER MAP CATEGORY REPORT                          |\n",
      "|LOCATION: Test                                       Thu Feb  2 09:35:07 2023|\n",
      "|-----------------------------------------------------------------------------|\n",
      "|          north: -146970    east: 1802550                                    |\n",
      "|REGION    south: -149760    west: 1799100                                    |\n",
      "|          res:        30    res:       30                                    |\n",
      "|-----------------------------------------------------------------------------|\n",
      "|MASK: MASK in PERMANENT                                                      |\n",
      "|-----------------------------------------------------------------------------|\n",
      "|MAP: (untitled) (soil_texture in PERMANENT)                                  |\n",
      "|-----------------------------------------------------------------------------|\n",
      "|                            Category Information                             |\n",
      "| #|description                                                               |\n",
      "|-----------------------------------------------------------------------------|\n",
      "| 5|                                                                          |\n",
      "| 8|                                                                          |\n",
      "| 9|                                                                          |\n",
      "|12|                                                                          |\n",
      "| *|no data                                                                   |\n",
      "+-----------------------------------------------------------------------------+\n",
      "Execution of <r.report map=soil_texture> finished.\n",
      "Cleaning up default sqlite database ...\n",
      "Cleaning up temporary files...\n"
     ]
    }
   ],
   "source": [
    "!grass78 {LOCATION}/{MAPSET} --exec r.report map=soil_texture"
   ]
  },
  {
   "cell_type": "markdown",
   "metadata": {},
   "source": [
    "<div class=\"alert alert-block alert-info\">\n",
    "<b>Map:</b> Soil Texture </div>"
   ]
  },
  {
   "cell_type": "code",
   "execution_count": 41,
   "metadata": {
    "tags": []
   },
   "outputs": [
    {
     "name": "stdout",
     "output_type": "stream",
     "text": [
      "Starting GRASS GIS...\n",
      "Cleaning up temporary files...\n",
      "Executing <d.rast map=soil_texture> ...\n",
      "   0   3   6   9  12  15  18  21  24  27  30  33  36  39  43  46  49  52  55  58  61  64  67  70  73  76  79  82  86  89  92  95  98 100\n",
      "Execution of <d.rast map=soil_texture> finished.\n",
      "Cleaning up default sqlite database ...\n",
      "Cleaning up temporary files...\n",
      "Starting GRASS GIS...\n",
      "Cleaning up temporary files...\n",
      "Executing <d.legend raster=soil_texture fontsize=8 title=Soil Texture title_fontsize=12 at=5,50,0,5> ...\n",
      "Execution of <d.legend raster=soil_texture fontsize=8 title=Soil Texture title_fontsize=12 at=5,50,0,5> finished.\n",
      "Cleaning up default sqlite database ...\n",
      "Cleaning up temporary files...\n"
     ]
    },
    {
     "data": {
      "image/png": "[encoded data removed]",
      "text/plain": [
       "<IPython.core.display.Image object>"
      ]
     },
     "execution_count": 41,
     "metadata": {},
     "output_type": "execute_result"
    }
   ],
   "source": [
    "os.environ['GRASS_RENDER_FILE'] = 'soil_texture.png'\n",
    "!grass78 {LOCATION}/{MAPSET} --exec d.rast map=\"soil_texture\"\n",
    "!grass78 {LOCATION}/{MAPSET} --exec d.legend raster=\"soil_texture\" fontsize='8' title='Soil Texture' title_fontsize='12' at=5,50,0,5\n",
    "shutil.copy(os.path.join(CURRENT_DIRECTORY,'soil_texture.png'), os.path.join(PROJECT_DIR,'image_map'))\n",
    "os.remove('soil_texture.png')\n",
    "image = os.path.join(PROJECT_DIR,'image_map','soil_texture.png')\n",
    "Image(filename=image)"
   ]
  },
  {
   "cell_type": "markdown",
   "metadata": {},
   "source": [
    "## Output SSURGO MUKEY ASCII Raster"
   ]
  },
  {
   "cell_type": "markdown",
   "metadata": {},
   "source": [
    "> #### `r.out.ascii` to export raster map to a GRASS ASCII raster representation"
   ]
  },
  {
   "cell_type": "code",
   "execution_count": 42,
   "metadata": {
    "tags": []
   },
   "outputs": [
    {
     "name": "stdout",
     "output_type": "stream",
     "text": [
      "Starting GRASS GIS...\n",
      "Cleaning up temporary files...\n",
      "Executing <r.out.ascii --overwrite input=ssurgo output=/home/teaganbaiotto/Documents/bbgci/Test/model/raster_inputs/ssurgo.txt -i> ...\n",
      "   0   3   6   9  12  15  18  21  24  27  30  33  36  39  43  46  49  52  55  58  61  64  67  70  73  76  79  82  86  89  92  95  98Execution of <r.out.ascii --overwrite input=ssurgo output=/home/teaganbaiotto/Documents/bbgci/Test/model/raster_inputs/ssurgo.txt -i> finished.\n",
      "Cleaning up default sqlite database ...\n",
      "Cleaning up temporary files...\n"
     ]
    }
   ],
   "source": [
    "!grass78 {LOCATION}/{MAPSET} --exec r.out.ascii --overwrite input=\"ssurgo\" output={MODEL_RAST_DIR}/ssurgo.txt -i"
   ]
  },
  {
   "cell_type": "code",
   "execution_count": 43,
   "metadata": {
    "tags": []
   },
   "outputs": [
    {
     "name": "stdout",
     "output_type": "stream",
     "text": [
      "Starting GRASS GIS...\n",
      "Cleaning up temporary files...\n",
      "Executing <r.out.ascii --overwrite input=soil_texture output=/home/teaganbaiotto/Documents/bbgci/Test/model/raster_inputs/soil_texture.txt -i> ...\n",
      "   0   3   6   9  12  15  18  21  24  27  30  33  36  39  43  46  49  52  55  58  61  64  67  70  73  76  79  82  86  89  92  95  98Execution of <r.out.ascii --overwrite input=soil_texture output=/home/teaganbaiotto/Documents/bbgci/Test/model/raster_inputs/soil_texture.txt -i> finished.\n",
      "Cleaning up default sqlite database ...\n",
      "Cleaning up temporary files...\n"
     ]
    }
   ],
   "source": [
    "!grass78 {LOCATION}/{MAPSET} --exec r.out.ascii --overwrite input=\"soil_texture\" output={MODEL_RAST_DIR}/soil_texture.txt -i"
   ]
  },
  {
   "cell_type": "markdown",
   "metadata": {},
   "source": [
    "## Extract LandCover Classification for the watershed"
   ]
  },
  {
   "cell_type": "markdown",
   "metadata": {},
   "source": [
    "> #### `r.in.gdal` to import raster data into GRASS landuse location using GDAL library."
   ]
  },
  {
   "cell_type": "code",
   "execution_count": 44,
   "metadata": {
    "tags": []
   },
   "outputs": [
    {
     "name": "stdout",
     "output_type": "stream",
     "text": [
      "Starting GRASS GIS...\n",
      "Cleaning up temporary files...\n",
      "Executing <r.in.gdal -o --overwrite input=/home/teaganbaiotto/Documents/bbgci/Test/gis_data/nlcd_reprojected.tif output=nlcd location=lulcRAW> ...\n",
      "Location <lulcRAW> created\n",
      "Importing raster map <nlcd>...\n",
      "   0   3   6   9  12  15  18  21  24  27  30  33  36  39  42  45  48  51  54  57  60  63  66  69  72  75  78  81  84  87  90  93  96  99 100\n",
      "Execution of <r.in.gdal -o --overwrite input=/home/teaganbaiotto/Documents/bbgci/Test/gis_data/nlcd_reprojected.tif output=nlcd location=lulcRAW> finished.\n",
      "Cleaning up default sqlite database ...\n",
      "Cleaning up temporary files...\n"
     ]
    }
   ],
   "source": [
    "# Create path for land use if does not exist\n",
    "lulcRAW = \"lulcRAW\"\n",
    "LOCATIONLULC = GISDBASE+'/'+\"lulcRAW\"\n",
    "if os.path.exists(os.path.join(GISDBASE, lulcRAW)):\n",
    "    shutil.rmtree(os.path.join(GISDBASE, lulcRAW))\n",
    "!grass78 {LOCATION}/{MAPSET} --exec r.in.gdal -o --overwrite input={landcover} output=nlcd location={lulcRAW}"
   ]
  },
  {
   "cell_type": "markdown",
   "metadata": {},
   "source": [
    "> #### `r.out.gdal` to export raster map and prepare for import into primary GRASS directory"
   ]
  },
  {
   "cell_type": "code",
   "execution_count": 45,
   "metadata": {
    "tags": []
   },
   "outputs": [
    {
     "name": "stdout",
     "output_type": "stream",
     "text": [
      "Starting GRASS GIS...\n",
      "Cleaning up temporary files...\n",
      "Executing <r.out.gdal --overwrite input=nlcd output=nlcd.tif format=GTiff> ...\n",
      "Checking GDAL data type and nodata value...\n",
      "   2   5   8  11  14  17  20  23  26  29  32  35  38  41  44  47  50  53  56  59  62  65  68  71  74  77  80  83  86  89  92  95  98 100\n",
      "Using GDAL data type <Byte>\n",
      "Input raster map contains cells with NULL-value (no-data). The value 255\n",
      "will be used to represent no-data values in the input map. You can specify\n",
      "a nodata value with the nodata option.\n",
      "Exporting raster data to GTiff format...\n",
      "   2   5   8  11  14  17  20  23  26  29  32  35  38  41  44  47  50  53  56  59  62  65  68  71  74  77  80  83  86  89  92  95  98 100\n",
      "r.out.gdal complete. File <nlcd.tif> created.\n",
      "Execution of <r.out.gdal --overwrite input=nlcd output=nlcd.tif format=GTiff> finished.\n",
      "Cleaning up temporary files...\n"
     ]
    }
   ],
   "source": [
    "!grass78 {LOCATIONLULC}/{MAPSET} --exec r.out.gdal --overwrite input=nlcd output='nlcd.tif' format=GTiff"
   ]
  },
  {
   "cell_type": "markdown",
   "metadata": {},
   "source": [
    "> #### `r.in.gdal` to load ssurgo into main GRASS location"
   ]
  },
  {
   "cell_type": "code",
   "execution_count": 46,
   "metadata": {
    "tags": []
   },
   "outputs": [
    {
     "name": "stdout",
     "output_type": "stream",
     "text": [
      "Starting GRASS GIS...\n",
      "Cleaning up temporary files...\n",
      "Executing <r.in.gdal -o -e --overwrite input=nlcd.tif output=nlcd> ...\n",
      "Over-riding projection check\n",
      "Importing raster map <nlcd>...\n",
      "   0   3   6   9  12  15  18  21  24  27  30  33  36  39  42  45  48  51  54  57  60  63  66  69  72  75  78  81  84  87  90  93  96  99 100\n",
      "Default region for this location updated\n",
      "Region for the current mapset updated\n",
      "Execution of <r.in.gdal -o -e --overwrite input=nlcd.tif output=nlcd> finished.\n",
      "Cleaning up default sqlite database ...\n",
      "Cleaning up temporary files...\n"
     ]
    }
   ],
   "source": [
    "!grass78 {LOCATION}/{MAPSET} --exec r.in.gdal -o -e --overwrite input='nlcd.tif' output=nlcd"
   ]
  },
  {
   "cell_type": "markdown",
   "metadata": {},
   "source": [
    "> #### `g.region` to manage region definitions (extent, cellsize, etc.)"
   ]
  },
  {
   "cell_type": "code",
   "execution_count": 47,
   "metadata": {
    "tags": []
   },
   "outputs": [
    {
     "name": "stdout",
     "output_type": "stream",
     "text": [
      "Starting GRASS GIS...\n",
      "Cleaning up temporary files...\n",
      "Executing <g.region region=grass_region -p> ...\n",
      "projection: 99 (Lambert_Conformal_Conic)\n",
      "zone:       0\n",
      "datum:      ** unknown (default: WGS84) **\n",
      "ellipsoid:  wgs84\n",
      "north:      -146970\n",
      "south:      -149760\n",
      "west:       1799100\n",
      "east:       1802550\n",
      "nsres:      30\n",
      "ewres:      30\n",
      "rows:       93\n",
      "cols:       115\n",
      "cells:      10695\n",
      "Execution of <g.region region=grass_region -p> finished.\n",
      "Cleaning up default sqlite database ...\n",
      "Cleaning up temporary files...\n"
     ]
    }
   ],
   "source": [
    "!grass78 {LOCATION}/{MAPSET} --exec g.region region=grass_region -p"
   ]
  },
  {
   "cell_type": "markdown",
   "metadata": {},
   "source": [
    "## Output NLCD ASCII Raster"
   ]
  },
  {
   "cell_type": "markdown",
   "metadata": {
    "tags": []
   },
   "source": [
    "<div class=\"alert alert-block alert-info\">\n",
    "<b>Map:</b> Land Use </div>"
   ]
  },
  {
   "cell_type": "code",
   "execution_count": 48,
   "metadata": {
    "tags": []
   },
   "outputs": [
    {
     "name": "stdout",
     "output_type": "stream",
     "text": [
      "Starting GRASS GIS...\n",
      "Cleaning up temporary files...\n",
      "Executing <d.rast map=nlcd> ...\n",
      "   0   3   6   9  12  15  18  21  24  27  30  33  36  39  43  46  49  52  55  58  61  64  67  70  73  76  79  82  86  89  92  95  98 100\n",
      "Execution of <d.rast map=nlcd> finished.\n",
      "Cleaning up default sqlite database ...\n",
      "Cleaning up temporary files...\n",
      "Starting GRASS GIS...\n",
      "Cleaning up temporary files...\n",
      "Executing <d.legend raster=nlcd fontsize=8 title=NLCD title_fontsize=12 at=5,50,0,5> ...\n",
      "Execution of <d.legend raster=nlcd fontsize=8 title=NLCD title_fontsize=12 at=5,50,0,5> finished.\n",
      "Cleaning up default sqlite database ...\n",
      "Cleaning up temporary files...\n"
     ]
    },
    {
     "data": {
      "image/png": "[encoded data removed]",
      "text/plain": [
       "<IPython.core.display.Image object>"
      ]
     },
     "execution_count": 48,
     "metadata": {},
     "output_type": "execute_result"
    }
   ],
   "source": [
    "os.environ['GRASS_RENDER_FILE'] = 'nlcd.png'\n",
    "!grass78 {LOCATION}/{MAPSET} --exec d.rast map=\"nlcd\"\n",
    "!grass78 {LOCATION}/{MAPSET} --exec d.legend raster=\"nlcd\" fontsize='8' title='NLCD' title_fontsize='12' at=5,50,0,5\n",
    "shutil.copy(os.path.join(CURRENT_DIRECTORY,'nlcd.png'), os.path.join(PROJECT_DIR,'image_map'))\n",
    "os.remove('nlcd.png')\n",
    "image = os.path.join(PROJECT_DIR,'image_map','nlcd.png')\n",
    "Image(filename=image)"
   ]
  },
  {
   "cell_type": "markdown",
   "metadata": {},
   "source": [
    "> #### `r.out.ascii` to export a raster map to a GRASS ASCII raster representation"
   ]
  },
  {
   "cell_type": "code",
   "execution_count": 49,
   "metadata": {
    "tags": []
   },
   "outputs": [
    {
     "name": "stdout",
     "output_type": "stream",
     "text": [
      "Starting GRASS GIS...\n",
      "Cleaning up temporary files...\n",
      "Executing <r.out.ascii --overwrite input=nlcd output=/home/teaganbaiotto/Documents/bbgci/Test/model/raster_inputs/nlcd.txt -i> ...\n",
      "   0   3   6   9  12  15  18  21  24  27  30  33  36  39  43  46  49  52  55  58  61  64  67  70  73  76  79  82  86  89  92  95  98Execution of <r.out.ascii --overwrite input=nlcd output=/home/teaganbaiotto/Documents/bbgci/Test/model/raster_inputs/nlcd.txt -i> finished.\n",
      "Cleaning up default sqlite database ...\n",
      "Cleaning up temporary files...\n"
     ]
    }
   ],
   "source": [
    "!grass78 {LOCATION}/{MAPSET} --exec r.out.ascii --overwrite input=\"nlcd\" output={MODEL_RAST_DIR}/nlcd.txt -i"
   ]
  },
  {
   "cell_type": "markdown",
   "metadata": {
    "tags": []
   },
   "source": [
    "## Output LAT/LONG ASCII Raster"
   ]
  },
  {
   "cell_type": "markdown",
   "metadata": {},
   "source": [
    "> #### `g.region` to manage region definitions (extent, cellsize, etc.)"
   ]
  },
  {
   "cell_type": "code",
   "execution_count": 50,
   "metadata": {
    "tags": []
   },
   "outputs": [
    {
     "name": "stdout",
     "output_type": "stream",
     "text": [
      "Starting GRASS GIS...\n",
      "Cleaning up temporary files...\n",
      "Executing <g.region region=grass_region -p> ...\n",
      "projection: 99 (Lambert_Conformal_Conic)\n",
      "zone:       0\n",
      "datum:      ** unknown (default: WGS84) **\n",
      "ellipsoid:  wgs84\n",
      "north:      -146970\n",
      "south:      -149760\n",
      "west:       1799100\n",
      "east:       1802550\n",
      "nsres:      30\n",
      "ewres:      30\n",
      "rows:       93\n",
      "cols:       115\n",
      "cells:      10695\n",
      "Execution of <g.region region=grass_region -p> finished.\n",
      "Cleaning up default sqlite database ...\n",
      "Cleaning up temporary files...\n"
     ]
    }
   ],
   "source": [
    "!grass78 {LOCATION}/{MAPSET} --exec g.region region=grass_region -p"
   ]
  },
  {
   "cell_type": "markdown",
   "metadata": {},
   "source": [
    "> #### `r.mapcalc` creates raster map corresponding to provided expression. In this case, maps corresponding to latitude and longitude are generated"
   ]
  },
  {
   "cell_type": "code",
   "execution_count": 51,
   "metadata": {
    "tags": []
   },
   "outputs": [
    {
     "name": "stdout",
     "output_type": "stream",
     "text": [
      "Starting GRASS GIS...\n",
      "Cleaning up temporary files...\n",
      "Executing <r.mapcalc --overwrite expression=xmap = x()> ...\n",
      "   0   3   6   9  12  15  18  21  24  27  30  33  36  39  43  46  49  52  55  58  61  64  67  70  73  76  79  82  86  89  92  95  98 100\n",
      "Execution of <r.mapcalc --overwrite expression=xmap = x()> finished.\n",
      "Cleaning up default sqlite database ...\n",
      "Cleaning up temporary files...\n",
      "Starting GRASS GIS...\n",
      "Cleaning up temporary files...\n",
      "Executing <r.mapcalc --overwrite expression=ymap = y()> ...\n",
      "   0   3   6   9  12  15  18  21  24  27  30  33  36  39  43  46  49  52  55  58  61  64  67  70  73  76  79  82  86  89  92  95  98 100\n",
      "Execution of <r.mapcalc --overwrite expression=ymap = y()> finished.\n",
      "Cleaning up default sqlite database ...\n",
      "Cleaning up temporary files...\n"
     ]
    }
   ],
   "source": [
    "!grass78 {LOCATION}/{MAPSET} --exec r.mapcalc --overwrite expression=\"xmap = x()\"\n",
    "!grass78 {LOCATION}/{MAPSET} --exec r.mapcalc --overwrite expression=\"ymap = y()\""
   ]
  },
  {
   "cell_type": "markdown",
   "metadata": {},
   "source": [
    "<div class=\"alert alert-block alert-info\">\n",
    "<b>Map:</b> Longitude </div>"
   ]
  },
  {
   "cell_type": "code",
   "execution_count": 52,
   "metadata": {
    "tags": []
   },
   "outputs": [
    {
     "name": "stdout",
     "output_type": "stream",
     "text": [
      "Starting GRASS GIS...\n",
      "Cleaning up temporary files...\n",
      "Executing <d.rast map=xmap> ...\n",
      "   0   3   6   9  12  15  18  21  24  27  30  33  36  39  43  46  49  52  55  58  61  64  67  70  73  76  79  82  86  89  92  95  98 100\n",
      "Execution of <d.rast map=xmap> finished.\n",
      "Cleaning up default sqlite database ...\n",
      "Cleaning up temporary files...\n",
      "Starting GRASS GIS...\n",
      "Cleaning up temporary files...\n",
      "Executing <d.legend raster=xmap fontsize=8 title=xmap title_fontsize=12 at=5,50,0,5> ...\n",
      "Execution of <d.legend raster=xmap fontsize=8 title=xmap title_fontsize=12 at=5,50,0,5> finished.\n",
      "Cleaning up default sqlite database ...\n",
      "Cleaning up temporary files...\n"
     ]
    },
    {
     "data": {
      "image/png": "[encoded data removed]",
      "text/plain": [
       "<IPython.core.display.Image object>"
      ]
     },
     "execution_count": 52,
     "metadata": {},
     "output_type": "execute_result"
    }
   ],
   "source": [
    "os.environ['GRASS_RENDER_FILE'] = 'xmap.png'\n",
    "!grass78 {LOCATION}/{MAPSET} --exec d.rast map=\"xmap\"\n",
    "!grass78 {LOCATION}/{MAPSET} --exec d.legend raster=\"xmap\" fontsize='8' title='xmap' title_fontsize='12' at=5,50,0,5\n",
    "shutil.copy(os.path.join(CURRENT_DIRECTORY,'xmap.png'), os.path.join(PROJECT_DIR,'image_map'))\n",
    "os.remove('xmap.png')\n",
    "image = os.path.join(PROJECT_DIR,'image_map','xmap.png')\n",
    "Image(filename=image)"
   ]
  },
  {
   "cell_type": "markdown",
   "metadata": {},
   "source": [
    "> #### `r.out.ascii` to export a raster map to a GRASS ASCII raster representation"
   ]
  },
  {
   "cell_type": "code",
   "execution_count": 53,
   "metadata": {
    "tags": []
   },
   "outputs": [
    {
     "name": "stdout",
     "output_type": "stream",
     "text": [
      "Starting GRASS GIS...\n",
      "Cleaning up temporary files...\n",
      "Executing <r.out.ascii --overwrite input=xmap output=/home/teaganbaiotto/Documents/bbgci/Test/model/raster_inputs/xmap.txt -i> ...\n",
      "   0   3   6   9  12  15  18  21  24  27  30  33  36  39  43  46  49  52  55  58  61  64  67  70  73  76  79  82  86  89  92  95  98Execution of <r.out.ascii --overwrite input=xmap output=/home/teaganbaiotto/Documents/bbgci/Test/model/raster_inputs/xmap.txt -i> finished.\n",
      "Cleaning up default sqlite database ...\n",
      "Cleaning up temporary files...\n"
     ]
    }
   ],
   "source": [
    "!grass78 {LOCATION}/{MAPSET} --exec r.out.ascii --overwrite input=\"xmap\" output={MODEL_RAST_DIR}/xmap.txt -i"
   ]
  },
  {
   "cell_type": "markdown",
   "metadata": {},
   "source": [
    "<div class=\"alert alert-block alert-info\">\n",
    "<b>Map:</b> Latitude </div>"
   ]
  },
  {
   "cell_type": "code",
   "execution_count": 54,
   "metadata": {
    "tags": []
   },
   "outputs": [
    {
     "name": "stdout",
     "output_type": "stream",
     "text": [
      "Starting GRASS GIS...\n",
      "Cleaning up temporary files...\n",
      "Executing <d.rast map=ymap> ...\n",
      "   0   3   6   9  12  15  18  21  24  27  30  33  36  39  43  46  49  52  55  58  61  64  67  70  73  76  79  82  86  89  92  95  98 100\n",
      "Execution of <d.rast map=ymap> finished.\n",
      "Cleaning up default sqlite database ...\n",
      "Cleaning up temporary files...\n",
      "Starting GRASS GIS...\n",
      "Cleaning up temporary files...\n",
      "Executing <d.legend raster=ymap fontsize=8 title=ymap title_fontsize=12 at=5,50,0,5> ...\n",
      "Execution of <d.legend raster=ymap fontsize=8 title=ymap title_fontsize=12 at=5,50,0,5> finished.\n",
      "Cleaning up default sqlite database ...\n",
      "Cleaning up temporary files...\n"
     ]
    },
    {
     "data": {
      "image/png": "[encoded data removed]",
      "text/plain": [
       "<IPython.core.display.Image object>"
      ]
     },
     "execution_count": 54,
     "metadata": {},
     "output_type": "execute_result"
    }
   ],
   "source": [
    "os.environ['GRASS_RENDER_FILE'] = 'ymap.png'\n",
    "!grass78 {LOCATION}/{MAPSET} --exec d.rast map=\"ymap\"\n",
    "!grass78 {LOCATION}/{MAPSET} --exec d.legend raster=\"ymap\" fontsize='8' title='ymap' title_fontsize='12' at=5,50,0,5\n",
    "shutil.copy(os.path.join(CURRENT_DIRECTORY,'ymap.png'), os.path.join(PROJECT_DIR,'image_map'))\n",
    "os.remove('ymap.png')\n",
    "image = os.path.join(PROJECT_DIR,'image_map','ymap.png')\n",
    "Image(filename=image)"
   ]
  },
  {
   "cell_type": "markdown",
   "metadata": {},
   "source": [
    "> #### `r.out.ascii` to export a raster map to a GRASS ASCII raster representation"
   ]
  },
  {
   "cell_type": "code",
   "execution_count": 55,
   "metadata": {
    "tags": []
   },
   "outputs": [
    {
     "name": "stdout",
     "output_type": "stream",
     "text": [
      "Starting GRASS GIS...\n",
      "Cleaning up temporary files...\n",
      "Executing <r.out.ascii --overwrite input=ymap output=/home/teaganbaiotto/Documents/bbgci/Test/model/raster_inputs/ymap.txt -i> ...\n",
      "   0   3   6   9  12  15  18  21  24  27  30  33  36  39  43  46  49  52  55  58  61  64  67  70  73  76  79  82  86  89  92  95  98Execution of <r.out.ascii --overwrite input=ymap output=/home/teaganbaiotto/Documents/bbgci/Test/model/raster_inputs/ymap.txt -i> finished.\n",
      "Cleaning up default sqlite database ...\n",
      "Cleaning up temporary files...\n"
     ]
    }
   ],
   "source": [
    "!grass78 {LOCATION}/{MAPSET} --exec r.out.ascii --overwrite input=\"ymap\" output={MODEL_RAST_DIR}/ymap.txt -i"
   ]
  },
  {
   "cell_type": "markdown",
   "metadata": {},
   "source": [
    "## Output Daymet Cell Re-Positioning ASCII Rasters"
   ]
  },
  {
   "cell_type": "markdown",
   "metadata": {},
   "source": [
    "> #### `r.in.gdal` to import raster data into custom GRASS daymet location using GDAL library."
   ]
  },
  {
   "cell_type": "code",
   "execution_count": 56,
   "metadata": {
    "scrolled": true,
    "tags": []
   },
   "outputs": [
    {
     "name": "stdout",
     "output_type": "stream",
     "text": [
      "Starting GRASS GIS...\n",
      "Cleaning up temporary files...\n",
      "Executing <r.in.gdal -o --overwrite input=/home/teaganbaiotto/Documents/bbgci/Test/gis_data/daymet_cell.tif output=daymet location=daymet> ...\n",
      "Location <daymet> created\n",
      "Importing raster map <daymet>...\n",
      "   0   3   6   9  12  15  18  21  24  27  30  33  36  39  42  45  48  51  54  57  60  63  66  69  72  75  78  81  84  87  90  93  96  99 100\n",
      "Execution of <r.in.gdal -o --overwrite input=/home/teaganbaiotto/Documents/bbgci/Test/gis_data/daymet_cell.tif output=daymet location=daymet> finished.\n",
      "Cleaning up default sqlite database ...\n",
      "Cleaning up temporary files...\n"
     ]
    }
   ],
   "source": [
    "# Create path for daymet data if does not exist\n",
    "daymet = \"daymet\"\n",
    "LOCATIONDAYMET = GISDBASE+'/'+\"daymet\"\n",
    "if os.path.exists(os.path.join(GISDBASE, daymet)):\n",
    "    shutil.rmtree(os.path.join(GISDBASE, daymet))\n",
    "!grass78 {LOCATION}/{MAPSET} --exec r.in.gdal -o --overwrite input={daymet_cell} output=daymet location={daymet}"
   ]
  },
  {
   "cell_type": "markdown",
   "metadata": {},
   "source": [
    "> #### `r.out.gdal` to export raster map and prepare for import into primary GRASS directory"
   ]
  },
  {
   "cell_type": "code",
   "execution_count": 57,
   "metadata": {
    "tags": []
   },
   "outputs": [
    {
     "name": "stdout",
     "output_type": "stream",
     "text": [
      "Starting GRASS GIS...\n",
      "Cleaning up temporary files...\n",
      "Executing <r.out.gdal --overwrite input=daymet output=daymet.tif format=GTiff> ...\n",
      "Checking GDAL data type and nodata value...\n",
      "   2   5   8  11  14  17  20  23  26  29  32  35  38  41  44  47  50  53  56  59  62  65  68  71  74  77  80  83  86  89  92  95  98 100\n",
      "Using GDAL data type <Float64>\n",
      "Input raster map contains cells with NULL-value (no-data). The value -nan\n",
      "will be used to represent no-data values in the input map. You can specify\n",
      "a nodata value with the nodata option.\n",
      "Exporting raster data to GTiff format...\n",
      "ERROR 6: SetColorTable() only supported for Byte or UInt16 bands in TIFF format.\n",
      "   2   5   8  11  14  17  20  23  26  29  32  35  38  41  44  47  50  53  56  59  62  65  68  71  74  77  80  83  86  89  92  95  98 100\n",
      "r.out.gdal complete. File <daymet.tif> created.\n",
      "Execution of <r.out.gdal --overwrite input=daymet output=daymet.tif format=GTiff> finished.\n",
      "Cleaning up temporary files...\n"
     ]
    }
   ],
   "source": [
    "!grass78 {LOCATIONDAYMET}/{MAPSET} --exec r.out.gdal --overwrite input=daymet output='daymet.tif' format=GTiff"
   ]
  },
  {
   "cell_type": "markdown",
   "metadata": {},
   "source": [
    "> #### `r.in.gdal` to load ssurgo into main GRASS location"
   ]
  },
  {
   "cell_type": "code",
   "execution_count": 58,
   "metadata": {
    "tags": []
   },
   "outputs": [
    {
     "name": "stdout",
     "output_type": "stream",
     "text": [
      "Starting GRASS GIS...\n",
      "Cleaning up temporary files...\n",
      "Executing <r.in.gdal -o -e --overwrite input=daymet.tif output=daymet> ...\n",
      "Over-riding projection check\n",
      "Importing raster map <daymet>...\n",
      "   0   3   6   9  12  15  18  21  24  27  30  33  36  39  42  45  48  51  54  57  60  63  66  69  72  75  78  81  84  87  90  93  96  99 100\n",
      "Default region for this location updated\n",
      "Region for the current mapset updated\n",
      "Execution of <r.in.gdal -o -e --overwrite input=daymet.tif output=daymet> finished.\n",
      "Cleaning up default sqlite database ...\n",
      "Cleaning up temporary files...\n"
     ]
    }
   ],
   "source": [
    "!grass78 {LOCATION}/{MAPSET} --exec r.in.gdal -o -e --overwrite input='daymet.tif' output=daymet"
   ]
  },
  {
   "cell_type": "markdown",
   "metadata": {},
   "source": [
    "> #### `g.region` to manage region definitions (extent, cellsize, etc.)"
   ]
  },
  {
   "cell_type": "code",
   "execution_count": 59,
   "metadata": {
    "tags": []
   },
   "outputs": [
    {
     "name": "stdout",
     "output_type": "stream",
     "text": [
      "Starting GRASS GIS...\n",
      "Cleaning up temporary files...\n",
      "Executing <g.region region=grass_region -ap> ...\n",
      "projection: 99 (Lambert_Conformal_Conic)\n",
      "zone:       0\n",
      "datum:      ** unknown (default: WGS84) **\n",
      "ellipsoid:  wgs84\n",
      "north:      -146970\n",
      "south:      -149760\n",
      "west:       1799100\n",
      "east:       1802550\n",
      "nsres:      30\n",
      "ewres:      30\n",
      "rows:       93\n",
      "cols:       115\n",
      "cells:      10695\n",
      "Execution of <g.region region=grass_region -ap> finished.\n",
      "Cleaning up default sqlite database ...\n",
      "Cleaning up temporary files...\n"
     ]
    }
   ],
   "source": [
    "!grass78 {LOCATION}/{MAPSET} --exec g.region region=grass_region -ap"
   ]
  },
  {
   "cell_type": "markdown",
   "metadata": {},
   "source": [
    "<div class=\"alert alert-block alert-info\">\n",
    "<b>Map:</b> Daymet Cell Identifier </div>"
   ]
  },
  {
   "cell_type": "code",
   "execution_count": 60,
   "metadata": {
    "tags": []
   },
   "outputs": [
    {
     "name": "stdout",
     "output_type": "stream",
     "text": [
      "Starting GRASS GIS...\n",
      "Cleaning up temporary files...\n",
      "Executing <d.rast map=daymet> ...\n",
      "   0   3   6   9  12  15  18  21  24  27  30  33  36  39  43  46  49  52  55  58  61  64  67  70  73  76  79  82  86  89  92  95  98 100\n",
      "Execution of <d.rast map=daymet> finished.\n",
      "Cleaning up default sqlite database ...\n",
      "Cleaning up temporary files...\n",
      "Starting GRASS GIS...\n",
      "Cleaning up temporary files...\n",
      "Executing <d.legend raster=daymet fontsize=8 title=Daymet title_fontsize=12 at=5,50,0,5> ...\n",
      "Execution of <d.legend raster=daymet fontsize=8 title=Daymet title_fontsize=12 at=5,50,0,5> finished.\n",
      "Cleaning up default sqlite database ...\n",
      "Cleaning up temporary files...\n"
     ]
    },
    {
     "data": {
      "image/png": "[encoded data removed]",
      "text/plain": [
       "<IPython.core.display.Image object>"
      ]
     },
     "execution_count": 60,
     "metadata": {},
     "output_type": "execute_result"
    }
   ],
   "source": [
    "os.environ['GRASS_RENDER_FILE'] = 'daymet.png'\n",
    "!grass78 {LOCATION}/{MAPSET} --exec d.rast map=\"daymet\"\n",
    "!grass78 {LOCATION}/{MAPSET} --exec d.legend raster=\"daymet\" fontsize='8' title='Daymet' title_fontsize='12' at=5,50,0,5\n",
    "shutil.copy(os.path.join(CURRENT_DIRECTORY,'daymet.png'), os.path.join(PROJECT_DIR,'image_map'))\n",
    "os.remove('daymet.png')\n",
    "image = os.path.join(PROJECT_DIR,'image_map','daymet.png')\n",
    "Image(filename=image)"
   ]
  },
  {
   "cell_type": "markdown",
   "metadata": {},
   "source": [
    "> #### `r.out.ascii` to export a raster map to a GRASS ASCII raster representation"
   ]
  },
  {
   "cell_type": "code",
   "execution_count": 61,
   "metadata": {
    "tags": []
   },
   "outputs": [
    {
     "name": "stdout",
     "output_type": "stream",
     "text": [
      "Starting GRASS GIS...\n",
      "Cleaning up temporary files...\n",
      "Executing <r.out.ascii --overwrite input=daymet output=/home/teaganbaiotto/Documents/bbgci/Test/model/raster_inputs/daymet.txt -i> ...\n",
      "   0   3   6   9  12  15  18  21  24  27  30  33  36  39  43  46  49  52  55  58  61  64  67  70  73  76  79  82  86  89  92  95  98Execution of <r.out.ascii --overwrite input=daymet output=/home/teaganbaiotto/Documents/bbgci/Test/model/raster_inputs/daymet.txt -i> finished.\n",
      "Cleaning up default sqlite database ...\n",
      "Cleaning up temporary files...\n"
     ]
    }
   ],
   "source": [
    "!grass78 {LOCATION}/{MAPSET} --exec r.out.ascii --overwrite input=\"daymet\" output={MODEL_RAST_DIR}/daymet.txt -i"
   ]
  },
  {
   "cell_type": "code",
   "execution_count": null,
   "metadata": {
    "collapsed": true,
    "jupyter": {
     "outputs_hidden": true
    }
   },
   "outputs": [],
   "source": []
  }
 ],
 "metadata": {
  "kernelspec": {
   "display_name": "Python 3",
   "language": "python",
   "name": "python3"
  },
  "language_info": {
   "codemirror_mode": {
    "name": "ipython",
    "version": 3
   },
   "file_extension": ".py",
   "mimetype": "text/x-python",
   "name": "python",
   "nbconvert_exporter": "python",
   "pygments_lexer": "ipython3",
   "version": "3.7.12"
  }
 },
 "nbformat": 4,
 "nbformat_minor": 4
}
