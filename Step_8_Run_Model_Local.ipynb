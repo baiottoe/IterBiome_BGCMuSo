{
 "cells": [
  {
   "cell_type": "markdown",
   "id": "caroline-gathering",
   "metadata": {},
   "source": [
    "## Set the Project Directory and Read in Def Files"
   ]
  },
  {
   "cell_type": "markdown",
   "id": "vietnamese-spectrum",
   "metadata": {},
   "source": [
    "### Set the Project Directory and Set up Notebook"
   ]
  },
  {
   "cell_type": "markdown",
   "id": "adjusted-kingdom",
   "metadata": {},
   "source": [
    "<div class=\"alert alert-block alert-danger\">\n",
    "<b> Project Name Setting: </b> Please set the Project Name for your project </div>"
   ]
  },
  {
   "cell_type": "code",
   "execution_count": 12,
   "id": "c9bc5b9f-53f0-40ec-b1ad-f3eae130b7a8",
   "metadata": {},
   "outputs": [],
   "source": [
    "# CHANGE PROJECT NAME HERE\n",
    "PROJECT_NAME = 'Test'\n",
    "\n",
    "# CURRENT DIRECTORY HERE, SET WHERE THE NOTEBOOKS ARE LOCATED\n",
    "CURRENT_DIRECTORY = '/home/teaganbaiotto/Documents/bbgci'\n",
    "\n",
    "# SET THE SPATIAL RESOLUTION (in meters)\n",
    "SPATIAL_RESOLUTION = 30"
   ]
  },
  {
   "cell_type": "code",
   "execution_count": 13,
   "id": "63eff3e9-ae91-4628-b234-187dfeda0cf6",
   "metadata": {},
   "outputs": [],
   "source": [
    "import os, shutil\n",
    "os.chdir(CURRENT_DIRECTORY)"
   ]
  },
  {
   "cell_type": "markdown",
   "id": "0b062fd5-27bd-4dbe-b74c-c0adaabf06d1",
   "metadata": {},
   "source": [
    "### Set the output frequency of the model and run"
   ]
  },
  {
   "cell_type": "markdown",
   "id": "intense-combination",
   "metadata": {},
   "source": [
    "<div class=\"alert alert-block alert-danger\">\n",
    "<b> Output Frequency Setting: </b> Please set the output frequency (can be either 'daily', 'monthly_agg', or 'annual_agg') </div>"
   ]
  },
  {
   "cell_type": "code",
   "execution_count": 14,
   "id": "675c6c3f-f2f9-4ffb-b5a7-0ca1693caeee",
   "metadata": {},
   "outputs": [
    {
     "data": {
      "text/plain": [
       "0"
      ]
     },
     "execution_count": 14,
     "metadata": {},
     "output_type": "execute_result"
    }
   ],
   "source": [
    "OUTPUT_FREQ = 'monthly_agg'\n",
    "\n",
    "os.system(f\"python {os.path.join(CURRENT_DIRECTORY, 'MODEL.py')} {PROJECT_NAME} {CURRENT_DIRECTORY} {OUTPUT_FREQ} {SPATIAL_RESOLUTION}\")"
   ]
  },
  {
   "cell_type": "code",
   "execution_count": null,
   "id": "8c87ab8d-5a99-410f-ae3a-6b6e6b4008c8",
   "metadata": {},
   "outputs": [],
   "source": []
  }
 ],
 "metadata": {
  "kernelspec": {
   "display_name": "Python 3",
   "language": "python",
   "name": "python3"
  },
  "language_info": {
   "codemirror_mode": {
    "name": "ipython",
    "version": 3
   },
   "file_extension": ".py",
   "mimetype": "text/x-python",
   "name": "python",
   "nbconvert_exporter": "python",
   "pygments_lexer": "ipython3",
   "version": "3.7.12"
  }
 },
 "nbformat": 4,
 "nbformat_minor": 5
}
