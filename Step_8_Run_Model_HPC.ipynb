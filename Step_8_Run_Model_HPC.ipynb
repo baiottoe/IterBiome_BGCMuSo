{
 "cells": [
  {
   "cell_type": "markdown",
   "id": "removed-riding",
   "metadata": {},
   "source": [
    "# Initialize and Run Iterative Biome-BGC Muso 5 Model\n",
    "### Use Kernel Python 3.8"
   ]
  },
  {
   "cell_type": "markdown",
   "id": "unique-standing",
   "metadata": {},
   "source": [
    "This notebook walks through the process of reading in all pre-processed information generated in previous steps and running an geographically-iterative, parallelized version of Biome-BGC Muso."
   ]
  },
  {
   "cell_type": "markdown",
   "id": "caroline-gathering",
   "metadata": {},
   "source": [
    "## Set the Project Directory and Read in Def Files"
   ]
  },
  {
   "cell_type": "markdown",
   "id": "vietnamese-spectrum",
   "metadata": {},
   "source": [
    "### Set the Project Directory and Set up Notebook"
   ]
  },
  {
   "cell_type": "markdown",
   "id": "adjusted-kingdom",
   "metadata": {},
   "source": [
    "<div class=\"alert alert-block alert-danger\">\n",
    "<b> Project Name Setting: </b> Please set the Project Name for your project </div>"
   ]
  },
  {
   "cell_type": "code",
   "execution_count": null,
   "id": "c9bc5b9f-53f0-40ec-b1ad-f3eae130b7a8",
   "metadata": {},
   "outputs": [],
   "source": [
    "computing_id = ''\n",
    "\n",
    "# CHANGE PROJECT NAME HERE\n",
    "PROJECT_NAME = \"\"\n",
    "\n",
    "# CURRENT DIRECTORY HERE\n",
    "CURRENT_DIRECTORY = f\"/scratch/{computing_id}/Biome-bgc-new\"\n",
    "\n",
    "# MODEL RESOLUTION\n",
    "RESOLUTION = 30"
   ]
  },
  {
   "cell_type": "code",
   "execution_count": null,
   "id": "63eff3e9-ae91-4628-b234-187dfeda0cf6",
   "metadata": {},
   "outputs": [],
   "source": [
    "import os, shutil\n",
    "script_dir = os.path.join(os.getcwd(),'MODEL.py')\n",
    "os.chdir(CURRENT_DIRECTORY)"
   ]
  },
  {
   "cell_type": "markdown",
   "id": "5bf8713e-3821-4c16-be13-307cac728b64",
   "metadata": {},
   "source": [
    "### Install and Load Slurm Magic"
   ]
  },
  {
   "cell_type": "code",
   "execution_count": null,
   "id": "bbbe8764-cdf7-4145-bec9-909b02bc875b",
   "metadata": {},
   "outputs": [],
   "source": [
    "!pip install git+https://github.com/NERSC/slurm-magic.git"
   ]
  },
  {
   "cell_type": "code",
   "execution_count": null,
   "id": "60e52720-400c-4efa-8e18-586605b5c9b5",
   "metadata": {},
   "outputs": [],
   "source": [
    "%load_ext slurm_magic"
   ]
  },
  {
   "cell_type": "markdown",
   "id": "0b062fd5-27bd-4dbe-b74c-c0adaabf06d1",
   "metadata": {},
   "source": [
    "### Create Slurm Job to Run Model"
   ]
  },
  {
   "cell_type": "markdown",
   "id": "da15191d-84c2-452c-86f9-9afd8025bcbd",
   "metadata": {},
   "source": [
    "The following cell contains the script needed to submit a slurm job. There are a few things that you will need to change. First, please change the number of cores to your desired amount. The larger the area of simulation, the more cores you will need. A good rule of thumb is to use one core per Daymet cell being simulated up to the maximum amount (40). As it is currently set up, this model is limited to only 1 node for the time being.\n",
    "\n",
    "Second, change the runtime to an adequate amount. One daymet patch on one core running daily for 40 years takes ~30 minutes. Also change the allocation and mail settings.\n",
    "\n",
    "Lastly, change the final command found in this script. The format should match that show below and have the model variables shown in brackets in place.\n",
    "\n",
    "singularity exec /share/resources/containers/singularity/rhessys/rhessys-leb3t.sif python {CURRENT_DIRECTORY}/MODEL.py {MODEL_NAME} {CURRENT_DIRECTORY} {FREQUENCY (daily, monthly_agg, or annual_agg)} {CELL_SIZE}\n",
    "\n"
   ]
  },
  {
   "cell_type": "code",
   "execution_count": null,
   "id": "f1b860a7-9367-4ba1-bdbe-0b29d6494a36",
   "metadata": {},
   "outputs": [],
   "source": [
    "job_name = PROJECT_NAME\n",
    "\n",
    "with open(os.path.join(CURRENT_DIRECTORY,job_name+'.job'),'w') as f:\n",
    "    f.writelines('#!/bin/bash\\n')\n",
    "    f.writelines('#SBATCH --partition=instructional\\n')\n",
    "    f.writelines('#SBATCH --nodes=1\\n')\n",
    "    f.writelines('#SBATCH --ntasks-per-node=12\\n')\n",
    "    f.writelines('#SBATCH -t 1:00:00\\n')\n",
    "    f.writelines(f'#SBATCH --output={job_name}.out\\n')\n",
    "    f.writelines(f'#SBATCH --error={job_name}.err\\n')\n",
    "    f.writelines(f'#SBATCH --job-name={job_name}\\n')\n",
    "    f.writelines('#SBATCH -A evhy5700-leb3t\\n')\n",
    "    f.writelines(f'#SBATCH --mail-user={computing_id}@virginia.edu\\n')\n",
    "    f.writelines(f'#SBATCH --mail-type=ALL\\n')\n",
    "\n",
    "    f.writelines('module purge\\n')\n",
    "    f.writelines('module load singularity\\n')\n",
    "\n",
    "    f.writelines(f'singularity exec /share/resources/containers/singularity/rhessys/rhessys-leb3t.sif python {script_dir} {PROJECT_NAME} {CURRENT_DIRECTORY} daily {RESOLUTION}\\n')"
   ]
  },
  {
   "cell_type": "code",
   "execution_count": null,
   "id": "4a719e4a-e0c0-445a-a19b-b51f8abf37a0",
   "metadata": {},
   "outputs": [],
   "source": [
    "# !rm {os.path.join(CURRENT_DIRECTORY, PROJECT_NAME, 'model', 'ini_file','gridcells_complete.txt')}   ## Uncomment if you run the model again"
   ]
  },
  {
   "cell_type": "code",
   "execution_count": null,
   "id": "146c9292-12f2-44e6-9c25-089ff240486c",
   "metadata": {},
   "outputs": [],
   "source": [
    "%sbatch {job_name}.job"
   ]
  },
  {
   "cell_type": "code",
   "execution_count": null,
   "id": "010a5569-3123-4ea0-a793-5485f039993e",
   "metadata": {},
   "outputs": [],
   "source": [
    "%squeue -u {computing_id}"
   ]
  },
  {
   "cell_type": "code",
   "execution_count": null,
   "id": "8c87ab8d-5a99-410f-ae3a-6b6e6b4008c8",
   "metadata": {},
   "outputs": [],
   "source": []
  }
 ],
 "metadata": {
  "kernelspec": {
   "display_name": "Python 3",
   "language": "python",
   "name": "python3"
  },
  "language_info": {
   "codemirror_mode": {
    "name": "ipython",
    "version": 3
   },
   "file_extension": ".py",
   "mimetype": "text/x-python",
   "name": "python",
   "nbconvert_exporter": "python",
   "pygments_lexer": "ipython3",
   "version": "3.8.8"
  }
 },
 "nbformat": 4,
 "nbformat_minor": 5
}
